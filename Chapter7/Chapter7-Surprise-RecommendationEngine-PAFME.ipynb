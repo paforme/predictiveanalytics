{
 "cells": [
  {
   "cell_type": "markdown",
   "id": "54c94547",
   "metadata": {},
   "source": [
    "# Recommendation Enging using Surprise in Scikit-learn\n",
    "## Chapter 7\n",
    "### Predictive Analytics for the Modern Enterprise "
   ]
  },
  {
   "cell_type": "markdown",
   "id": "1e008bb6",
   "metadata": {},
   "source": [
    "This is jupyter notebook that can be used to follow along the code examples for Chapter 7 Section 1 - Unsupervised learning of the book. The code examples go through some of the functionality that can be used to work with the sci-kit learn library in Python to work with unsupervised learning models. \n",
    "\n",
    "The notebook has been tested using the following pre-requisite:\n",
    "\n",
    "Python V3.9.13 - https://www.python.org/\n",
    "Anaconda Navigator V3 for Python 3.9 - https://www.anaconda.com/\n",
    "Jupyter - V6.4.12 - https://jupyter.org/\n",
    "Desktop computer - macOS Ventura V13.1\n",
    "\n",
    "Documentation referece for Scikit Learn: https://scikit-learn.org/stable/"
   ]
  },
  {
   "cell_type": "markdown",
   "id": "7ca80814",
   "metadata": {},
   "source": [
    "### Pre-requisites\n"
   ]
  },
  {
   "cell_type": "markdown",
   "id": "8d0a9255",
   "metadata": {},
   "source": [
    "You will need to install the scikit-learn package in your envionrment. \n",
    "In your environment run the following command\n",
    "\n",
    "```bash\n",
    "conda install -c conda-forge scikit-learn\n",
    "conda install -c conda-forge scikit-surprise\n",
    "```\n",
    "OR\n",
    "```bash\n",
    "pip install -U scikit-learn\n",
    "pip install scikit-surprise\n",
    "```"
   ]
  },
  {
   "cell_type": "markdown",
   "id": "7221ac1f",
   "metadata": {},
   "source": [
    "This code uses the Movies dataset\n",
    "\n",
    "* Orginal Dataset: https://files.grouplens.org/datasets/movielens/ml-100k.zip \n",
    "* A Local copy can be downloaded here: https://github.com/paforme/predictiveanalytics/blob/main/Chapter7/Datasets/ml-100k/ml-100k.zip"
   ]
  },
  {
   "cell_type": "code",
   "execution_count": 1,
   "id": "fc09c716",
   "metadata": {},
   "outputs": [],
   "source": [
    "import pandas as pd\n",
    "import numpy as np\n",
    "import itertools as it\n",
    "\n",
    "from surprise import accuracy, Dataset, SVD, KNNBasic\n",
    "from surprise import KNNWithMeans, KNNBaseline, Reader\n",
    "from surprise.model_selection import cross_validate\n",
    "from surprise.model_selection import train_test_split\n",
    "from collections import defaultdict\n",
    "from itertools import chain"
   ]
  },
  {
   "cell_type": "code",
   "execution_count": 2,
   "id": "fac8d92e",
   "metadata": {},
   "outputs": [],
   "source": [
    "dataset = \"ml-100k\" #We are using a built in dataset\n",
    "algo = SVD()\n",
    "uid = '1'\n",
    "top = 10"
   ]
  },
  {
   "cell_type": "code",
   "execution_count": 3,
   "id": "8b1d3a92",
   "metadata": {},
   "outputs": [],
   "source": [
    "def data_loader(dataset):\n",
    "    data = Dataset.load_builtin(dataset)\n",
    "    return data\n",
    "\n",
    "def train_model(algo, trainset):    \n",
    "    algo.fit(trainset)\n",
    "    return algo\n",
    "\n",
    "#The below function is taken from surprise documentation that can be found here: https://surprise.readthedocs.io/en/stable/FAQ.html#how-to-get-the-k-nearest-neighbors-of-a-user-or-item\n",
    "#I am not the original author of this function and am simply repurposeing it\n",
    "def get_top_n(predictions, n=10):\n",
    "    top_n = defaultdict(list)\n",
    "    for uid, iid, true_r, est, _ in predictions:\n",
    "        top_n[uid].append((iid, est))\n",
    "\n",
    "    for uid, user_ratings in top_n.items():\n",
    "        user_ratings.sort(key=lambda x: x[1], reverse=True)\n",
    "        top_n[uid] = user_ratings[:n]\n",
    "\n",
    "    return top_n\n",
    "\n",
    "#The below function is taken from surprise documentation that can be found here: https://surprise.readthedocs.io/en/stable/FAQ.html#how-to-get-the-k-nearest-neighbors-of-a-user-or-item\n",
    "#I am not the original author of this function and am simply repurposeing it\n",
    "def read_item_names():\n",
    "\n",
    "    file_name = \"./Datasets/ml-100k/u.item\" #Change this to where the dataset is downloaded\n",
    "    rid_to_name = {}\n",
    "    name_to_rid = {}\n",
    "    with open(file_name, encoding=\"ISO-8859-1\") as f:\n",
    "        for line in f:\n",
    "            line = line.split(\"|\")\n",
    "            rid_to_name[line[0]] = line[1]\n",
    "            name_to_rid[line[1]] = line[0]\n",
    "\n",
    "    return rid_to_name, name_to_rid\n",
    "\n",
    "def get_movie_names(uid,predictions,top):\n",
    "    top_n = get_top_n(predictions, n=top)\n",
    "    top_n_pd = pd.DataFrame(top_n)\n",
    "    recommendation_ids = top_n_pd[uid].apply(lambda x: x[0])\n",
    "    iid_to_name, name_to_iid = read_item_names()\n",
    "    recommendations = (iid_to_name[iid] for iid in recommendation_ids)\n",
    "    return recommendations\n",
    "\n",
    "def run_predictions(algo):\n",
    "    data = data_loader(dataset)\n",
    "    trainset, testset = train_test_split(data, test_size=0.25)\n",
    "    algo = train_model(algo, trainset)\n",
    "    predictions = algo.test(testset)\n",
    "    print(accuracy.rmse(predictions), accuracy.mae(predictions) )\n",
    "\n",
    "    #Than predict ratings for all pairs (u, i) that are NOT in the training set.\n",
    "    testset = trainset.build_anti_testset()\n",
    "    predictions = algo.test(testset)\n",
    "    recommendations = get_movie_names(uid,predictions,top)\n",
    "    print(\"\\nTop 10 Movie recommendations for uid:\", uid)\n",
    "    for movie in recommendations:\n",
    "        print(movie)\n"
   ]
  },
  {
   "cell_type": "code",
   "execution_count": 4,
   "id": "2ddc1d8f",
   "metadata": {},
   "outputs": [
    {
     "name": "stdout",
     "output_type": "stream",
     "text": [
      "RMSE: 0.9375\n",
      "MAE:  0.7377\n",
      "0.9375435725015225 0.737691870283514\n",
      "\n",
      "Top 10 Movie recommendations for uid: 1\n",
      "Close Shave, A (1995)\n",
      "Raiders of the Lost Ark (1981)\n",
      "Duck Soup (1933)\n",
      "Star Wars (1977)\n",
      "Bridge on the River Kwai, The (1957)\n",
      "Secrets & Lies (1996)\n",
      "Casablanca (1942)\n",
      "Some Like It Hot (1959)\n",
      "Fargo (1996)\n",
      "Maltese Falcon, The (1941)\n"
     ]
    }
   ],
   "source": [
    "#SVD - With Default options \n",
    "algo = SVD()\n",
    "run_predictions(algo)"
   ]
  },
  {
   "cell_type": "code",
   "execution_count": 5,
   "id": "0de9bf78",
   "metadata": {
    "scrolled": false
   },
   "outputs": [
    {
     "name": "stdout",
     "output_type": "stream",
     "text": [
      "Computing the cosine similarity matrix...\n",
      "Done computing similarity matrix.\n",
      "RMSE: 1.0252\n",
      "MAE:  0.8146\n",
      "1.0252284380966419 0.8145548569839735\n",
      "\n",
      "Top 10 Movie recommendations for uid: 1\n",
      "Hearts and Minds (1996)\n",
      "Cyclo (1995)\n",
      "Visitors, The (Visiteurs, Les) (1993)\n",
      "Coldblooded (1995)\n",
      "My Life and Times With Antonin Artaud (En compagnie d'Antonin Artaud) (1993)\n",
      "Intimate Relations (1996)\n",
      "Substance of Fire, The (1996)\n",
      "The Deadly Cure (1996)\n",
      "He Walked by Night (1948)\n",
      "Crows and Sparrows (1949)\n"
     ]
    }
   ],
   "source": [
    "#KNN - Basic - item based / cosine similarity\n",
    "data = Dataset.load_builtin(\"ml-100k\")\n",
    "trainset = data.build_full_trainset()\n",
    "\n",
    "sim_options = {\n",
    "    \"name\": \"cosine\",\n",
    "    \"user_based\": False,  # compute  similarities between items\n",
    "}\n",
    "algo = KNNBasic(sim_options=sim_options)\n",
    "run_predictions(algo)"
   ]
  },
  {
   "cell_type": "code",
   "execution_count": 6,
   "id": "0234f434",
   "metadata": {},
   "outputs": [
    {
     "name": "stdout",
     "output_type": "stream",
     "text": [
      "Computing the cosine similarity matrix...\n",
      "Done computing similarity matrix.\n",
      "RMSE: 0.9464\n",
      "MAE:  0.7462\n",
      "0.9463682476160932 0.7461656849188013\n",
      "\n",
      "Top 10 Movie recommendations for uid: 1\n",
      "Saint of Fort Washington, The (1993)\n",
      "Santa with Muscles (1996)\n",
      "Star Kid (1997)\n",
      "Entertaining Angels: The Dorothy Day Story (1996)\n",
      "Great Day in Harlem, A (1994)\n",
      "Someone Else's America (1995)\n",
      "Lamerica (1994)\n",
      "Aiqing wansui (1994)\n",
      "Leading Man, The (1996)\n",
      "Some Mother's Son (1996)\n"
     ]
    }
   ],
   "source": [
    "#KNN - With Means - user based / cosine similarity\n",
    "sim_options = {\n",
    "    \"name\": \"cosine\",\n",
    "    \"user_based\": True,  # compute  similarities between users\n",
    "}\n",
    "algo = KNNWithMeans(sim_options=sim_options)\n",
    "run_predictions(algo)"
   ]
  },
  {
   "cell_type": "code",
   "execution_count": 7,
   "id": "b7f88d91",
   "metadata": {},
   "outputs": [
    {
     "name": "stdout",
     "output_type": "stream",
     "text": [
      "Computing the cosine similarity matrix...\n",
      "Done computing similarity matrix.\n",
      "Computing the cosine similarity matrix...\n",
      "Done computing similarity matrix.\n",
      "Computing the cosine similarity matrix...\n",
      "Done computing similarity matrix.\n",
      "Computing the cosine similarity matrix...\n",
      "Done computing similarity matrix.\n",
      "Computing the cosine similarity matrix...\n",
      "Done computing similarity matrix.\n",
      "Evaluating RMSE, MAE of algorithm KNNWithMeans on 5 split(s).\n",
      "\n",
      "                  Fold 1  Fold 2  Fold 3  Fold 4  Fold 5  Mean    Std     \n",
      "RMSE (testset)    0.9569  0.9546  0.9588  0.9543  0.9526  0.9554  0.0022  \n",
      "MAE (testset)     0.7561  0.7507  0.7557  0.7556  0.7553  0.7547  0.0020  \n",
      "Fit time          0.39    0.38    0.39    0.38    0.38    0.38    0.00    \n",
      "Test time         2.36    2.36    2.32    2.41    2.42    2.38    0.04    \n"
     ]
    },
    {
     "data": {
      "text/plain": [
       "{'test_rmse': array([0.95685067, 0.9545998 , 0.95883383, 0.95429778, 0.95257005]),\n",
       " 'test_mae': array([0.75611561, 0.75067524, 0.7556716 , 0.75564242, 0.75525498]),\n",
       " 'fit_time': (0.3898501396179199,\n",
       "  0.38194918632507324,\n",
       "  0.38570117950439453,\n",
       "  0.38083577156066895,\n",
       "  0.3848998546600342),\n",
       " 'test_time': (2.35876202583313,\n",
       "  2.3632688522338867,\n",
       "  2.3249189853668213,\n",
       "  2.413224220275879,\n",
       "  2.4221909046173096)}"
      ]
     },
     "execution_count": 7,
     "metadata": {},
     "output_type": "execute_result"
    }
   ],
   "source": [
    "data = data_loader(dataset)\n",
    "# Run 5-fold cross-validation and print results\n",
    "cross_validate(algo, data, measures=[\"RMSE\", \"MAE\"], cv=5, verbose=True)"
   ]
  },
  {
   "cell_type": "markdown",
   "id": "8f5f60fd",
   "metadata": {},
   "source": [
    "### Two step recommender \n"
   ]
  },
  {
   "cell_type": "code",
   "execution_count": 8,
   "id": "ec8b2df5",
   "metadata": {},
   "outputs": [],
   "source": [
    "def get_neighbours(algo, mrid):\n",
    "\n",
    "    #Convert Movie RawID to innerID\n",
    "    movie_inner_id = algo.trainset.to_inner_iid(mrid)\n",
    "\n",
    "    # Retrieve inner ids of the nearest neighbors of the movie mrid\n",
    "    movie_neighbors = algo.get_neighbors(movie_inner_id, k=10)\n",
    "\n",
    "    # Convert inner ids to rids\n",
    "    movie_neighbors = (\n",
    "        algo.trainset.to_raw_iid(inner_id) for inner_id in movie_neighbors\n",
    "    )\n",
    "    return movie_neighbors"
   ]
  },
  {
   "cell_type": "markdown",
   "id": "1cdad557",
   "metadata": {},
   "source": [
    "#### Stage 1"
   ]
  },
  {
   "cell_type": "code",
   "execution_count": 9,
   "id": "987bc78d",
   "metadata": {},
   "outputs": [],
   "source": [
    "uid = '1' #User to get recommendations for"
   ]
  },
  {
   "cell_type": "code",
   "execution_count": 10,
   "id": "2716492f",
   "metadata": {},
   "outputs": [],
   "source": [
    "#Step 1 - Load the full dataset (100k movies)\n",
    "data = data_loader(dataset) #Load the dataset\n",
    "trainset = data.build_full_trainset() #Build the trainingset based on complete data"
   ]
  },
  {
   "cell_type": "code",
   "execution_count": 11,
   "id": "f547e793",
   "metadata": {
    "scrolled": true
   },
   "outputs": [],
   "source": [
    "#Get all movies rated by the user - uid\n",
    "user_items = trainset.ur[int(uid)]\n",
    "#Get the top 10 user rated movies\n",
    "user_top_rated = sorted(user_items, key=lambda x: x[1], reverse=True)[:10]"
   ]
  },
  {
   "cell_type": "code",
   "execution_count": 12,
   "id": "5c462c1c",
   "metadata": {
    "scrolled": true
   },
   "outputs": [
    {
     "name": "stdout",
     "output_type": "stream",
     "text": [
      "Computing the cosine similarity matrix...\n",
      "Done computing similarity matrix.\n"
     ]
    },
    {
     "data": {
      "text/plain": [
       "<surprise.prediction_algorithms.knns.KNNWithMeans at 0x7f88304f04c0>"
      ]
     },
     "execution_count": 12,
     "metadata": {},
     "output_type": "execute_result"
    }
   ],
   "source": [
    "#Build the retriever model - item based cosine similarity\n",
    "sim_options = {'name': 'cosine', 'user_based': False}\n",
    "item_model = KNNWithMeans(sim_options=sim_options)\n",
    "item_model.fit(trainset)"
   ]
  },
  {
   "cell_type": "code",
   "execution_count": 13,
   "id": "79b6832c",
   "metadata": {},
   "outputs": [],
   "source": [
    "#Get nearest neigbours for all 10 top_rated_movies \n",
    "all_neighbors = 0\n",
    "\n",
    "for movie_rid in user_top_rated:\n",
    "    neighbors = get_neighbours(item_model,str(movie_rid[0]))\n",
    "    if(all_neighbors!=0):\n",
    "        all_neighbors= it.chain(all_neighbors,neighbors)\n",
    "    else:\n",
    "        all_neighbors = neighbors"
   ]
  },
  {
   "cell_type": "code",
   "execution_count": 14,
   "id": "fb899df9",
   "metadata": {},
   "outputs": [
    {
     "name": "stdout",
     "output_type": "stream",
     "text": [
      "100\n"
     ]
    }
   ],
   "source": [
    "#Convert the all_neighbors iterator to a list\n",
    "mylist = list(all_neighbors)\n",
    "print(len(mylist))"
   ]
  },
  {
   "cell_type": "markdown",
   "id": "45c5497e",
   "metadata": {},
   "source": [
    "#### Stage 2"
   ]
  },
  {
   "cell_type": "code",
   "execution_count": 15,
   "id": "0bbb203e",
   "metadata": {},
   "outputs": [],
   "source": [
    "#Build a new dataset with nearest neighbours of top_rated_movies\n",
    "data = data_loader(dataset)\n",
    "my_trainset = data.build_full_trainset()\n",
    "my_data = my_trainset.build_testset() #Take full dataset\n",
    "\n",
    "#Filter only data where the movie is in the top neighbors\n",
    "filtered_data = [d for d in my_data if d[1] in mylist] \n",
    "\n",
    "#Add an entry from the existing set \n",
    "#just in case there is no movie rated by this user in the neighbours\n",
    "for d in my_data:\n",
    "    if d[0] == uid:\n",
    "        filtered_data.append(d)\n",
    "        break\n",
    "        \n",
    "filtered_data = pd.DataFrame(filtered_data) #Create a dataframe for filtered data\n",
    "filtered_data.columns = [\"userID\", \"itemID\", \"rating\"]\n",
    "\n",
    "reader = Reader(rating_scale=(1, 5))\n",
    "#Read data back in to create a testset\n",
    "my_data = Dataset.load_from_df(filtered_data\n",
    "                               [[\"userID\", \"itemID\", \"rating\"]],\n",
    "                               reader) \n",
    "\n",
    "new_trainset = my_data.build_full_trainset() #Create filtered training set"
   ]
  },
  {
   "cell_type": "code",
   "execution_count": 16,
   "id": "53b946e6",
   "metadata": {
    "scrolled": true
   },
   "outputs": [
    {
     "name": "stdout",
     "output_type": "stream",
     "text": [
      "3034\n"
     ]
    }
   ],
   "source": [
    "print(new_trainset.n_ratings)"
   ]
  },
  {
   "cell_type": "code",
   "execution_count": 17,
   "id": "1fe7ffe6",
   "metadata": {},
   "outputs": [
    {
     "name": "stdout",
     "output_type": "stream",
     "text": [
      "Computing the cosine similarity matrix...\n",
      "Done computing similarity matrix.\n"
     ]
    },
    {
     "data": {
      "text/plain": [
       "<surprise.prediction_algorithms.knns.KNNWithMeans at 0x7f88304eb580>"
      ]
     },
     "execution_count": 17,
     "metadata": {},
     "output_type": "execute_result"
    }
   ],
   "source": [
    "#Train user model with the new dataset\n",
    "sim_options = {'name': 'cosine', 'user_based': True}\n",
    "user_model = KNNWithMeans(sim_options=sim_options)\n",
    "user_model.fit(new_trainset)"
   ]
  },
  {
   "cell_type": "code",
   "execution_count": 18,
   "id": "dd4e5716",
   "metadata": {},
   "outputs": [],
   "source": [
    "#Build an anti_testset for all known movies and users \n",
    "#in the testset where the ratings are unknown for (u, i) pair\n",
    "testset = new_trainset.build_anti_testset()\n",
    "predictions = user_model.test(testset)"
   ]
  },
  {
   "cell_type": "code",
   "execution_count": 19,
   "id": "4d48b02a",
   "metadata": {},
   "outputs": [],
   "source": [
    "#Get top n predictions for all users\n",
    "#top_n = get_top_n(predictions, n=10)\n",
    "\n",
    "# Print the recommended items for each user\n",
    "#for uid, user_ratings in top_n.items():\n",
    "#    print(uid, [iid for (iid, _) in user_ratings])"
   ]
  },
  {
   "cell_type": "code",
   "execution_count": 20,
   "id": "a216b633",
   "metadata": {},
   "outputs": [
    {
     "name": "stdout",
     "output_type": "stream",
     "text": [
      "\n",
      "Top 10 Movie recommendations for user with uid: 1\n",
      "---------------------------------------------------\n",
      "\n",
      "Hearts and Minds (1996)\n",
      "So Dear to My Heart (1949)\n",
      "Beautiful Thing (1996)\n",
      "Jackie Brown (1997)\n",
      "City of Lost Children, The (1995)\n",
      "North by Northwest (1959)\n",
      "Thieves (Voleurs, Les) (1996)\n",
      "Ghost in the Shell (Kokaku kidotai) (1995)\n",
      "Ninotchka (1939)\n",
      "In the Name of the Father (1993)\n"
     ]
    }
   ],
   "source": [
    "#Print top 10 movie recommendations for user(uid)\n",
    "recommendations = get_movie_names(uid,predictions,10)\n",
    "print(\"\\nTop 10 Movie recommendations for user with uid:\", uid)\n",
    "print(\"---------------------------------------------------\\n\")\n",
    "for movie in recommendations:\n",
    "    print(movie)"
   ]
  },
  {
   "cell_type": "code",
   "execution_count": null,
   "id": "2a4a2854",
   "metadata": {},
   "outputs": [],
   "source": []
  }
 ],
 "metadata": {
  "kernelspec": {
   "display_name": "Python 3 (ipykernel)",
   "language": "python",
   "name": "python3"
  },
  "language_info": {
   "codemirror_mode": {
    "name": "ipython",
    "version": 3
   },
   "file_extension": ".py",
   "mimetype": "text/x-python",
   "name": "python",
   "nbconvert_exporter": "python",
   "pygments_lexer": "ipython3",
   "version": "3.9.13"
  }
 },
 "nbformat": 4,
 "nbformat_minor": 5
}
