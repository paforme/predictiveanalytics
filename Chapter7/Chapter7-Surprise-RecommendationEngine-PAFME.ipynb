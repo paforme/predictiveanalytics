{
 "cells": [
  {
   "cell_type": "markdown",
   "id": "54c94547",
   "metadata": {},
   "source": [
    "# Recommendation Enging using Surprise in Scikit-learn\n",
    "## Chapter 7\n",
    "### Predictive Analytics for the Modern Enterprise "
   ]
  },
  {
   "cell_type": "markdown",
   "id": "1e008bb6",
   "metadata": {},
   "source": [
    "This is jupyter notebook that can be used to follow along the code examples for Chapter 7 Section 1 - Unsupervised learning of the book. The code examples go through some of the functionality that can be used to work with the sci-kit learn library in Python to work with unsupervised learning models. \n",
    "\n",
    "The notebook has been tested using the following pre-requisite:\n",
    "\n",
    "Python V3.9.13 - https://www.python.org/\n",
    "Anaconda Navigator V3 for Python 3.9 - https://www.anaconda.com/\n",
    "Jupyter - V6.4.12 - https://jupyter.org/\n",
    "Desktop computer - macOS Ventura V13.1\n",
    "\n",
    "Documentation referece for Scikit Learn: https://scikit-learn.org/stable/"
   ]
  },
  {
   "cell_type": "markdown",
   "id": "7ca80814",
   "metadata": {},
   "source": [
    "### Pre-requisites\n"
   ]
  },
  {
   "cell_type": "markdown",
   "id": "8d0a9255",
   "metadata": {},
   "source": [
    "You will need to install the scikit-learn package in your envionrment. \n",
    "In your environment run the following command\n",
    "\n",
    "```bash\n",
    "conda install -c conda-forge scikit-learn\n",
    "conda install -c conda-forge scikit-surprise\n",
    "```\n",
    "OR\n",
    "```bash\n",
    "pip install -U scikit-learn\n",
    "pip install scikit-surprise\n",
    "```"
   ]
  },
  {
   "cell_type": "markdown",
   "id": "7221ac1f",
   "metadata": {},
   "source": [
    "This code uses the Movies dataset\n",
    "\n",
    "* Orginal Dataset: https://files.grouplens.org/datasets/movielens/ml-100k.zip \n",
    "* A Local copy can be downloaded here: https://github.com/paforme/predictiveanalytics/blob/main/Chapter7/Datasets/ml-100k/ml-100k.zip"
   ]
  },
  {
   "cell_type": "code",
   "execution_count": 1,
   "id": "fc09c716",
   "metadata": {},
   "outputs": [],
   "source": [
    "import pandas as pd\n",
    "import numpy as np\n",
    "import itertools as it\n",
    "\n",
    "from surprise import accuracy, Dataset, SVD, KNNBasic, KNNWithMeans, KNNBaseline, Reader\n",
    "from surprise.model_selection import cross_validate\n",
    "from surprise.model_selection import train_test_split\n",
    "from collections import defaultdict\n",
    "from itertools import chain"
   ]
  },
  {
   "cell_type": "code",
   "execution_count": 2,
   "id": "fac8d92e",
   "metadata": {},
   "outputs": [],
   "source": [
    "dataset = \"ml-100k\" #We are using a built in dataset\n",
    "algo = SVD()\n",
    "uid = '1'\n",
    "top = 10"
   ]
  },
  {
   "cell_type": "code",
   "execution_count": 5,
   "id": "8b1d3a92",
   "metadata": {},
   "outputs": [],
   "source": [
    "def data_loader(dataset):\n",
    "    data = Dataset.load_builtin(dataset)\n",
    "    return data\n",
    "\n",
    "def train_model(algo, trainset):    \n",
    "    algo.fit(trainset)\n",
    "    return algo\n",
    "\n",
    "#The below function is taken from surprise documentation that can be found here: https://surprise.readthedocs.io/en/stable/FAQ.html#how-to-get-the-k-nearest-neighbors-of-a-user-or-item\n",
    "#I am not the original author of this function and am simply repurposeing it\n",
    "def get_top_n(predictions, n=10):\n",
    "    top_n = defaultdict(list)\n",
    "    for uid, iid, true_r, est, _ in predictions:\n",
    "        top_n[uid].append((iid, est))\n",
    "\n",
    "    for uid, user_ratings in top_n.items():\n",
    "        user_ratings.sort(key=lambda x: x[1], reverse=True)\n",
    "        top_n[uid] = user_ratings[:n]\n",
    "\n",
    "    return top_n\n",
    "\n",
    "#The below function is taken from surprise documentation that can be found here: https://surprise.readthedocs.io/en/stable/FAQ.html#how-to-get-the-k-nearest-neighbors-of-a-user-or-item\n",
    "#I am not the original author of this function and am simply repurposeing it\n",
    "def read_item_names():\n",
    "\n",
    "    file_name = \"./Datasets/ml-100k/u.item\" #Change this to where the dataset is downloaded\n",
    "    rid_to_name = {}\n",
    "    name_to_rid = {}\n",
    "    with open(file_name, encoding=\"ISO-8859-1\") as f:\n",
    "        for line in f:\n",
    "            line = line.split(\"|\")\n",
    "            rid_to_name[line[0]] = line[1]\n",
    "            name_to_rid[line[1]] = line[0]\n",
    "\n",
    "    return rid_to_name, name_to_rid\n",
    "\n",
    "def get_movie_names(uid,predictions,top):\n",
    "    top_n = get_top_n(predictions, n=top)\n",
    "    top_n_pd = pd.DataFrame(top_n)\n",
    "    recommendation_ids = top_n_pd[uid].apply(lambda x: x[0])\n",
    "    iid_to_name, name_to_iid = read_item_names()\n",
    "    recommendations = (iid_to_name[iid] for iid in recommendation_ids)\n",
    "    return recommendations\n",
    "\n",
    "def run_predictions(algo):\n",
    "    data = data_loader(dataset)\n",
    "    trainset, testset = train_test_split(data, test_size=0.25)\n",
    "    algo = train_model(algo, trainset)\n",
    "    predictions = algo.test(testset)\n",
    "    print(accuracy.rmse(predictions), accuracy.mae(predictions) )\n",
    "\n",
    "    #Than predict ratings for all pairs (u, i) that are NOT in the training set.\n",
    "    testset = trainset.build_anti_testset()\n",
    "    predictions = algo.test(testset)\n",
    "    recommendations = get_movie_names(uid,predictions,top)\n",
    "    print(\"\\nTop 10 Movie recommendations for uid:\", uid)\n",
    "    for movie in recommendations:\n",
    "        print(movie)\n"
   ]
  },
  {
   "cell_type": "code",
   "execution_count": 7,
   "id": "2ddc1d8f",
   "metadata": {},
   "outputs": [
    {
     "name": "stdout",
     "output_type": "stream",
     "text": [
      "RMSE: 0.9377\n",
      "MAE:  0.7384\n",
      "0.9376674138716359 0.7383540052945037\n",
      "\n",
      "Top 10 Movie recommendations for uid: 1\n",
      "Good Will Hunting (1997)\n",
      "Singin' in the Rain (1952)\n",
      "Glory (1989)\n",
      "Amadeus (1984)\n",
      "Magnificent Seven, The (1954)\n",
      "Wizard of Oz, The (1939)\n",
      "It's a Wonderful Life (1946)\n",
      "Wrong Trousers, The (1993)\n",
      "Schindler's List (1993)\n",
      "M*A*S*H (1970)\n"
     ]
    }
   ],
   "source": [
    "#SVD - With Default options \n",
    "algo = SVD()\n",
    "run_predictions(algo)"
   ]
  },
  {
   "cell_type": "code",
   "execution_count": 6,
   "id": "0de9bf78",
   "metadata": {
    "scrolled": false
   },
   "outputs": [
    {
     "name": "stdout",
     "output_type": "stream",
     "text": [
      "Computing the cosine similarity matrix...\n",
      "Done computing similarity matrix.\n",
      "RMSE: 1.0280\n",
      "MAE:  0.8108\n",
      "1.0279699453913531 0.8108406550958399\n",
      "\n",
      "Top 10 Movie recommendations for uid: 1\n",
      "Big Bang Theory, The (1994)\n",
      "Further Gesture, A (1996)\n",
      "Other Voices, Other Rooms (1997)\n",
      "Bent (1997)\n",
      "Entertaining Angels: The Dorothy Day Story (1996)\n",
      "Coldblooded (1995)\n",
      "Cyclo (1995)\n",
      "Last Summer in the Hamptons (1995)\n",
      "Chairman of the Board (1998)\n",
      "King of New York (1990)\n"
     ]
    }
   ],
   "source": [
    "#KNN - Basic - item based / cosine similarity\n",
    "data = Dataset.load_builtin(\"ml-100k\")\n",
    "trainset = data.build_full_trainset()\n",
    "\n",
    "sim_options = {\n",
    "    \"name\": \"cosine\",\n",
    "    \"user_based\": False,  # compute  similarities between items\n",
    "}\n",
    "algo = KNNBasic(sim_options=sim_options)\n",
    "run_predictions(algo)"
   ]
  },
  {
   "cell_type": "code",
   "execution_count": 8,
   "id": "0234f434",
   "metadata": {},
   "outputs": [
    {
     "name": "stdout",
     "output_type": "stream",
     "text": [
      "Computing the cosine similarity matrix...\n",
      "Done computing similarity matrix.\n",
      "RMSE: 0.9603\n",
      "MAE:  0.7578\n",
      "0.9603486632253324 0.757812749935527\n",
      "\n",
      "Top 10 Movie recommendations for uid: 1\n",
      "Safe Passage (1994)\n",
      "Boys, Les (1997)\n",
      "Santa with Muscles (1996)\n",
      "Saint of Fort Washington, The (1993)\n",
      "Aiqing wansui (1994)\n",
      "Some Mother's Son (1996)\n",
      "Great Day in Harlem, A (1994)\n",
      "Anna (1996)\n",
      "Crossfire (1947)\n",
      "Hugo Pool (1997)\n"
     ]
    }
   ],
   "source": [
    "#KNN - With Means - user based / cosine similarity\n",
    "sim_options = {\n",
    "    \"name\": \"cosine\",\n",
    "    \"user_based\": True,  # compute  similarities between users\n",
    "}\n",
    "algo = KNNWithMeans(sim_options=sim_options)\n",
    "run_predictions(algo)"
   ]
  },
  {
   "cell_type": "code",
   "execution_count": 9,
   "id": "b7f88d91",
   "metadata": {},
   "outputs": [
    {
     "name": "stdout",
     "output_type": "stream",
     "text": [
      "Computing the cosine similarity matrix...\n",
      "Done computing similarity matrix.\n",
      "Computing the cosine similarity matrix...\n",
      "Done computing similarity matrix.\n",
      "Computing the cosine similarity matrix...\n",
      "Done computing similarity matrix.\n",
      "Computing the cosine similarity matrix...\n",
      "Done computing similarity matrix.\n",
      "Computing the cosine similarity matrix...\n",
      "Done computing similarity matrix.\n",
      "Evaluating RMSE, MAE of algorithm KNNWithMeans on 5 split(s).\n",
      "\n",
      "                  Fold 1  Fold 2  Fold 3  Fold 4  Fold 5  Mean    Std     \n",
      "RMSE (testset)    0.9556  0.9523  0.9526  0.9566  0.9618  0.9558  0.0035  \n",
      "MAE (testset)     0.7537  0.7529  0.7528  0.7536  0.7598  0.7546  0.0026  \n",
      "Fit time          0.37    0.37    0.41    0.38    0.40    0.39    0.01    \n",
      "Test time         2.38    2.47    2.44    2.35    2.54    2.44    0.07    \n"
     ]
    },
    {
     "data": {
      "text/plain": [
       "{'test_rmse': array([0.95556617, 0.95229762, 0.95263248, 0.95664548, 0.96183962]),\n",
       " 'test_mae': array([0.75371159, 0.75287257, 0.75283591, 0.7536367 , 0.75975214]),\n",
       " 'fit_time': (0.3748619556427002,\n",
       "  0.3737919330596924,\n",
       "  0.40851616859436035,\n",
       "  0.3758280277252197,\n",
       "  0.39507412910461426),\n",
       " 'test_time': (2.3810150623321533,\n",
       "  2.4700229167938232,\n",
       "  2.442486047744751,\n",
       "  2.3512561321258545,\n",
       "  2.5424468517303467)}"
      ]
     },
     "execution_count": 9,
     "metadata": {},
     "output_type": "execute_result"
    }
   ],
   "source": [
    "data = data_loader(dataset)\n",
    "# Run 5-fold cross-validation and print results\n",
    "cross_validate(algo, data, measures=[\"RMSE\", \"MAE\"], cv=5, verbose=True)"
   ]
  },
  {
   "cell_type": "markdown",
   "id": "8f5f60fd",
   "metadata": {},
   "source": [
    "### Two step recommender \n"
   ]
  },
  {
   "cell_type": "code",
   "execution_count": 10,
   "id": "ec8b2df5",
   "metadata": {},
   "outputs": [],
   "source": [
    "def get_neighbours(algo, mrid):\n",
    "\n",
    "    #Convert Movie RawID to innerID\n",
    "    movie_inner_id = algo.trainset.to_inner_iid(mrid)\n",
    "\n",
    "    # Retrieve inner ids of the nearest neighbors of the movie mrid\n",
    "    movie_neighbors = algo.get_neighbors(movie_inner_id, k=10)\n",
    "\n",
    "    # Convert inner ids to rids\n",
    "    movie_neighbors = (\n",
    "        algo.trainset.to_raw_iid(inner_id) for inner_id in movie_neighbors\n",
    "    )\n",
    "    return movie_neighbors"
   ]
  },
  {
   "cell_type": "markdown",
   "id": "1cdad557",
   "metadata": {},
   "source": [
    "#### Stage 1"
   ]
  },
  {
   "cell_type": "code",
   "execution_count": 11,
   "id": "987bc78d",
   "metadata": {},
   "outputs": [],
   "source": [
    "uid = '1' #User to get recommendations for"
   ]
  },
  {
   "cell_type": "code",
   "execution_count": 12,
   "id": "2716492f",
   "metadata": {},
   "outputs": [],
   "source": [
    "#Step 1 - Load the full dataset (100k movies)\n",
    "data = data_loader(dataset) #Load the dataset\n",
    "trainset = data.build_full_trainset() #Build the trainingset based on complete data"
   ]
  },
  {
   "cell_type": "code",
   "execution_count": 13,
   "id": "f547e793",
   "metadata": {
    "scrolled": true
   },
   "outputs": [],
   "source": [
    "#Get all movies rated by the user - uid\n",
    "user_items = trainset.ur[int(uid)]\n",
    "#Get the top 10 user rated movies\n",
    "user_top_rated = sorted(user_items, key=lambda x: x[1], reverse=True)[:10]"
   ]
  },
  {
   "cell_type": "code",
   "execution_count": 14,
   "id": "5c462c1c",
   "metadata": {
    "scrolled": true
   },
   "outputs": [
    {
     "name": "stdout",
     "output_type": "stream",
     "text": [
      "Computing the cosine similarity matrix...\n",
      "Done computing similarity matrix.\n"
     ]
    },
    {
     "data": {
      "text/plain": [
       "<surprise.prediction_algorithms.knns.KNNWithMeans at 0x7fc939224580>"
      ]
     },
     "execution_count": 14,
     "metadata": {},
     "output_type": "execute_result"
    }
   ],
   "source": [
    "#Build the retriever model - item based cosine similarity\n",
    "sim_options = {'name': 'cosine', 'user_based': False}\n",
    "item_model = KNNWithMeans(sim_options=sim_options)\n",
    "item_model.fit(trainset)"
   ]
  },
  {
   "cell_type": "code",
   "execution_count": 15,
   "id": "79b6832c",
   "metadata": {},
   "outputs": [],
   "source": [
    "#Get nearest neigbours for all 10 top_rated_movies \n",
    "all_neighbors = 0\n",
    "\n",
    "for movie_rid in user_top_rated:\n",
    "    neighbors = get_neighbours(item_model,str(movie_rid[0]))\n",
    "    if(all_neighbors!=0):\n",
    "        all_neighbors= it.chain(all_neighbors,neighbors)\n",
    "    else:\n",
    "        all_neighbors = neighbors"
   ]
  },
  {
   "cell_type": "code",
   "execution_count": 16,
   "id": "fb899df9",
   "metadata": {},
   "outputs": [
    {
     "name": "stdout",
     "output_type": "stream",
     "text": [
      "100\n"
     ]
    }
   ],
   "source": [
    "#Convert the all_neighbors iterator to a list\n",
    "mylist = list(all_neighbors)\n",
    "print(len(mylist))"
   ]
  },
  {
   "cell_type": "markdown",
   "id": "45c5497e",
   "metadata": {},
   "source": [
    "#### Stage 2"
   ]
  },
  {
   "cell_type": "code",
   "execution_count": 17,
   "id": "0bbb203e",
   "metadata": {},
   "outputs": [],
   "source": [
    "#Build a new dataset with nearest neighbours of top_rated_movies\n",
    "data = data_loader(dataset)\n",
    "my_trainset = data.build_full_trainset()\n",
    "my_data = my_trainset.build_testset() #Take full dataset\n",
    "\n",
    "filtered_data = [d for d in my_data if d[1] in mylist] #Filter only data where the movie is in the top neighbors\n",
    "\n",
    "#Add an entry from the existing set just in case there is no movie rated by this user in the neighbours\n",
    "for d in my_data:\n",
    "    if d[0] == uid:\n",
    "        filtered_data.append(d)\n",
    "        break\n",
    "        \n",
    "filtered_data = pd.DataFrame(filtered_data) #Create a dataframe for filtered data\n",
    "filtered_data.columns = [\"userID\", \"itemID\", \"rating\"]\n",
    "\n",
    "reader = Reader(rating_scale=(1, 5))\n",
    "my_data = Dataset.load_from_df(filtered_data[[\"userID\", \"itemID\", \"rating\"]],reader) #Read data back in to create a testset\n",
    "\n",
    "new_trainset = my_data.build_full_trainset() #Create filtered training set"
   ]
  },
  {
   "cell_type": "code",
   "execution_count": 18,
   "id": "53b946e6",
   "metadata": {
    "scrolled": true
   },
   "outputs": [
    {
     "name": "stdout",
     "output_type": "stream",
     "text": [
      "3034\n"
     ]
    }
   ],
   "source": [
    "print(new_trainset.n_ratings)"
   ]
  },
  {
   "cell_type": "code",
   "execution_count": 19,
   "id": "1fe7ffe6",
   "metadata": {},
   "outputs": [
    {
     "name": "stdout",
     "output_type": "stream",
     "text": [
      "Computing the cosine similarity matrix...\n",
      "Done computing similarity matrix.\n"
     ]
    },
    {
     "data": {
      "text/plain": [
       "<surprise.prediction_algorithms.knns.KNNWithMeans at 0x7fc94d9f7190>"
      ]
     },
     "execution_count": 19,
     "metadata": {},
     "output_type": "execute_result"
    }
   ],
   "source": [
    "#Train user model with the new dataset\n",
    "sim_options = {'name': 'cosine', 'user_based': True}\n",
    "user_model = KNNWithMeans(sim_options=sim_options)\n",
    "user_model.fit(new_trainset)"
   ]
  },
  {
   "cell_type": "code",
   "execution_count": 20,
   "id": "dd4e5716",
   "metadata": {},
   "outputs": [],
   "source": [
    "#Build an anti_testset for all known movies and users in the testset where the ratings are unknown for (u, i) pair\n",
    "testset = new_trainset.build_anti_testset()\n",
    "predictions = user_model.test(testset)"
   ]
  },
  {
   "cell_type": "code",
   "execution_count": null,
   "id": "4d48b02a",
   "metadata": {},
   "outputs": [],
   "source": [
    "#Get top n predictions for all users\n",
    "#top_n = get_top_n(predictions, n=10)\n",
    "\n",
    "# Print the recommended items for each user\n",
    "#for uid, user_ratings in top_n.items():\n",
    "#    print(uid, [iid for (iid, _) in user_ratings])"
   ]
  },
  {
   "cell_type": "code",
   "execution_count": 21,
   "id": "a216b633",
   "metadata": {},
   "outputs": [
    {
     "name": "stdout",
     "output_type": "stream",
     "text": [
      "\n",
      "Top 10 Movie recommendations for user with uid: 1\n",
      "---------------------------------------------------\n",
      "\n",
      "Hearts and Minds (1996)\n",
      "So Dear to My Heart (1949)\n",
      "Beautiful Thing (1996)\n",
      "Jackie Brown (1997)\n",
      "City of Lost Children, The (1995)\n",
      "North by Northwest (1959)\n",
      "Thieves (Voleurs, Les) (1996)\n",
      "Ghost in the Shell (Kokaku kidotai) (1995)\n",
      "Ninotchka (1939)\n",
      "In the Name of the Father (1993)\n"
     ]
    }
   ],
   "source": [
    "#Print top 10 movie recommendations for user(uid)\n",
    "recommendations = get_movie_names(uid,predictions,10)\n",
    "print(\"\\nTop 10 Movie recommendations for user with uid:\", uid)\n",
    "print(\"---------------------------------------------------\\n\")\n",
    "for movie in recommendations:\n",
    "    print(movie)"
   ]
  },
  {
   "cell_type": "code",
   "execution_count": null,
   "id": "2a4a2854",
   "metadata": {},
   "outputs": [],
   "source": []
  }
 ],
 "metadata": {
  "kernelspec": {
   "display_name": "Python 3 (ipykernel)",
   "language": "python",
   "name": "python3"
  },
  "language_info": {
   "codemirror_mode": {
    "name": "ipython",
    "version": 3
   },
   "file_extension": ".py",
   "mimetype": "text/x-python",
   "name": "python",
   "nbconvert_exporter": "python",
   "pygments_lexer": "ipython3",
   "version": "3.9.13"
  }
 },
 "nbformat": 4,
 "nbformat_minor": 5
}
