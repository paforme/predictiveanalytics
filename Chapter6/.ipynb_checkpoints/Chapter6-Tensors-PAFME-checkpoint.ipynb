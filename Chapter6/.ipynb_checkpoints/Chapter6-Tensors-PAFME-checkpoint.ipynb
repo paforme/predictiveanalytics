{
 "cells": [
  {
   "cell_type": "markdown",
   "id": "57a65e04",
   "metadata": {},
   "source": [
    "# Tensorflow\n",
    "## Chapter 6\n",
    "### Predictive Analytics for the Modern Enterprise\n",
    "\n",
    "The notebook has been tested using the following pre-requisite:\n",
    "\n",
    "* Python V3.9.13 - https://www.python.org/\n",
    "* Tensorflow V2.11.0 \n",
    "* Keras V2.11.0\n",
    "* Jupyter - V6.4.12 - https://jupyter.org/\n",
    "* Desktop computer - macOS Ventura V13.1"
   ]
  },
  {
   "cell_type": "markdown",
   "id": "0691fcc8",
   "metadata": {},
   "source": [
    "### Pre requisites\n",
    "\n",
    "In order to start using tensorflow we will need to install the tensorflow 2.0 in python. Use the followinf command\n",
    "```bash\n",
    "pip3 install tensorflow\n",
    "```"
   ]
  },
  {
   "cell_type": "code",
   "execution_count": 1,
   "id": "dcf71e71",
   "metadata": {
    "scrolled": true
   },
   "outputs": [
    {
     "name": "stderr",
     "output_type": "stream",
     "text": [
      "2024-04-25 22:54:59.104303: I tensorflow/core/platform/cpu_feature_guard.cc:182] This TensorFlow binary is optimized to use available CPU instructions in performance-critical operations.\n",
      "To enable the following instructions: AVX2 FMA, in other operations, rebuild TensorFlow with the appropriate compiler flags.\n"
     ]
    }
   ],
   "source": [
    "import tensorflow as tflow\n",
    "from tensorflow import keras\n",
    "import numpy as np\n",
    "# If you recieve a message about Tensorflow binary optimization this is just an information message and will not impact your deployment"
   ]
  },
  {
   "cell_type": "code",
   "execution_count": 2,
   "id": "5c58cff8",
   "metadata": {},
   "outputs": [
    {
     "data": {
      "text/plain": [
       "'2.12.0'"
      ]
     },
     "execution_count": 2,
     "metadata": {},
     "output_type": "execute_result"
    }
   ],
   "source": [
    "tflow.__version__"
   ]
  },
  {
   "cell_type": "code",
   "execution_count": 3,
   "id": "eb493a29",
   "metadata": {},
   "outputs": [
    {
     "data": {
      "text/plain": [
       "'2.12.0'"
      ]
     },
     "execution_count": 3,
     "metadata": {},
     "output_type": "execute_result"
    }
   ],
   "source": [
    "keras.__version__"
   ]
  },
  {
   "cell_type": "markdown",
   "id": "7219a98f",
   "metadata": {},
   "source": [
    "### Basic tensors"
   ]
  },
  {
   "cell_type": "code",
   "execution_count": 4,
   "id": "5ab55a35",
   "metadata": {},
   "outputs": [],
   "source": [
    "String_t = tflow.constant(\"I love coding\") "
   ]
  },
  {
   "cell_type": "code",
   "execution_count": 5,
   "id": "745c73e4",
   "metadata": {},
   "outputs": [
    {
     "name": "stdout",
     "output_type": "stream",
     "text": [
      "tf.Tensor(b'I love coding', shape=(), dtype=string)\n"
     ]
    }
   ],
   "source": [
    "print(String_t)"
   ]
  },
  {
   "cell_type": "code",
   "execution_count": 6,
   "id": "3c15fffd",
   "metadata": {},
   "outputs": [
    {
     "name": "stdout",
     "output_type": "stream",
     "text": [
      "tf.Tensor([10 20 20], shape=(3,), dtype=int32)\n"
     ]
    }
   ],
   "source": [
    "Vector_t = tflow.constant([10,20,20])\n",
    "print(Vector_t)"
   ]
  },
  {
   "cell_type": "code",
   "execution_count": 7,
   "id": "ee0cf727",
   "metadata": {},
   "outputs": [
    {
     "name": "stdout",
     "output_type": "stream",
     "text": [
      "tf.Tensor(\n",
      "[[ 1 10]\n",
      " [ 2 20]], shape=(2, 2), dtype=int32)\n"
     ]
    }
   ],
   "source": [
    "Matrix_t = tflow.constant([[1,10],[2,20]])\n",
    "print(Matrix_t) #note the shaps gives us the 3 x 2 matrix dimensions. "
   ]
  },
  {
   "cell_type": "code",
   "execution_count": 8,
   "id": "2aa10409",
   "metadata": {},
   "outputs": [
    {
     "name": "stdout",
     "output_type": "stream",
     "text": [
      "tf.Tensor(\n",
      "[[ 3 30]\n",
      " [ 6 60]], shape=(2, 2), dtype=int32)\n"
     ]
    }
   ],
   "source": [
    "Matrix_3t = 3 * Matrix_t\n",
    "print(Matrix_3t)"
   ]
  },
  {
   "cell_type": "code",
   "execution_count": 9,
   "id": "82e355db",
   "metadata": {},
   "outputs": [
    {
     "name": "stdout",
     "output_type": "stream",
     "text": [
      "tf.Tensor(\n",
      "[[  1 100]\n",
      " [  4 400]], shape=(2, 2), dtype=int32)\n"
     ]
    }
   ],
   "source": [
    "Matrix_t2 = tflow.constant([[1,10],[2,20]])\n",
    "scalar_multiply = Matrix_t * Matrix_t2\n",
    "print(scalar_multiply) #Scalar Multiplication (Element wise)"
   ]
  },
  {
   "cell_type": "code",
   "execution_count": 10,
   "id": "ee48c94a",
   "metadata": {},
   "outputs": [
    {
     "name": "stdout",
     "output_type": "stream",
     "text": [
      "tf.Tensor(\n",
      "[[ 21 210]\n",
      " [ 42 420]], shape=(2, 2), dtype=int32)\n"
     ]
    }
   ],
   "source": [
    "matrix_multiply = Matrix_t @ Matrix_t2\n",
    "print(matrix_multiply) #Matrix Multiplication "
   ]
  },
  {
   "cell_type": "markdown",
   "id": "4cdf0426",
   "metadata": {},
   "source": [
    "* Try out other mathematical operations such as addition and subtraction"
   ]
  },
  {
   "cell_type": "markdown",
   "id": "63e54ee6",
   "metadata": {},
   "source": [
    "### Useful functions, indexing and reshaping"
   ]
  },
  {
   "cell_type": "code",
   "execution_count": 12,
   "id": "1c0ca244",
   "metadata": {
    "scrolled": true
   },
   "outputs": [
    {
     "name": "stdout",
     "output_type": "stream",
     "text": [
      "tf.Tensor(\n",
      "[[4. 5.]\n",
      " [6. 8.]\n",
      " [6. 9.]], shape=(3, 2), dtype=float32)\n",
      "tf.Tensor(9.0, shape=(), dtype=float32)\n",
      "tf.Tensor([1 2], shape=(2,), dtype=int64)\n",
      "tf.Tensor(\n",
      "[[0.26894143 0.7310586 ]\n",
      " [0.11920291 0.880797  ]\n",
      " [0.04742587 0.95257413]], shape=(3, 2), dtype=float32)\n"
     ]
    }
   ],
   "source": [
    "c = tflow.constant([[4.0, 5.0], [6.0, 8.0], [6.0, 9.0]]) # Some useful functions \n",
    "\n",
    "print(c)\n",
    "\n",
    "print(tflow.reduce_max(c)) # Find the largest entry\n",
    "\n",
    "print(tflow.math.argmax(c)) # Find the index of the largest entry\n",
    "\n",
    "print(tflow.nn.softmax(c)) # Compute the softmax (Check Chapter 3 for reference)"
   ]
  },
  {
   "cell_type": "code",
   "execution_count": 12,
   "id": "f59ab7a6",
   "metadata": {},
   "outputs": [
    {
     "name": "stdout",
     "output_type": "stream",
     "text": [
      "tf.Tensor([b'AX' b'BX' b'ZD'], shape=(3,), dtype=string)\n",
      "tf.Tensor([1.5 2.4 3.9], shape=(3,), dtype=float32)\n",
      "tf.Tensor([0.06904751 0.1698295  0.761123  ], shape=(3,), dtype=float32)\n"
     ]
    }
   ],
   "source": [
    "#Create Tensors from Numpy Arrays\n",
    "n_Tensor = tflow.convert_to_tensor(np.array(['AX','BX','ZD'])) \n",
    "#Create Tensor from an Array\n",
    "a_Tensor = tflow.convert_to_tensor([1.5,2.4,3.9]) \n",
    "\n",
    "print(n_Tensor)\n",
    "print(a_Tensor)\n",
    "print(tflow.nn.softmax(a_Tensor)) #Check the probabilities adding to 1"
   ]
  },
  {
   "cell_type": "code",
   "execution_count": 13,
   "id": "211debd1",
   "metadata": {},
   "outputs": [
    {
     "name": "stdout",
     "output_type": "stream",
     "text": [
      "tf.Tensor([ 5  7  9 10 20], shape=(5,), dtype=int32)\n",
      "tf.Tensor(9, shape=(), dtype=int32)\n",
      "tf.Tensor([ 9 10 20], shape=(3,), dtype=int32)\n"
     ]
    }
   ],
   "source": [
    "v_tensor = tflow.constant([5,7,9,10,20])\n",
    "\n",
    "print(v_tensor)\n",
    "print(v_tensor[2]) #Second index\n",
    "print(v_tensor[2:5]) #Second to 4thh index inclusive"
   ]
  },
  {
   "cell_type": "code",
   "execution_count": 14,
   "id": "8c86c240",
   "metadata": {
    "scrolled": true
   },
   "outputs": [
    {
     "name": "stdout",
     "output_type": "stream",
     "text": [
      "tf.Tensor(\n",
      "[[1 2 3]\n",
      " [4 5 6]\n",
      " [7 8 9]], shape=(3, 3), dtype=int32)\n",
      "tf.Tensor(8, shape=(), dtype=int32)\n",
      "tf.Tensor([7 8 9], shape=(3,), dtype=int32)\n"
     ]
    }
   ],
   "source": [
    "m_tensor = tflow.constant([[1,2,3],[4,5,6],[7,8,9]])\n",
    "\n",
    "print(m_tensor)\n",
    "print(m_tensor[2,1]) #first index in the second index element\n",
    "print(m_tensor[2,]) #all second index elements"
   ]
  },
  {
   "cell_type": "code",
   "execution_count": 15,
   "id": "80985f2b",
   "metadata": {},
   "outputs": [
    {
     "name": "stdout",
     "output_type": "stream",
     "text": [
      "tf.Tensor(\n",
      "[[1 2 3]\n",
      " [4 5 6]], shape=(2, 3), dtype=int32)\n",
      "tf.Tensor(6, shape=(), dtype=int32)\n",
      "tf.Tensor([4 5 6], shape=(3,), dtype=int32)\n",
      "tf.Tensor([1 1 1], shape=(3,), dtype=int64)\n"
     ]
    }
   ],
   "source": [
    "m_tensor = tflow.constant([[1,2,3],[4,5,6]])\n",
    "\n",
    "print(m_tensor)\n",
    "print(m_tensor[1,2]) #first index in the second index element\n",
    "print(m_tensor[1,]) #all second index elements\n",
    "\n",
    "print(tflow.math.argmax(m_tensor))"
   ]
  },
  {
   "cell_type": "code",
   "execution_count": 16,
   "id": "feaa6a94",
   "metadata": {},
   "outputs": [
    {
     "name": "stdout",
     "output_type": "stream",
     "text": [
      "tf.Tensor(\n",
      "[[ 5  7]\n",
      " [ 9 10]\n",
      " [20 10]], shape=(3, 2), dtype=int32)\n",
      "(3, 2)\n"
     ]
    }
   ],
   "source": [
    "s_tensor = tflow.constant([[5,7],[9,10],[20,10]])\n",
    "print(s_tensor)\n",
    "print(s_tensor.shape) #Prints the shape of the tensor (3 x 2 matrix)"
   ]
  },
  {
   "cell_type": "code",
   "execution_count": 17,
   "id": "3f4edf9b",
   "metadata": {},
   "outputs": [
    {
     "name": "stdout",
     "output_type": "stream",
     "text": [
      "tf.Tensor(\n",
      "[[ 5  7]\n",
      " [ 9 10]\n",
      " [20 10]], shape=(3, 2), dtype=int32)\n",
      "tf.Tensor(\n",
      "[[ 5  7  9]\n",
      " [10 20 10]], shape=(2, 3), dtype=int32)\n"
     ]
    }
   ],
   "source": [
    "st_tensor = tflow.reshape(s_tensor, [2, 3]) #Not the same as transpose\n",
    "print(s_tensor)\n",
    "print(st_tensor)"
   ]
  },
  {
   "cell_type": "code",
   "execution_count": 18,
   "id": "8e0cbd51",
   "metadata": {},
   "outputs": [
    {
     "name": "stdout",
     "output_type": "stream",
     "text": [
      "tf.Tensor(\n",
      "[[ 5  9 20]\n",
      " [ 7 10 10]], shape=(2, 3), dtype=int32)\n"
     ]
    }
   ],
   "source": [
    "transpose_tensor = tflow.transpose(s_tensor) #Notice the difference\n",
    "print(transpose_tensor)"
   ]
  },
  {
   "cell_type": "markdown",
   "id": "de79b011",
   "metadata": {},
   "source": [
    "### Not so full tensors\n",
    "    "
   ]
  },
  {
   "cell_type": "code",
   "execution_count": 19,
   "id": "8142ff9c",
   "metadata": {},
   "outputs": [
    {
     "name": "stdout",
     "output_type": "stream",
     "text": [
      "<tf.RaggedTensor [[1], [2, 3, 4], [2, 4], [12, 5, 4, 6, 6]]>\n",
      "(4, None)\n"
     ]
    }
   ],
   "source": [
    "weird_list = [[1],[2,3,4],[2,4],[12,5,4,6,6]]\n",
    "weird_tensor = tflow.ragged.constant(weird_list) #Try assigining this to a regular tensor\n",
    "print(weird_tensor) \n",
    "print(weird_tensor.shape) # Notice that it ignores the size of each element (if it was unform then this would form the second element in the shape)"
   ]
  },
  {
   "cell_type": "code",
   "execution_count": 20,
   "id": "d34a19f3",
   "metadata": {},
   "outputs": [
    {
     "name": "stdout",
     "output_type": "stream",
     "text": [
      "tf.Tensor(\n",
      "[[1 0 0 0]\n",
      " [0 3 0 0]\n",
      " [0 0 0 5]], shape=(3, 4), dtype=int32)\n"
     ]
    }
   ],
   "source": [
    "mostly_empty_list = [1,3,5]\n",
    "my_indices = [[0,0],[1,1],[2,3]]\n",
    "full_shape = [3,4]\n",
    "\n",
    "mostly_empty_tensor = tflow.sparse.SparseTensor(indices=my_indices, values=mostly_empty_list, dense_shape=full_shape)\n",
    "\n",
    "print(tflow.sparse.to_dense(mostly_empty_tensor))"
   ]
  },
  {
   "cell_type": "code",
   "execution_count": null,
   "id": "025e58a7",
   "metadata": {},
   "outputs": [],
   "source": []
  }
 ],
 "metadata": {
  "kernelspec": {
   "display_name": "Python 3 (ipykernel)",
   "language": "python",
   "name": "python3"
  },
  "language_info": {
   "codemirror_mode": {
    "name": "ipython",
    "version": 3
   },
   "file_extension": ".py",
   "mimetype": "text/x-python",
   "name": "python",
   "nbconvert_exporter": "python",
   "pygments_lexer": "ipython3",
   "version": "3.9.13"
  }
 },
 "nbformat": 4,
 "nbformat_minor": 5
}
