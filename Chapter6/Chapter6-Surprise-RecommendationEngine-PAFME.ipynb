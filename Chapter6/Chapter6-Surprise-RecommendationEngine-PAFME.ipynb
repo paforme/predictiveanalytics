{
 "cells": [
  {
   "cell_type": "markdown",
   "id": "54c94547",
   "metadata": {},
   "source": [
    "# Recommendation Enging using Surprise in Scikit-learn\n",
    "## Chapter 6\n",
    "### Predictive Analytics for the Modern Enterprise "
   ]
  },
  {
   "cell_type": "markdown",
   "id": "1e008bb6",
   "metadata": {},
   "source": [
    "This is jupyter notebook that can be used to follow along the code examples for Chapter 6 Section 1 - Unsupervised learning of the book. The code examples go through some of the functionality that can be used to work with the sci-kit learn library in Python to work with unsupervised learning models. \n",
    "\n",
    "The notebook has been tested using the following pre-requisite:\n",
    "\n",
    "Python V3.9.13 - https://www.python.org/\n",
    "Anaconda Navigator V3 for Python 3.9 - https://www.anaconda.com/\n",
    "Jupyter - V6.4.12 - https://jupyter.org/\n",
    "Desktop computer - macOS Ventura V13.1\n",
    "\n",
    "Documentation referece for Scikit Learn: https://scikit-learn.org/stable/"
   ]
  },
  {
   "cell_type": "markdown",
   "id": "7ca80814",
   "metadata": {},
   "source": [
    "### Pre-requisites\n"
   ]
  },
  {
   "cell_type": "markdown",
   "id": "8d0a9255",
   "metadata": {},
   "source": [
    "You will need to install the scikit-learn package in your envionrment. \n",
    "In your environment run the following command\n",
    "\n",
    "```bash\n",
    "conda install -c conda-forge scikit-learn\n",
    "conda install -c conda-forge scikit-surprise\n",
    "```\n",
    "OR\n",
    "```bash\n",
    "pip install -U scikit-learn\n",
    "pip install scikit-surprise\n",
    "```"
   ]
  },
  {
   "cell_type": "code",
   "execution_count": 1,
   "id": "fc09c716",
   "metadata": {},
   "outputs": [],
   "source": [
    "import pandas as pd\n",
    "import numpy as np\n",
    "import itertools as it\n",
    "\n",
    "from surprise import accuracy, Dataset, SVD, KNNBasic, KNNWithMeans, KNNBaseline, Reader\n",
    "from surprise.model_selection import cross_validate\n",
    "from surprise.model_selection import train_test_split\n",
    "from collections import defaultdict\n",
    "from itertools import chain"
   ]
  },
  {
   "cell_type": "code",
   "execution_count": 2,
   "id": "fac8d92e",
   "metadata": {},
   "outputs": [],
   "source": [
    "dataset = \"ml-100k\"\n",
    "algo = SVD()\n",
    "uid = '1'\n",
    "top = 10"
   ]
  },
  {
   "cell_type": "code",
   "execution_count": 3,
   "id": "8b1d3a92",
   "metadata": {},
   "outputs": [],
   "source": [
    "def data_loader(dataset):\n",
    "    data = Dataset.load_builtin(dataset)\n",
    "    return data\n",
    "\n",
    "def train_model(algo, trainset):    \n",
    "    algo.fit(trainset)\n",
    "    return algo\n",
    "\n",
    "#The below function is taken from surprise documentation that can be found here: https://surprise.readthedocs.io/en/stable/FAQ.html#how-to-get-the-k-nearest-neighbors-of-a-user-or-item\n",
    "#I am not the original author of this function and am simply repurposeing it\n",
    "def get_top_n(predictions, n=10):\n",
    "    top_n = defaultdict(list)\n",
    "    for uid, iid, true_r, est, _ in predictions:\n",
    "        top_n[uid].append((iid, est))\n",
    "\n",
    "    for uid, user_ratings in top_n.items():\n",
    "        user_ratings.sort(key=lambda x: x[1], reverse=True)\n",
    "        top_n[uid] = user_ratings[:n]\n",
    "\n",
    "    return top_n\n",
    "\n",
    "#The below function is taken from surprise documentation that can be found here: https://surprise.readthedocs.io/en/stable/FAQ.html#how-to-get-the-k-nearest-neighbors-of-a-user-or-item\n",
    "#I am not the original author of this function and am simply repurposeing it\n",
    "def read_item_names():\n",
    "\n",
    "    file_name = \"../datasets/ml-100k/u.item\" #Change this to where the dataset is downloaded\n",
    "    rid_to_name = {}\n",
    "    name_to_rid = {}\n",
    "    with open(file_name, encoding=\"ISO-8859-1\") as f:\n",
    "        for line in f:\n",
    "            line = line.split(\"|\")\n",
    "            rid_to_name[line[0]] = line[1]\n",
    "            name_to_rid[line[1]] = line[0]\n",
    "\n",
    "    return rid_to_name, name_to_rid\n",
    "\n",
    "def get_movie_names(uid,predictions,top):\n",
    "    top_n = get_top_n(predictions, n=top)\n",
    "    top_n_pd = pd.DataFrame(top_n)\n",
    "    recommendation_ids = top_n_pd[uid].apply(lambda x: x[0])\n",
    "    iid_to_name, name_to_iid = read_item_names()\n",
    "    recommendations = (iid_to_name[iid] for iid in recommendation_ids)\n",
    "    return recommendations\n",
    "\n",
    "def run_predictions(algo):\n",
    "    data = data_loader(dataset)\n",
    "    trainset, testset = train_test_split(data, test_size=0.25)\n",
    "    algo = train_model(algo, trainset)\n",
    "    predictions = algo.test(testset)\n",
    "    print(accuracy.rmse(predictions), accuracy.mae(predictions) )\n",
    "\n",
    "    #Than predict ratings for all pairs (u, i) that are NOT in the training set.\n",
    "    testset = trainset.build_anti_testset()\n",
    "    predictions = algo.test(testset)\n",
    "    recommendations = get_movie_names(uid,predictions,top)\n",
    "    print(\"\\nTop 10 Movie recommendations for uid:\", uid)\n",
    "    for movie in recommendations:\n",
    "        print(movie)\n"
   ]
  },
  {
   "cell_type": "code",
   "execution_count": null,
   "id": "2ddc1d8f",
   "metadata": {},
   "outputs": [],
   "source": [
    "#SVD - With Default options \n",
    "algo = SVD()\n",
    "run_predictions(algo)"
   ]
  },
  {
   "cell_type": "code",
   "execution_count": null,
   "id": "0de9bf78",
   "metadata": {
    "scrolled": false
   },
   "outputs": [],
   "source": [
    "#KNN - Basic - item based / cosine similarity\n",
    "data = Dataset.load_builtin(\"ml-100k\")\n",
    "trainset = data.build_full_trainset()\n",
    "\n",
    "sim_options = {\n",
    "    \"name\": \"cosine\",\n",
    "    \"user_based\": False,  # compute  similarities between items\n",
    "}\n",
    "algo = KNNBasic(sim_options=sim_options)\n",
    "run_predictions(algo)"
   ]
  },
  {
   "cell_type": "code",
   "execution_count": null,
   "id": "0234f434",
   "metadata": {},
   "outputs": [],
   "source": [
    "#KNN - With Means - user based / cosine similarity\n",
    "sim_options = {\n",
    "    \"name\": \"cosine\",\n",
    "    \"user_based\": True,  # compute  similarities between users\n",
    "}\n",
    "algo = KNNWithMeans(sim_options=sim_options)\n",
    "run_predictions(algo)"
   ]
  },
  {
   "cell_type": "code",
   "execution_count": null,
   "id": "b7f88d91",
   "metadata": {},
   "outputs": [],
   "source": [
    "data = data_loader(dataset)\n",
    "# Run 5-fold cross-validation and print results\n",
    "cross_validate(algo, data, measures=[\"RMSE\", \"MAE\"], cv=5, verbose=True)"
   ]
  },
  {
   "cell_type": "markdown",
   "id": "8f5f60fd",
   "metadata": {},
   "source": [
    "### Two step recommender \n"
   ]
  },
  {
   "cell_type": "code",
   "execution_count": 10,
   "id": "ec8b2df5",
   "metadata": {},
   "outputs": [],
   "source": [
    "def get_neighbours(algo, mrid):\n",
    "\n",
    "    #Convert Movie RawID to innerID\n",
    "    movie_inner_id = algo.trainset.to_inner_iid(mrid)\n",
    "\n",
    "    # Retrieve inner ids of the nearest neighbors of the movie mrid\n",
    "    movie_neighbors = algo.get_neighbors(movie_inner_id, k=10)\n",
    "\n",
    "    # Convert inner ids to rids\n",
    "    movie_neighbors = (\n",
    "        algo.trainset.to_raw_iid(inner_id) for inner_id in movie_neighbors\n",
    "    )\n",
    "    return movie_neighbors"
   ]
  },
  {
   "cell_type": "markdown",
   "id": "1cdad557",
   "metadata": {},
   "source": [
    "#### Stage 1"
   ]
  },
  {
   "cell_type": "code",
   "execution_count": 4,
   "id": "987bc78d",
   "metadata": {},
   "outputs": [],
   "source": [
    "uid = '1' #User to get recommendations for"
   ]
  },
  {
   "cell_type": "code",
   "execution_count": 5,
   "id": "2716492f",
   "metadata": {},
   "outputs": [],
   "source": [
    "#Step 1 - Load the full dataset (100k movies)\n",
    "data = data_loader(dataset) #Load the dataset\n",
    "trainset = data.build_full_trainset() #Build the trainingset based on complete data"
   ]
  },
  {
   "cell_type": "code",
   "execution_count": 6,
   "id": "f547e793",
   "metadata": {
    "scrolled": true
   },
   "outputs": [],
   "source": [
    "#Get all movies rated by the user - uid\n",
    "user_items = trainset.ur[int(uid)]\n",
    "#Get the top 10 user rated movies\n",
    "user_top_rated = sorted(user_items, key=lambda x: x[1], reverse=True)[:10]"
   ]
  },
  {
   "cell_type": "code",
   "execution_count": 7,
   "id": "5c462c1c",
   "metadata": {
    "scrolled": true
   },
   "outputs": [
    {
     "name": "stdout",
     "output_type": "stream",
     "text": [
      "Computing the cosine similarity matrix...\n",
      "Done computing similarity matrix.\n"
     ]
    },
    {
     "data": {
      "text/plain": [
       "<surprise.prediction_algorithms.knns.KNNWithMeans at 0x7fd24a8140d0>"
      ]
     },
     "execution_count": 7,
     "metadata": {},
     "output_type": "execute_result"
    }
   ],
   "source": [
    "#Build the retriever model - item based cosine similarity\n",
    "sim_options = {'name': 'cosine', 'user_based': False}\n",
    "item_model = KNNWithMeans(sim_options=sim_options)\n",
    "item_model.fit(trainset)"
   ]
  },
  {
   "cell_type": "code",
   "execution_count": 8,
   "id": "8fedfd8b",
   "metadata": {},
   "outputs": [],
   "source": [
    "#Testing code to be removed\n",
    "#for x in user_top_rated: \n",
    "#    print(x)"
   ]
  },
  {
   "cell_type": "code",
   "execution_count": 11,
   "id": "79b6832c",
   "metadata": {},
   "outputs": [],
   "source": [
    "#Get nearest neigbours for all 10 top_rated_movies \n",
    "all_neighbors = 0\n",
    "\n",
    "for movie_rid in user_top_rated:\n",
    "    neighbors = get_neighbours(item_model,str(movie_rid[0]))\n",
    "    if(all_neighbors!=0):\n",
    "        all_neighbors= it.chain(all_neighbors,neighbors)\n",
    "    else:\n",
    "        all_neighbors = neighbors"
   ]
  },
  {
   "cell_type": "code",
   "execution_count": 12,
   "id": "fb899df9",
   "metadata": {},
   "outputs": [
    {
     "name": "stdout",
     "output_type": "stream",
     "text": [
      "100\n"
     ]
    }
   ],
   "source": [
    "#Convert the all_neighbors iterator to a list\n",
    "mylist = list(all_neighbors)\n",
    "print(len(mylist))"
   ]
  },
  {
   "cell_type": "markdown",
   "id": "45c5497e",
   "metadata": {},
   "source": [
    "#### Stage 2"
   ]
  },
  {
   "cell_type": "code",
   "execution_count": 13,
   "id": "0bbb203e",
   "metadata": {},
   "outputs": [],
   "source": [
    "#Build a new dataset with nearest neighbours of top_rated_movies\n",
    "data = data_loader(dataset)\n",
    "my_trainset = data.build_full_trainset()\n",
    "my_data = my_trainset.build_testset() #Take full dataset\n",
    "\n",
    "filtered_data = [d for d in my_data if d[1] in mylist] #Filter only data where the movie is in the top neighbors\n",
    "\n",
    "#Add an entry from the existing set just in case there is no movie rated by this user in the neighbours\n",
    "for d in my_data:\n",
    "    if d[0] == uid:\n",
    "        filtered_data.append(d)\n",
    "        break\n",
    "        \n",
    "filtered_data = pd.DataFrame(filtered_data) #Create a dataframe for filtered data\n",
    "filtered_data.columns = [\"userID\", \"itemID\", \"rating\"]\n",
    "\n",
    "reader = Reader(rating_scale=(1, 5))\n",
    "my_data = Dataset.load_from_df(filtered_data[[\"userID\", \"itemID\", \"rating\"]],reader) #Read data back in to create a testset\n",
    "\n",
    "new_trainset = my_data.build_full_trainset() #Create filtered training set"
   ]
  },
  {
   "cell_type": "code",
   "execution_count": 14,
   "id": "53b946e6",
   "metadata": {
    "scrolled": true
   },
   "outputs": [
    {
     "name": "stdout",
     "output_type": "stream",
     "text": [
      "3034\n"
     ]
    }
   ],
   "source": [
    "print(new_trainset.n_ratings)"
   ]
  },
  {
   "cell_type": "code",
   "execution_count": 15,
   "id": "1fe7ffe6",
   "metadata": {},
   "outputs": [
    {
     "name": "stdout",
     "output_type": "stream",
     "text": [
      "Computing the cosine similarity matrix...\n",
      "Done computing similarity matrix.\n"
     ]
    },
    {
     "data": {
      "text/plain": [
       "<surprise.prediction_algorithms.knns.KNNWithMeans at 0x7fd24bf88ee0>"
      ]
     },
     "execution_count": 15,
     "metadata": {},
     "output_type": "execute_result"
    }
   ],
   "source": [
    "#Train user model with the new dataset\n",
    "sim_options = {'name': 'cosine', 'user_based': True}\n",
    "user_model = KNNWithMeans(sim_options=sim_options)\n",
    "user_model.fit(new_trainset)"
   ]
  },
  {
   "cell_type": "code",
   "execution_count": 16,
   "id": "dd4e5716",
   "metadata": {},
   "outputs": [],
   "source": [
    "#Build an anti_testset for all known movies and users in the testset where the ratings are unknown for (u, i) pair\n",
    "testset = new_trainset.build_anti_testset()\n",
    "predictions = user_model.test(testset)"
   ]
  },
  {
   "cell_type": "code",
   "execution_count": null,
   "id": "4d48b02a",
   "metadata": {},
   "outputs": [],
   "source": [
    "#Get top n predictions for all users\n",
    "#top_n = get_top_n(predictions, n=10)\n",
    "\n",
    "# Print the recommended items for each user\n",
    "#for uid, user_ratings in top_n.items():\n",
    "#    print(uid, [iid for (iid, _) in user_ratings])"
   ]
  },
  {
   "cell_type": "code",
   "execution_count": 17,
   "id": "a216b633",
   "metadata": {},
   "outputs": [
    {
     "name": "stdout",
     "output_type": "stream",
     "text": [
      "\n",
      "Top 10 Movie recommendations for user with uid: 1\n",
      "---------------------------------------------------\n",
      "\n",
      "Hearts and Minds (1996)\n",
      "So Dear to My Heart (1949)\n",
      "Beautiful Thing (1996)\n",
      "Jackie Brown (1997)\n",
      "City of Lost Children, The (1995)\n",
      "North by Northwest (1959)\n",
      "Thieves (Voleurs, Les) (1996)\n",
      "Ghost in the Shell (Kokaku kidotai) (1995)\n",
      "Ninotchka (1939)\n",
      "In the Name of the Father (1993)\n"
     ]
    }
   ],
   "source": [
    "#Print top 10 movie recommendations for user(uid)\n",
    "recommendations = get_movie_names(uid,predictions,10)\n",
    "print(\"\\nTop 10 Movie recommendations for user with uid:\", uid)\n",
    "print(\"---------------------------------------------------\\n\")\n",
    "for movie in recommendations:\n",
    "    print(movie)"
   ]
  },
  {
   "cell_type": "code",
   "execution_count": null,
   "id": "2a4a2854",
   "metadata": {},
   "outputs": [],
   "source": []
  }
 ],
 "metadata": {
  "kernelspec": {
   "display_name": "Python 3 (ipykernel)",
   "language": "python",
   "name": "python3"
  },
  "language_info": {
   "codemirror_mode": {
    "name": "ipython",
    "version": 3
   },
   "file_extension": ".py",
   "mimetype": "text/x-python",
   "name": "python",
   "nbconvert_exporter": "python",
   "pygments_lexer": "ipython3",
   "version": "3.9.13"
  }
 },
 "nbformat": 4,
 "nbformat_minor": 5
}
