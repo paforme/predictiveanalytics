{
 "cells": [
  {
   "cell_type": "markdown",
   "id": "056793bf",
   "metadata": {},
   "source": [
    "# Numpy\n",
    "## Chapter 4\n",
    "### Predictive Analytics for the Modern Enterprise "
   ]
  },
  {
   "cell_type": "markdown",
   "id": "9d7ed6a9",
   "metadata": {},
   "source": [
    "This is jupyter notebook that can be used to follow along the code examples for **Chapter 4 Section 1 - Numpy** of the book.\n",
    "The code examples go through some of the functionality that can be used to work with *multi-diemnsional arrays* using the Numpy library in python. \n",
    "\n",
    "The notebook has been tested using the following pre-requisite:\n",
    "\n",
    "* Python V3.9.13 - https://www.python.org/\n",
    "* Anaconda Navigator V3 for Python 3.9 - https://www.anaconda.com/\n",
    "* Jupyter - V6.4.12 - https://jupyter.org/ \n",
    "* Desktop computer - macOS Ventura V13.1 "
   ]
  },
  {
   "cell_type": "code",
   "execution_count": 2,
   "id": "3bb970b0",
   "metadata": {},
   "outputs": [],
   "source": [
    "import numpy as np"
   ]
  },
  {
   "cell_type": "markdown",
   "id": "4e03d5ae",
   "metadata": {},
   "source": [
    "### Arrays, dimensions, indexes and data types"
   ]
  },
  {
   "cell_type": "code",
   "execution_count": 4,
   "id": "e3ab7a91",
   "metadata": {
    "scrolled": true
   },
   "outputs": [
    {
     "data": {
      "text/plain": [
       "array([0, 1, 2, 3])"
      ]
     },
     "execution_count": 4,
     "metadata": {},
     "output_type": "execute_result"
    }
   ],
   "source": [
    "np.array([0,1,2,3]) #One dimension array"
   ]
  },
  {
   "cell_type": "code",
   "execution_count": 6,
   "id": "e2a8662a",
   "metadata": {},
   "outputs": [
    {
     "data": {
      "text/plain": [
       "array([[1, 2, 3, 4],\n",
       "       [4, 3, 2, 1]])"
      ]
     },
     "execution_count": 6,
     "metadata": {},
     "output_type": "execute_result"
    }
   ],
   "source": [
    "np.array([[1,2,3,4], [4,3,2,1]]) #Two dimensional array "
   ]
  },
  {
   "cell_type": "code",
   "execution_count": 26,
   "id": "7d644098",
   "metadata": {},
   "outputs": [
    {
     "data": {
      "text/plain": [
       "array([[[1, 2, 3],\n",
       "        [4, 2, 1]],\n",
       "\n",
       "       [[5, 6, 7],\n",
       "        [4, 2, 3]]])"
      ]
     },
     "execution_count": 26,
     "metadata": {},
     "output_type": "execute_result"
    }
   ],
   "source": [
    "threeD = np.array([[[1,2,3], [4,2,1]], [[5,6,7], [4,2,3]]]) #Three dimensional array\n",
    "threeD"
   ]
  },
  {
   "cell_type": "code",
   "execution_count": 27,
   "id": "c28ff276",
   "metadata": {},
   "outputs": [
    {
     "data": {
      "text/plain": [
       "1"
      ]
     },
     "execution_count": 27,
     "metadata": {},
     "output_type": "execute_result"
    }
   ],
   "source": [
    "threeD[0,1,2]"
   ]
  },
  {
   "cell_type": "code",
   "execution_count": 14,
   "id": "0cc82222",
   "metadata": {},
   "outputs": [
    {
     "data": {
      "text/plain": [
       "array([1., 2., 3., 4., 5.], dtype=float32)"
      ]
     },
     "execution_count": 14,
     "metadata": {},
     "output_type": "execute_result"
    }
   ],
   "source": [
    "a = np.array([1,2,3,4,5], dtype=np.float32) #Create and array of type to float\n",
    "a"
   ]
  },
  {
   "cell_type": "markdown",
   "id": "ae2bc055",
   "metadata": {},
   "source": [
    "### Generating Arrays"
   ]
  },
  {
   "cell_type": "code",
   "execution_count": 28,
   "id": "0f6a7f6f",
   "metadata": {},
   "outputs": [
    {
     "data": {
      "text/plain": [
       "array([[0., 0., 0.],\n",
       "       [0., 0., 0.]])"
      ]
     },
     "execution_count": 28,
     "metadata": {},
     "output_type": "execute_result"
    }
   ],
   "source": [
    "np.zeros((2,3)) #Two dimensional array of 0s"
   ]
  },
  {
   "cell_type": "code",
   "execution_count": 29,
   "id": "ef459f79",
   "metadata": {},
   "outputs": [
    {
     "data": {
      "text/plain": [
       "array([[[1., 1., 1., 1.],\n",
       "        [1., 1., 1., 1.]],\n",
       "\n",
       "       [[1., 1., 1., 1.],\n",
       "        [1., 1., 1., 1.]],\n",
       "\n",
       "       [[1., 1., 1., 1.],\n",
       "        [1., 1., 1., 1.]]])"
      ]
     },
     "execution_count": 29,
     "metadata": {},
     "output_type": "execute_result"
    }
   ],
   "source": [
    "np.ones((3,2,4)) #Three dimensional array of 1s"
   ]
  },
  {
   "cell_type": "code",
   "execution_count": 30,
   "id": "63fde1eb",
   "metadata": {},
   "outputs": [
    {
     "data": {
      "text/plain": [
       "array([[[0.42577929, 0.14957169, 0.4139802 ],\n",
       "        [0.27451052, 0.68386878, 0.74906119]],\n",
       "\n",
       "       [[0.91974295, 0.23597201, 0.05938353],\n",
       "        [0.48170007, 0.40681348, 0.75663832]]])"
      ]
     },
     "execution_count": 30,
     "metadata": {},
     "output_type": "execute_result"
    }
   ],
   "source": [
    "np.random.rand(2,2,3) #Three dimensional array of random numbers"
   ]
  },
  {
   "cell_type": "code",
   "execution_count": 38,
   "id": "53a90965",
   "metadata": {},
   "outputs": [
    {
     "data": {
      "text/plain": [
       "array([1, 3, 5, 7, 9])"
      ]
     },
     "execution_count": 38,
     "metadata": {},
     "output_type": "execute_result"
    }
   ],
   "source": [
    "np.arange(1,10,2) #Generate an arracy with specific sequence "
   ]
  },
  {
   "cell_type": "code",
   "execution_count": 39,
   "id": "a6adb5a7",
   "metadata": {},
   "outputs": [
    {
     "data": {
      "text/plain": [
       "array([[1., 0., 0., 0.],\n",
       "       [0., 1., 0., 0.],\n",
       "       [0., 0., 1., 0.],\n",
       "       [0., 0., 0., 1.]])"
      ]
     },
     "execution_count": 39,
     "metadata": {},
     "output_type": "execute_result"
    }
   ],
   "source": [
    "np.eye(4) #Generate a 2-D array with 1 as the diagonal"
   ]
  },
  {
   "cell_type": "code",
   "execution_count": 41,
   "id": "1e9d3ce7",
   "metadata": {
    "scrolled": true
   },
   "outputs": [
    {
     "data": {
      "text/plain": [
       "array([[0., 0., 0., 0.],\n",
       "       [0., 0., 0., 0.],\n",
       "       [1., 0., 0., 0.],\n",
       "       [0., 1., 0., 0.]])"
      ]
     },
     "execution_count": 41,
     "metadata": {},
     "output_type": "execute_result"
    }
   ],
   "source": [
    "a = np.eye(4,k=-2) #Move the diagonal up or down\n",
    "a"
   ]
  },
  {
   "cell_type": "code",
   "execution_count": 42,
   "id": "6e02f935",
   "metadata": {},
   "outputs": [
    {
     "name": "stdout",
     "output_type": "stream",
     "text": [
      "Dimensions:  2\n"
     ]
    }
   ],
   "source": [
    "print('Dimensions: ',  a.ndim) # Print Array dimensions"
   ]
  },
  {
   "cell_type": "code",
   "execution_count": 43,
   "id": "957ecef5",
   "metadata": {},
   "outputs": [
    {
     "name": "stdout",
     "output_type": "stream",
     "text": [
      "Shape:  (4, 4)\n"
     ]
    }
   ],
   "source": [
    "print('Shape: ', a.shape) # axis(s)"
   ]
  },
  {
   "cell_type": "code",
   "execution_count": 44,
   "id": "cbd0a0ea",
   "metadata": {},
   "outputs": [
    {
     "name": "stdout",
     "output_type": "stream",
     "text": [
      "Size:  16\n"
     ]
    }
   ],
   "source": [
    "print('Size: ', a.size) #Total Number of elements"
   ]
  },
  {
   "cell_type": "markdown",
   "id": "53466ee9",
   "metadata": {},
   "source": [
    "### Array slicing"
   ]
  },
  {
   "cell_type": "code",
   "execution_count": 53,
   "id": "dcd6f702",
   "metadata": {
    "scrolled": true
   },
   "outputs": [
    {
     "name": "stdout",
     "output_type": "stream",
     "text": [
      "[ 5 10]\n"
     ]
    }
   ],
   "source": [
    "a = np.array([[1, 2, 3, 4, 5], [6, 7, 8, 9, 10]]) #Starting at element 0 return the 4th index item of each element\n",
    "print(a[0:, 4])"
   ]
  },
  {
   "cell_type": "code",
   "execution_count": 70,
   "id": "68d62a40",
   "metadata": {},
   "outputs": [
    {
     "name": "stdout",
     "output_type": "stream",
     "text": [
      "Array:\n",
      " [[[ 1  2  3  4  5]\n",
      "  [ 6  7  8  9 10]]\n",
      "\n",
      " [[ 4  7  2  3  1]\n",
      "  [ 2  5  6  1  6]]]\n",
      "Element:\n",
      " [[4 9]\n",
      " [3 1]]\n"
     ]
    }
   ],
   "source": [
    "a = np.array([[[1, 2, 3, 4, 5], [6, 7, 8, 9, 10]], [[4, 7, 2, 3, 1], [2, 5, 6, 1, 6]]]) # For all subsets, look at each of the sub-elements from 0-2 (2 excluded) and return element 4\n",
    "print('Array:\\n', a)\n",
    "print('Element:\\n', a[0:,0:2,3])"
   ]
  },
  {
   "cell_type": "markdown",
   "id": "8fe3c14d",
   "metadata": {},
   "source": [
    "### Array Transformations"
   ]
  },
  {
   "cell_type": "code",
   "execution_count": 74,
   "id": "39f79b44",
   "metadata": {
    "scrolled": false
   },
   "outputs": [
    {
     "name": "stdout",
     "output_type": "stream",
     "text": [
      "a:\n",
      " [[0. 0. 0. 0.]\n",
      " [0. 0. 0. 0.]\n",
      " [1. 0. 0. 0.]\n",
      " [0. 1. 0. 0.]]\n",
      "b:\n",
      " [[0. 0.]\n",
      " [0. 0.]\n",
      " [0. 0.]\n",
      " [0. 0.]\n",
      " [1. 0.]\n",
      " [0. 0.]\n",
      " [0. 1.]\n",
      " [0. 0.]]\n"
     ]
    }
   ],
   "source": [
    "a = a = np.eye(4,k=-2)\n",
    "b = np.reshape(a,(8,-1)) #-1 allows numpy to figure out the dimension\n",
    "print('a:\\n', a)\n",
    "print('b:\\n', b)"
   ]
  },
  {
   "cell_type": "code",
   "execution_count": 75,
   "id": "4e7d905e",
   "metadata": {},
   "outputs": [
    {
     "name": "stdout",
     "output_type": "stream",
     "text": [
      "a:\n",
      " [ 1  2  3  4  5  6  7  8  9 10 11 12]\n",
      "b:\n",
      " [[[ 1  2]\n",
      "  [ 3  4]\n",
      "  [ 5  6]]\n",
      "\n",
      " [[ 7  8]\n",
      "  [ 9 10]\n",
      "  [11 12]]]\n"
     ]
    }
   ],
   "source": [
    "a = np.array([1, 2, 3, 4, 5, 6, 7, 8, 9, 10, 11, 12]) #1 dimensional array\n",
    "b = a.reshape(2, 3, 2) #Reshape to 3 dimensional array\n",
    "print('a:\\n', a)\n",
    "print('b:\\n', b)\n"
   ]
  },
  {
   "cell_type": "code",
   "execution_count": 47,
   "id": "27e33ab8",
   "metadata": {},
   "outputs": [
    {
     "name": "stdout",
     "output_type": "stream",
     "text": [
      "Original \n",
      " Shape (2, 3) \n",
      " [[1 2 3]\n",
      " [4 5 6]]\n",
      "Expand along columns: \n",
      " Shape (3, 2) \n",
      " [[1 4]\n",
      " [2 5]\n",
      " [3 6]]\n"
     ]
    }
   ],
   "source": [
    "a = np.array([[1,2,3],[4,5,6]])\n",
    "b = np.transpose(a) # Transpose the Array Matrix\n",
    "print('Original','\\n','Shape',a.shape,'\\n',a)\n",
    "print('Transposed:','\\n','Shape',b.shape,'\\n',b)"
   ]
  },
  {
   "cell_type": "markdown",
   "id": "224e1941",
   "metadata": {},
   "source": [
    "### Other operations"
   ]
  },
  {
   "cell_type": "code",
   "execution_count": 91,
   "id": "40095f00",
   "metadata": {},
   "outputs": [
    {
     "name": "stdout",
     "output_type": "stream",
     "text": [
      "a:\n",
      " [[5 6 7 4]\n",
      " [9 2 3 7]]\n",
      "Sort along column : \n",
      " [[4 5 6 7]\n",
      " [2 3 7 9]]\n",
      "Sort along row : \n",
      " [[5 2 3 4]\n",
      " [9 6 7 7]]\n"
     ]
    }
   ],
   "source": [
    "a = np.array([[5,6,7,4],\n",
    "              [9,2,3,7]])\n",
    "print('a:\\n', a)\n",
    "print('Sort along column :','\\n',np.sort(a, axis=1)) # sort along the column\n",
    "print('Sort along row :','\\n',np.sort(a, axis=0)) # sort along the row"
   ]
  },
  {
   "cell_type": "code",
   "execution_count": 103,
   "id": "f7c855ac",
   "metadata": {},
   "outputs": [
    {
     "name": "stdout",
     "output_type": "stream",
     "text": [
      "(array([4]),)\n"
     ]
    }
   ],
   "source": [
    "a = np.array([1, 2, 3, 4, 5, 4])\n",
    "x = np.where(a == 5) #Find an element by value\n",
    "print(x)"
   ]
  },
  {
   "cell_type": "markdown",
   "id": "379c8469",
   "metadata": {},
   "source": [
    "### Additional code samples"
   ]
  },
  {
   "cell_type": "code",
   "execution_count": 89,
   "id": "c2419d65",
   "metadata": {},
   "outputs": [
    {
     "name": "stdout",
     "output_type": "stream",
     "text": [
      "a:\n",
      " [ True  True False  True]\n",
      "Sorted:\n",
      " [False  True  True  True]\n"
     ]
    }
   ],
   "source": [
    "a = np.array([True, True, False, True]) #Sorting booleans\n",
    "np.sort(a)\n",
    "print('a:\\n', a)\n",
    "print('Sorted:\\n', np.sort(a))"
   ]
  },
  {
   "cell_type": "code",
   "execution_count": 88,
   "id": "070ecca5",
   "metadata": {
    "scrolled": true
   },
   "outputs": [
    {
     "name": "stdout",
     "output_type": "stream",
     "text": [
      "a:\n",
      " ['Karachi' 'Dubai' 'New York']\n",
      "Sorted:\n",
      " ['Dubai' 'Karachi' 'New York']\n"
     ]
    }
   ],
   "source": [
    "a = np.array(['Karachi','Dubai','New York']) #Sorting strings \n",
    "np.sort(a)\n",
    "print('a:\\n', a)\n",
    "print('Sorted:\\n', np.sort(a))"
   ]
  },
  {
   "cell_type": "code",
   "execution_count": 95,
   "id": "5c9d4eb9",
   "metadata": {},
   "outputs": [
    {
     "name": "stdout",
     "output_type": "stream",
     "text": [
      "(array([0, 1, 2]),)\n"
     ]
    }
   ],
   "source": [
    "a = np.array([1, 2, 3, 4, 5, 4, 4])\n",
    "x = np.where(a < 4) #Find an element by comparison\n",
    "print(x)"
   ]
  },
  {
   "cell_type": "code",
   "execution_count": 104,
   "id": "9ff3b33c",
   "metadata": {},
   "outputs": [
    {
     "name": "stdout",
     "output_type": "stream",
     "text": [
      "3\n"
     ]
    }
   ],
   "source": [
    "arr = np.array([10, 12, 14, 20])\n",
    "x = np.searchsorted(arr, 15) # Find the index where 15 should be inserted\n",
    "print(x)"
   ]
  },
  {
   "cell_type": "code",
   "execution_count": 78,
   "id": "7ffcfe96",
   "metadata": {},
   "outputs": [
    {
     "name": "stdout",
     "output_type": "stream",
     "text": [
      "a:\n",
      " [[1. 0. 0. 0.]\n",
      " [0. 1. 0. 0.]\n",
      " [0. 0. 1. 0.]\n",
      " [0. 0. 0. 1.]]\n",
      "b:\n",
      " [1. 0. 0. 0. 0. 1. 0. 0. 0. 0. 1. 0. 0. 0. 0. 1.]\n"
     ]
    }
   ],
   "source": [
    "a = a = np.eye(4)\n",
    "b = a.flatten() # Flattens the array and Returns a copy of the original array\n",
    "print('a:\\n', a)\n",
    "print('b:\\n', b)"
   ]
  },
  {
   "cell_type": "code",
   "execution_count": 79,
   "id": "55e89270",
   "metadata": {},
   "outputs": [
    {
     "name": "stdout",
     "output_type": "stream",
     "text": [
      "[[1. 0. 0. 0.]\n",
      " [0. 1. 0. 0.]\n",
      " [0. 0. 1. 0.]\n",
      " [0. 0. 0. 1.]]\n"
     ]
    }
   ],
   "source": [
    "b[0] = 3\n",
    "print(a) #a is unchanged when b is updated"
   ]
  },
  {
   "cell_type": "code",
   "execution_count": 80,
   "id": "ace39f38",
   "metadata": {},
   "outputs": [
    {
     "name": "stdout",
     "output_type": "stream",
     "text": [
      "a:\n",
      " [[1. 0. 0. 0.]\n",
      " [0. 1. 0. 0.]\n",
      " [0. 0. 1. 0.]\n",
      " [0. 0. 0. 1.]]\n",
      "b:\n",
      " [1. 0. 0. 0. 0. 1. 0. 0. 0. 0. 1. 0. 0. 0. 0. 1.]\n"
     ]
    }
   ],
   "source": [
    "b = a.ravel() #Flattens but maintains a link to the original array\n",
    "print('a:\\n', a)\n",
    "print('b:\\n', b)"
   ]
  },
  {
   "cell_type": "code",
   "execution_count": 81,
   "id": "065fb8ab",
   "metadata": {},
   "outputs": [
    {
     "name": "stdout",
     "output_type": "stream",
     "text": [
      "[[3. 0. 0. 0.]\n",
      " [0. 1. 0. 0.]\n",
      " [0. 0. 1. 0.]\n",
      " [0. 0. 0. 1.]]\n"
     ]
    }
   ],
   "source": [
    "b[0] = 3\n",
    "print(a) #a gets changed when b is updated"
   ]
  },
  {
   "cell_type": "code",
   "execution_count": 92,
   "id": "c7cdc382",
   "metadata": {},
   "outputs": [
    {
     "name": "stdout",
     "output_type": "stream",
     "text": [
      "a:\n",
      " ['A' 'C' 'B' 'X']\n",
      "b:\n",
      " [['A' 'C' 'B' 'X']]\n",
      "c:\n",
      " [['A']\n",
      " ['C']\n",
      " ['B']\n",
      " ['X']]\n"
     ]
    }
   ],
   "source": [
    "a = np.array([\"A\",\"C\",\"B\",\"X\"])\n",
    "b = np.expand_dims(a,axis=0) #increase dimension on axis 0\n",
    "c = np.expand_dims(a,axis=1) #increase dimension on axis 1\n",
    "print('a:\\n', a)\n",
    "print('b:\\n', b)\n",
    "print('c:\\n', c)"
   ]
  },
  {
   "cell_type": "code",
   "execution_count": 4,
   "id": "ff411de4",
   "metadata": {},
   "outputs": [
    {
     "name": "stdout",
     "output_type": "stream",
     "text": [
      "[[[1 2 3]\n",
      "  [4 5 6]]]\n",
      "[[1 2 3]\n",
      " [4 5 6]]\n"
     ]
    }
   ],
   "source": [
    "a = np.array([[[1,2,3],[4,5,6]]])\n",
    "b = np.squeeze(a, axis=0) #Reduce dimension on axis 0\n",
    "print('a:\\n', a)\n",
    "print('b:\\n', b)\n"
   ]
  },
  {
   "cell_type": "code",
   "execution_count": 3,
   "id": "4728be7d",
   "metadata": {},
   "outputs": [
    {
     "name": "stdout",
     "output_type": "stream",
     "text": [
      "a : \n",
      " [[ 1  2  3  4  5]\n",
      " [ 6  7  8  9 10]]\n",
      "Vertical Flip : \n",
      " [[ 5  4  3  2  1]\n",
      " [10  9  8  7  6]]\n",
      "Horizontal Flip : \n",
      " [[ 6  7  8  9 10]\n",
      " [ 1  2  3  4  5]]\n"
     ]
    }
   ],
   "source": [
    "a = np.array([[1,2,3,4,5],\n",
    "[6,7,8,9,10]])\n",
    "print('a :','\\n',a)\n",
    "print('Vertical Flip :','\\n',np.flip(a,axis=1)) # Flips on vertical axis\n",
    "print('Horizontal Flip :','\\n',np.flip(a,axis=0)) # Flips on horizontal axis"
   ]
  },
  {
   "cell_type": "code",
   "execution_count": 4,
   "id": "f5ccb613",
   "metadata": {},
   "outputs": [
    {
     "name": "stdout",
     "output_type": "stream",
     "text": [
      "a : \n",
      " [0 1 2 3 4]\n",
      "b : \n",
      " [5 6 7 8 9]\n",
      "Vertical stack : \n",
      " [[0 1 2 3 4]\n",
      " [5 6 7 8 9]]\n",
      "Horizontal stack : \n",
      " [0 1 2 3 4 5 6 7 8 9]\n"
     ]
    }
   ],
   "source": [
    "a = np.arange(0,5)\n",
    "b = np.arange(5,10)\n",
    "print('a :','\\n',a)\n",
    "print('b :','\\n',b)\n",
    "print('Vertical stack :','\\n',np.vstack((a,b))) # Stack vertically\n",
    "print('Horizontal stack :','\\n',np.hstack((a,b))) #Stack horizontally"
   ]
  },
  {
   "cell_type": "code",
   "execution_count": 108,
   "id": "b61bd5b6",
   "metadata": {},
   "outputs": [
    {
     "name": "stdout",
     "output_type": "stream",
     "text": [
      "a : \n",
      " [10 12 14 16 18]\n",
      "Adding two different size arrays : \n",
      " [[12 14 16 18 20]\n",
      " [15 17 19 21 23]]\n",
      "Multiplying an ndarray and a number : [20 24 28 32 36]\n"
     ]
    }
   ],
   "source": [
    "a = np.arange(10,20,2)\n",
    "b = np.array([[2],[5]])\n",
    "print('a :',a)\n",
    "print('Adding two different size arrays :','\\n',a+b) #Adding Arrays\n",
    "print('Multiplying an ndarray and a number :',a*2) #Multiplying an array with a scalar"
   ]
  },
  {
   "cell_type": "code",
   "execution_count": 110,
   "id": "e5bfe889",
   "metadata": {},
   "outputs": [
    {
     "name": "stdout",
     "output_type": "stream",
     "text": [
      "a : [10 12 14 16 18]\n",
      "Subtract : [ 8 10 12 14 16]\n",
      "Multiply : [100 120 140 160 180]\n",
      "Divide : [0.2  0.24 0.28 0.32 0.36]\n",
      "Power : [ 10000  20736  38416  65536 104976]\n",
      "Remainder : [1 0 2 1 0]\n"
     ]
    }
   ],
   "source": [
    "print('a :',a)\n",
    "print('Subtract :',a-2)\n",
    "print('Multiply :',a*10)\n",
    "print('Divide :',a/50)\n",
    "print('Power :',a**4)\n",
    "print('Remainder :',a%3)"
   ]
  },
  {
   "cell_type": "code",
   "execution_count": 111,
   "id": "9e347386",
   "metadata": {},
   "outputs": [
    {
     "name": "stdout",
     "output_type": "stream",
     "text": [
      "a : [ 5  7  9 11 13]\n",
      "Mean : 9.0\n",
      "Standard deviation : 2.8284271247461903\n",
      "Median : 9.0\n"
     ]
    }
   ],
   "source": [
    "a = np.arange(5,15,2)\n",
    "print('a :',a)\n",
    "print('Mean :',np.mean(a))\n",
    "print('Standard deviation :',np.std(a))\n",
    "print('Median :',np.median(a))"
   ]
  },
  {
   "cell_type": "code",
   "execution_count": 114,
   "id": "ada34194",
   "metadata": {},
   "outputs": [
    {
     "name": "stdout",
     "output_type": "stream",
     "text": [
      "a :\n",
      " [[1 6]\n",
      " [4 3]]\n",
      "Min - column: [1 3]\n",
      "Max - row: [6 4]\n"
     ]
    }
   ],
   "source": [
    "a = np.array([[1,6],[4,3]])\n",
    "print('a :\\n',a)\n",
    "print('Min - column:',np.min(a,axis=0)) # minimum along a column\n",
    "print('Max - row:',np.max(a,axis=1)) # maximum along a row"
   ]
  },
  {
   "cell_type": "code",
   "execution_count": 115,
   "id": "af7f55e9",
   "metadata": {},
   "outputs": [
    {
     "name": "stdout",
     "output_type": "stream",
     "text": [
      "Min : [0 1 0]\n",
      "Max : [1 2]\n"
     ]
    }
   ],
   "source": [
    "a = np.array([[1,6,5],[4,3,7]])\n",
    "print('Min :',np.argmin(a,axis=0)) #Index of min along cloumn\n",
    "print('Max :',np.argmax(a,axis=1)) #Index of max along row"
   ]
  }
 ],
 "metadata": {
  "kernelspec": {
   "display_name": "Python 3 (ipykernel)",
   "language": "python",
   "name": "python3"
  },
  "language_info": {
   "codemirror_mode": {
    "name": "ipython",
    "version": 3
   },
   "file_extension": ".py",
   "mimetype": "text/x-python",
   "name": "python",
   "nbconvert_exporter": "python",
   "pygments_lexer": "ipython3",
   "version": "3.9.13"
  }
 },
 "nbformat": 4,
 "nbformat_minor": 5
}
