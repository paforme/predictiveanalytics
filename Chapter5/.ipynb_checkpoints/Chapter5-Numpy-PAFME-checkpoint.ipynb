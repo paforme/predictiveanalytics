{
 "cells": [
  {
   "cell_type": "markdown",
   "id": "056793bf",
   "metadata": {},
   "source": [
    "# Numpy\n",
    "## Chapter 5\n",
    "### Predictive Analytics for the Modern Enterprise "
   ]
  },
  {
   "cell_type": "markdown",
   "id": "9d7ed6a9",
   "metadata": {},
   "source": [
    "This is jupyter notebook that can be used to follow along the code examples for **Chapter 5 Section 1 - Numpy** of the book.\n",
    "The code examples go through some of the functionality that can be used to work with *multi-diemnsional arrays* using the Numpy library in python. \n",
    "\n",
    "The notebook has been tested using the following pre-requisite:\n",
    "\n",
    "* Python V3.9.13 - https://www.python.org/\n",
    "* Anaconda Navigator V3 for Python 3.9 - https://www.anaconda.com/\n",
    "* Jupyter - V6.4.12 - https://jupyter.org/ \n",
    "* Desktop computer - macOS Ventura V13.1 "
   ]
  },
  {
   "cell_type": "markdown",
   "id": "c454760a",
   "metadata": {},
   "source": [
    "### Installation"
   ]
  },
  {
   "cell_type": "markdown",
   "id": "20231e0d",
   "metadata": {},
   "source": [
    "In case you don't have numpy installed use the following command to install numpy in your environment"
   ]
  },
  {
   "cell_type": "code",
   "execution_count": 1,
   "id": "e2b52da7",
   "metadata": {},
   "outputs": [
    {
     "name": "stdout",
     "output_type": "stream",
     "text": [
      "Requirement already satisfied: numpy in /opt/anaconda3/lib/python3.9/site-packages (1.23.5)\n",
      "Note: you may need to restart the kernel to use updated packages.\n"
     ]
    }
   ],
   "source": [
    "pip install numpy"
   ]
  },
  {
   "cell_type": "code",
   "execution_count": 2,
   "id": "de9ffa24",
   "metadata": {},
   "outputs": [],
   "source": [
    "import numpy as np"
   ]
  },
  {
   "cell_type": "markdown",
   "id": "4e03d5ae",
   "metadata": {},
   "source": [
    "### Arrays, dimensions, indexes and data types"
   ]
  },
  {
   "cell_type": "code",
   "execution_count": 3,
   "id": "e3ab7a91",
   "metadata": {
    "scrolled": true
   },
   "outputs": [
    {
     "data": {
      "text/plain": [
       "array([0, 1, 2, 3])"
      ]
     },
     "execution_count": 3,
     "metadata": {},
     "output_type": "execute_result"
    }
   ],
   "source": [
    "np.array([0,1,2,3]) #One dimension array"
   ]
  },
  {
   "cell_type": "code",
   "execution_count": 4,
   "id": "e2a8662a",
   "metadata": {},
   "outputs": [
    {
     "data": {
      "text/plain": [
       "array([[1, 2, 3, 4],\n",
       "       [4, 3, 2, 1]])"
      ]
     },
     "execution_count": 4,
     "metadata": {},
     "output_type": "execute_result"
    }
   ],
   "source": [
    "np.array([[1,2,3,4], [4,3,2,1]]) #Two dimensional array "
   ]
  },
  {
   "cell_type": "code",
   "execution_count": 5,
   "id": "7d644098",
   "metadata": {},
   "outputs": [
    {
     "data": {
      "text/plain": [
       "array([[[1, 2, 3],\n",
       "        [4, 2, 1]],\n",
       "\n",
       "       [[5, 6, 7],\n",
       "        [4, 2, 3]]])"
      ]
     },
     "execution_count": 5,
     "metadata": {},
     "output_type": "execute_result"
    }
   ],
   "source": [
    "threeD = np.array([[[1,2,3], [4,2,1]], [[5,6,7], [4,2,3]]]) #Three dimensional array\n",
    "threeD"
   ]
  },
  {
   "cell_type": "code",
   "execution_count": 6,
   "id": "c28ff276",
   "metadata": {},
   "outputs": [
    {
     "data": {
      "text/plain": [
       "1"
      ]
     },
     "execution_count": 6,
     "metadata": {},
     "output_type": "execute_result"
    }
   ],
   "source": [
    "threeD[0,1,2]"
   ]
  },
  {
   "cell_type": "code",
   "execution_count": 7,
   "id": "0cc82222",
   "metadata": {},
   "outputs": [
    {
     "data": {
      "text/plain": [
       "array([1., 2., 3., 4., 5.], dtype=float32)"
      ]
     },
     "execution_count": 7,
     "metadata": {},
     "output_type": "execute_result"
    }
   ],
   "source": [
    "a = np.array([1,2,3,4,5], dtype=np.float32) #Create and array of type to float\n",
    "a"
   ]
  },
  {
   "cell_type": "markdown",
   "id": "ae2bc055",
   "metadata": {},
   "source": [
    "### Generating Arrays"
   ]
  },
  {
   "cell_type": "code",
   "execution_count": 8,
   "id": "0f6a7f6f",
   "metadata": {},
   "outputs": [
    {
     "data": {
      "text/plain": [
       "array([[0., 0., 0.],\n",
       "       [0., 0., 0.]])"
      ]
     },
     "execution_count": 8,
     "metadata": {},
     "output_type": "execute_result"
    }
   ],
   "source": [
    "np.zeros((2,3)) #Two dimensional array of 0s"
   ]
  },
  {
   "cell_type": "code",
   "execution_count": 9,
   "id": "ef459f79",
   "metadata": {},
   "outputs": [
    {
     "data": {
      "text/plain": [
       "array([[[1., 1., 1., 1.],\n",
       "        [1., 1., 1., 1.]],\n",
       "\n",
       "       [[1., 1., 1., 1.],\n",
       "        [1., 1., 1., 1.]],\n",
       "\n",
       "       [[1., 1., 1., 1.],\n",
       "        [1., 1., 1., 1.]]])"
      ]
     },
     "execution_count": 9,
     "metadata": {},
     "output_type": "execute_result"
    }
   ],
   "source": [
    "np.ones((3,2,4)) #Three dimensional array of 1s"
   ]
  },
  {
   "cell_type": "code",
   "execution_count": 10,
   "id": "63fde1eb",
   "metadata": {},
   "outputs": [
    {
     "data": {
      "text/plain": [
       "array([[[0.34722037, 0.4064136 , 0.45872499],\n",
       "        [0.86784904, 0.32554903, 0.00541894]],\n",
       "\n",
       "       [[0.08278181, 0.54906014, 0.08144777],\n",
       "        [0.39925984, 0.54004031, 0.52540672]]])"
      ]
     },
     "execution_count": 10,
     "metadata": {},
     "output_type": "execute_result"
    }
   ],
   "source": [
    "np.random.rand(2,2,3) #Three dimensional array of random numbers"
   ]
  },
  {
   "cell_type": "code",
   "execution_count": 11,
   "id": "53a90965",
   "metadata": {},
   "outputs": [
    {
     "data": {
      "text/plain": [
       "array([1, 3, 5, 7, 9])"
      ]
     },
     "execution_count": 11,
     "metadata": {},
     "output_type": "execute_result"
    }
   ],
   "source": [
    "np.arange(1,10,2) #Generate an arracy with specific sequence "
   ]
  },
  {
   "cell_type": "code",
   "execution_count": 12,
   "id": "a6adb5a7",
   "metadata": {},
   "outputs": [
    {
     "data": {
      "text/plain": [
       "array([[1., 0., 0., 0.],\n",
       "       [0., 1., 0., 0.],\n",
       "       [0., 0., 1., 0.],\n",
       "       [0., 0., 0., 1.]])"
      ]
     },
     "execution_count": 12,
     "metadata": {},
     "output_type": "execute_result"
    }
   ],
   "source": [
    "np.eye(4) #Generate a 2-D array with 1 as the diagonal"
   ]
  },
  {
   "cell_type": "code",
   "execution_count": 13,
   "id": "1e9d3ce7",
   "metadata": {
    "scrolled": true
   },
   "outputs": [
    {
     "data": {
      "text/plain": [
       "array([[0., 0., 0., 0.],\n",
       "       [0., 0., 0., 0.],\n",
       "       [1., 0., 0., 0.],\n",
       "       [0., 1., 0., 0.]])"
      ]
     },
     "execution_count": 13,
     "metadata": {},
     "output_type": "execute_result"
    }
   ],
   "source": [
    "a = np.eye(4,k=-2) #Move the diagonal up or down\n",
    "a"
   ]
  },
  {
   "cell_type": "code",
   "execution_count": 14,
   "id": "6e02f935",
   "metadata": {},
   "outputs": [
    {
     "name": "stdout",
     "output_type": "stream",
     "text": [
      "Dimensions:  2\n"
     ]
    }
   ],
   "source": [
    "print('Dimensions: ',  a.ndim) # Print Array dimensions"
   ]
  },
  {
   "cell_type": "code",
   "execution_count": 15,
   "id": "957ecef5",
   "metadata": {},
   "outputs": [
    {
     "name": "stdout",
     "output_type": "stream",
     "text": [
      "Shape:  (4, 4)\n"
     ]
    }
   ],
   "source": [
    "print('Shape: ', a.shape) # axis(s)"
   ]
  },
  {
   "cell_type": "code",
   "execution_count": 16,
   "id": "cbd0a0ea",
   "metadata": {},
   "outputs": [
    {
     "name": "stdout",
     "output_type": "stream",
     "text": [
      "Size:  16\n"
     ]
    }
   ],
   "source": [
    "print('Size: ', a.size) #Total Number of elements"
   ]
  },
  {
   "cell_type": "markdown",
   "id": "53466ee9",
   "metadata": {},
   "source": [
    "### Array slicing"
   ]
  },
  {
   "cell_type": "code",
   "execution_count": 17,
   "id": "dcd6f702",
   "metadata": {
    "scrolled": false
   },
   "outputs": [
    {
     "name": "stdout",
     "output_type": "stream",
     "text": [
      "[ 5 10]\n"
     ]
    }
   ],
   "source": [
    "#Starting at element 0 return the 4th index item of each element\n",
    "a = np.array([[1, 2, 3, 4, 5], [6, 7, 8, 9, 10]]) \n",
    "print(a[0:, 4])"
   ]
  },
  {
   "cell_type": "code",
   "execution_count": 18,
   "id": "68d62a40",
   "metadata": {},
   "outputs": [
    {
     "name": "stdout",
     "output_type": "stream",
     "text": [
      "Array:\n",
      " [[[ 1  2  3  4  5]\n",
      "  [ 6  7  8  9 10]]\n",
      "\n",
      " [[ 4  7  2  3  1]\n",
      "  [ 2  5  6  1  6]]]\n",
      "Element:\n",
      " [[4 9]\n",
      " [3 1]]\n"
     ]
    }
   ],
   "source": [
    "# For all subsets, look at each of the sub-elements \n",
    "# from 0-2 (2 excluded) and return element 4\n",
    "a = np.array([[[1, 2, 3, 4, 5], [6, 7, 8, 9, 10]], \n",
    "              [[4, 7, 2, 3, 1], [2, 5, 6, 1, 6]]]) \n",
    "print('Array:\\n', a)\n",
    "print('Element:\\n', a[0:,0:2,3])"
   ]
  },
  {
   "cell_type": "markdown",
   "id": "8fe3c14d",
   "metadata": {},
   "source": [
    "### Array Transformations"
   ]
  },
  {
   "cell_type": "code",
   "execution_count": 19,
   "id": "39f79b44",
   "metadata": {
    "scrolled": false
   },
   "outputs": [
    {
     "name": "stdout",
     "output_type": "stream",
     "text": [
      "a:\n",
      " [[0. 0. 0. 0.]\n",
      " [0. 0. 0. 0.]\n",
      " [1. 0. 0. 0.]\n",
      " [0. 1. 0. 0.]]\n",
      "b:\n",
      " [[0. 0.]\n",
      " [0. 0.]\n",
      " [0. 0.]\n",
      " [0. 0.]\n",
      " [1. 0.]\n",
      " [0. 0.]\n",
      " [0. 1.]\n",
      " [0. 0.]]\n"
     ]
    }
   ],
   "source": [
    "a = a = np.eye(4,k=-2)\n",
    "b = np.reshape(a,(8,-1)) #-1 allows numpy to figure out the dimension\n",
    "print('a:\\n', a)\n",
    "print('b:\\n', b)"
   ]
  },
  {
   "cell_type": "code",
   "execution_count": 20,
   "id": "4e7d905e",
   "metadata": {},
   "outputs": [
    {
     "name": "stdout",
     "output_type": "stream",
     "text": [
      "a:\n",
      " [ 1  2  3  4  5  6  7  8  9 10 11 12]\n",
      "b:\n",
      " [[[ 1  2]\n",
      "  [ 3  4]\n",
      "  [ 5  6]]\n",
      "\n",
      " [[ 7  8]\n",
      "  [ 9 10]\n",
      "  [11 12]]]\n"
     ]
    }
   ],
   "source": [
    "a = np.array([1, 2, 3, 4, 5, 6, 7, 8, 9, 10, 11, 12]) #1 dimensional array\n",
    "b = a.reshape(2, 3, 2) #Reshape to 3 dimensional array\n",
    "print('a:\\n', a)\n",
    "print('b:\\n', b)\n"
   ]
  },
  {
   "cell_type": "code",
   "execution_count": 21,
   "id": "27e33ab8",
   "metadata": {},
   "outputs": [
    {
     "name": "stdout",
     "output_type": "stream",
     "text": [
      "Original \n",
      " Shape (2, 3) \n",
      " [[1 2 3]\n",
      " [4 5 6]]\n",
      "Transposed: \n",
      " Shape (3, 2) \n",
      " [[1 4]\n",
      " [2 5]\n",
      " [3 6]]\n"
     ]
    }
   ],
   "source": [
    "a = np.array([[1,2,3],[4,5,6]])\n",
    "b = np.transpose(a) # Transpose the Array Matrix\n",
    "print('Original','\\n','Shape',a.shape,'\\n',a)\n",
    "print('Transposed:','\\n','Shape',b.shape,'\\n',b)"
   ]
  },
  {
   "cell_type": "markdown",
   "id": "224e1941",
   "metadata": {},
   "source": [
    "### Other operations"
   ]
  },
  {
   "cell_type": "code",
   "execution_count": 22,
   "id": "40095f00",
   "metadata": {},
   "outputs": [
    {
     "name": "stdout",
     "output_type": "stream",
     "text": [
      "a:\n",
      " [[5 6 7 4]\n",
      " [9 2 3 7]]\n",
      "Sort along column : \n",
      " [[4 5 6 7]\n",
      " [2 3 7 9]]\n",
      "Sort along row : \n",
      " [[5 2 3 4]\n",
      " [9 6 7 7]]\n"
     ]
    }
   ],
   "source": [
    "a = np.array([[5,6,7,4],\n",
    "              [9,2,3,7]])\n",
    "print('a:\\n', a)\n",
    "print('Sort along column :','\\n',np.sort(a, axis=1)) # sort along the column\n",
    "print('Sort along row :','\\n',np.sort(a, axis=0)) # sort along the row"
   ]
  },
  {
   "cell_type": "code",
   "execution_count": 23,
   "id": "f7c855ac",
   "metadata": {},
   "outputs": [
    {
     "name": "stdout",
     "output_type": "stream",
     "text": [
      "(array([4]),)\n"
     ]
    }
   ],
   "source": [
    "a = np.array([1, 2, 3, 4, 5, 4])\n",
    "x = np.where(a == 5) #Find an element by value\n",
    "print(x)"
   ]
  },
  {
   "cell_type": "markdown",
   "id": "be58cc76",
   "metadata": {},
   "source": [
    "### Cinema Example"
   ]
  },
  {
   "cell_type": "code",
   "execution_count": 24,
   "id": "6c2ec93d",
   "metadata": {},
   "outputs": [
    {
     "name": "stdout",
     "output_type": "stream",
     "text": [
      "1D Array Shape: (12,)\n",
      "Sample Data:\n"
     ]
    },
    {
     "data": {
      "text/plain": [
       "array([401, 534, 790, 954, 375, 339, 196, 794, 317, 132, 830, 214])"
      ]
     },
     "execution_count": 24,
     "metadata": {},
     "output_type": "execute_result"
    }
   ],
   "source": [
    "# Define dimensions\n",
    "months = 12\n",
    "\n",
    "# Create a 1D array with dimensions (months) \n",
    "# We have just 1 cinema and 1 category\n",
    "# We are using a random function to generate ticket sales values \n",
    "# between 80 - 1200\n",
    "ticket_sales = np.random.randint(80, 1201, size=(months))\n",
    "\n",
    "print(\"1D Array Shape:\", ticket_sales.shape)\n",
    "print(\"Sample Data:\")\n",
    "ticket_sales"
   ]
  },
  {
   "cell_type": "code",
   "execution_count": 25,
   "id": "17c78d65",
   "metadata": {},
   "outputs": [
    {
     "name": "stdout",
     "output_type": "stream",
     "text": [
      "2D Array Shape: (12, 3)\n",
      "Sample Data:\n"
     ]
    },
    {
     "data": {
      "text/plain": [
       "array([[ 894,  760,  131],\n",
       "       [ 147, 1033, 1022],\n",
       "       [ 668,  110, 1030],\n",
       "       [1053, 1039,  787],\n",
       "       [ 251,  553,  378],\n",
       "       [ 719,  424,  621],\n",
       "       [ 840, 1143,  482],\n",
       "       [ 369,  853,  912],\n",
       "       [1099,  435,  699],\n",
       "       [ 762,  876,  733],\n",
       "       [ 335,  165,  842],\n",
       "       [ 780,  799,  844]])"
      ]
     },
     "execution_count": 25,
     "metadata": {},
     "output_type": "execute_result"
    }
   ],
   "source": [
    "# Define dimensions\n",
    "months = 12\n",
    "categories = 3\n",
    "\n",
    "# Create a 2D array with dimensions (months, categories) \n",
    "# We just have 1 cinema\n",
    "# We are using a random function to generate ticket sales values \n",
    "# between 80 - 1200\n",
    "ticket_sales = np.random.randint(80, 1201, size=(months, categories))\n",
    "\n",
    "print(\"2D Array Shape:\", ticket_sales.shape)\n",
    "print(\"Sample Data:\")\n",
    "ticket_sales"
   ]
  },
  {
   "cell_type": "code",
   "execution_count": 26,
   "id": "5ba87b7a",
   "metadata": {},
   "outputs": [
    {
     "name": "stdout",
     "output_type": "stream",
     "text": [
      "3D Array Shape: (9, 12, 3)\n",
      "Sample Data:\n"
     ]
    },
    {
     "data": {
      "text/plain": [
       "array([[[1104,  300,  306],\n",
       "        [ 953,  131,  690],\n",
       "        [ 863,  526,  508],\n",
       "        [1072, 1145,  553],\n",
       "        [ 148,  630, 1085],\n",
       "        [ 832, 1149,  655],\n",
       "        [ 705,  487,  355],\n",
       "        [1187,  310,  798],\n",
       "        [  99, 1042,  722],\n",
       "        [ 273,  461,  525],\n",
       "        [ 732,  273,  182],\n",
       "        [ 640,  120, 1120]],\n",
       "\n",
       "       [[ 582,  671, 1030],\n",
       "        [ 129,  981,  962],\n",
       "        [ 897,  752,  357],\n",
       "        [ 363,  408,  975],\n",
       "        [ 904,  170,  271],\n",
       "        [ 846,  548,  611],\n",
       "        [1060, 1003,  758],\n",
       "        [ 647, 1131,  277],\n",
       "        [ 777,  694, 1100],\n",
       "        [ 247,  917, 1184],\n",
       "        [1026,  282,  534],\n",
       "        [ 465,   98, 1057]],\n",
       "\n",
       "       [[ 851,  742,  230],\n",
       "        [ 349,  588,  198],\n",
       "        [1182,  880, 1149],\n",
       "        [ 547,  732,  827],\n",
       "        [ 102,  576,  315],\n",
       "        [ 342,  603,  151],\n",
       "        [ 151,  471,  592],\n",
       "        [ 655,  216,  291],\n",
       "        [ 180, 1126,  112],\n",
       "        [ 923,  529,  889],\n",
       "        [ 624,  343, 1136],\n",
       "        [1052,  704, 1031]],\n",
       "\n",
       "       [[ 572, 1130,  911],\n",
       "        [ 235,  182,  688],\n",
       "        [1096,  406,  542],\n",
       "        [ 297,  774,  316],\n",
       "        [ 579,  486,  238],\n",
       "        [ 105, 1123, 1119],\n",
       "        [ 983,  340,  592],\n",
       "        [ 467,  291,  713],\n",
       "        [1047,  624,  514],\n",
       "        [ 938,  917, 1036],\n",
       "        [ 339,  474,  333],\n",
       "        [ 605, 1024,  123]],\n",
       "\n",
       "       [[ 956,  943, 1184],\n",
       "        [ 505,  401,  768],\n",
       "        [ 156,  725,  444],\n",
       "        [ 142,  139, 1109],\n",
       "        [1039,  624,  186],\n",
       "        [ 410,  756,  370],\n",
       "        [ 460, 1167, 1111],\n",
       "        [ 912,  266,  596],\n",
       "        [1140,  996,  678],\n",
       "        [ 523, 1016,  439],\n",
       "        [ 391,  942,  821],\n",
       "        [ 972,  396,  212]],\n",
       "\n",
       "       [[ 690,  790, 1078],\n",
       "        [ 543,  901,  433],\n",
       "        [ 813,  358, 1137],\n",
       "        [ 230,  548,  761],\n",
       "        [1187, 1067,  922],\n",
       "        [1165,  124,  272],\n",
       "        [ 202,  309,  366],\n",
       "        [1071,  931,  588],\n",
       "        [ 901,  492,  121],\n",
       "        [ 984,  733,  314],\n",
       "        [ 172,  274,  718],\n",
       "        [ 242,  991,  645]],\n",
       "\n",
       "       [[ 781,  110, 1002],\n",
       "        [ 544,  617,  510],\n",
       "        [ 447,  928,   86],\n",
       "        [ 264,  176,  833],\n",
       "        [ 912,  750,  539],\n",
       "        [1074,  947,  783],\n",
       "        [ 244, 1137,  844],\n",
       "        [1195, 1139,  963],\n",
       "        [ 418,  616,  792],\n",
       "        [ 765,  723,  477],\n",
       "        [ 187,  415,  641],\n",
       "        [ 983,  755,  659]],\n",
       "\n",
       "       [[ 291,  390,  465],\n",
       "        [ 105,  627,  196],\n",
       "        [ 848,  436,  182],\n",
       "        [ 288, 1048, 1003],\n",
       "        [ 131,  724,  993],\n",
       "        [ 986,  841, 1083],\n",
       "        [ 733,  973,  415],\n",
       "        [ 530,  113,  181],\n",
       "        [ 254,  112,  695],\n",
       "        [ 352,  362,  256],\n",
       "        [ 251,  817,  362],\n",
       "        [ 530, 1067,  254]],\n",
       "\n",
       "       [[ 866,  907,  470],\n",
       "        [ 654,  296,  918],\n",
       "        [ 910,  635,  428],\n",
       "        [ 150,  924,  568],\n",
       "        [  85, 1034, 1161],\n",
       "        [1091,  598,  339],\n",
       "        [1020, 1050,  736],\n",
       "        [  87, 1160,  396],\n",
       "        [ 649,  796,  920],\n",
       "        [ 914, 1159,  701],\n",
       "        [ 929,  856,  402],\n",
       "        [ 504, 1121,  691]]])"
      ]
     },
     "execution_count": 26,
     "metadata": {},
     "output_type": "execute_result"
    }
   ],
   "source": [
    "# Define dimensions\n",
    "months = 12\n",
    "categories = 3\n",
    "cinemas = 9\n",
    "\n",
    "# Create a 3D array with dimensions (months, categories, cinemas)\n",
    "# We are using a random function to generate ticket sales values \n",
    "# between 80 - 1200\n",
    "ticket_sales = np.random.randint(80, 1201, size=(cinemas, months, categories))\n",
    "\n",
    "print(\"3D Array Shape:\", ticket_sales.shape)\n",
    "print(\"Sample Data:\")\n",
    "ticket_sales"
   ]
  },
  {
   "cell_type": "markdown",
   "id": "9c097f06",
   "metadata": {},
   "source": [
    "Let us try and answer the questions we discussed earlier\n",
    "\n",
    "Q1: What is the total number of tickets sold across all cinemas in a month"
   ]
  },
  {
   "cell_type": "code",
   "execution_count": 27,
   "id": "d79a0c44",
   "metadata": {},
   "outputs": [
    {
     "name": "stdout",
     "output_type": "stream",
     "text": [
      "Month 0: Total tickets sold = 19352\n",
      "Month 1: Total tickets sold = 14104\n",
      "Month 2: Total tickets sold = 17691\n",
      "Month 3: Total tickets sold = 16192\n",
      "Month 4: Total tickets sold = 16858\n",
      "Month 5: Total tickets sold = 18923\n",
      "Month 6: Total tickets sold = 18264\n",
      "Month 7: Total tickets sold = 17111\n",
      "Month 8: Total tickets sold = 17617\n",
      "Month 9: Total tickets sold = 18557\n",
      "Month 10: Total tickets sold = 14456\n",
      "Month 11: Total tickets sold = 18061\n"
     ]
    }
   ],
   "source": [
    "# Sum the ticket sales across all cinemas for each month\n",
    "total_tickets_per_month = np.sum(ticket_sales, axis=(0, 2))\n",
    "\n",
    "# Print the total number of tickets sold across all cinemas in each month\n",
    "for month, total_tickets in enumerate(total_tickets_per_month):\n",
    "    print(f\"Month {month}: Total tickets sold = {total_tickets}\")"
   ]
  },
  {
   "cell_type": "markdown",
   "id": "e10d617b",
   "metadata": {},
   "source": [
    "Q2: How do the sales of Regular tickets in Cinema 1 compare to Cinema 7 in the month of June?"
   ]
  },
  {
   "cell_type": "code",
   "execution_count": 28,
   "id": "7326324e",
   "metadata": {},
   "outputs": [
    {
     "name": "stdout",
     "output_type": "stream",
     "text": [
      "June Sales for Regular Tickets\n",
      "Cinema 1:  846\n",
      "Cinema 7:  986\n"
     ]
    }
   ],
   "source": [
    "#(Cinema 1, June = 5 (as January = 0), Regular Category = 0)\n",
    "june_sales_cinema1_regular = ticket_sales[1, 5, 0] \n",
    "#(Cinema 7, June = 5 (as January = 0), Regular Category = 0)\n",
    "june_sales_cinema7_regular = ticket_sales[7, 5, 0] \n",
    "print(\"June Sales for Regular Tickets\")\n",
    "print(\"Cinema 1: \", june_sales_cinema1_regular)\n",
    "print(\"Cinema 7: \", june_sales_cinema7_regular)"
   ]
  },
  {
   "cell_type": "markdown",
   "id": "379c8469",
   "metadata": {},
   "source": [
    "### Additional code samples"
   ]
  },
  {
   "cell_type": "code",
   "execution_count": 29,
   "id": "c2419d65",
   "metadata": {},
   "outputs": [
    {
     "name": "stdout",
     "output_type": "stream",
     "text": [
      "a:\n",
      " [ True  True False  True]\n",
      "Sorted:\n",
      " [False  True  True  True]\n"
     ]
    }
   ],
   "source": [
    "a = np.array([True, True, False, True]) #Sorting booleans\n",
    "np.sort(a)\n",
    "print('a:\\n', a)\n",
    "print('Sorted:\\n', np.sort(a))"
   ]
  },
  {
   "cell_type": "code",
   "execution_count": 30,
   "id": "070ecca5",
   "metadata": {
    "scrolled": true
   },
   "outputs": [
    {
     "name": "stdout",
     "output_type": "stream",
     "text": [
      "a:\n",
      " ['Karachi' 'Dubai' 'New York']\n",
      "Sorted:\n",
      " ['Dubai' 'Karachi' 'New York']\n"
     ]
    }
   ],
   "source": [
    "a = np.array(['Karachi','Dubai','New York']) #Sorting strings \n",
    "np.sort(a)\n",
    "print('a:\\n', a)\n",
    "print('Sorted:\\n', np.sort(a))"
   ]
  },
  {
   "cell_type": "code",
   "execution_count": 31,
   "id": "5c9d4eb9",
   "metadata": {},
   "outputs": [
    {
     "name": "stdout",
     "output_type": "stream",
     "text": [
      "(array([0, 1, 2]),)\n"
     ]
    }
   ],
   "source": [
    "arr = np.array([1, 2, 3, 4, 5, 4, 4])\n",
    "x = np.where(arr < 4) #Find an element by comparison\n",
    "print(x)"
   ]
  },
  {
   "cell_type": "code",
   "execution_count": 32,
   "id": "9ff3b33c",
   "metadata": {},
   "outputs": [
    {
     "name": "stdout",
     "output_type": "stream",
     "text": [
      "3\n"
     ]
    }
   ],
   "source": [
    "arr = np.array([10, 12, 14, 20])\n",
    "x = np.searchsorted(arr, 15) # Find the index where 15 should be inserted\n",
    "print(x)"
   ]
  },
  {
   "cell_type": "code",
   "execution_count": 33,
   "id": "7ffcfe96",
   "metadata": {},
   "outputs": [
    {
     "name": "stdout",
     "output_type": "stream",
     "text": [
      "a:\n",
      " [[1. 0. 0. 0.]\n",
      " [0. 1. 0. 0.]\n",
      " [0. 0. 1. 0.]\n",
      " [0. 0. 0. 1.]]\n",
      "b:\n",
      " [1. 0. 0. 0. 0. 1. 0. 0. 0. 0. 1. 0. 0. 0. 0. 1.]\n"
     ]
    }
   ],
   "source": [
    "a = a = np.eye(4)\n",
    "b = a.flatten() # Flattens the array and Returns a copy of the original array\n",
    "print('a:\\n', a)\n",
    "print('b:\\n', b)"
   ]
  },
  {
   "cell_type": "code",
   "execution_count": 34,
   "id": "55e89270",
   "metadata": {},
   "outputs": [
    {
     "name": "stdout",
     "output_type": "stream",
     "text": [
      "[[1. 0. 0. 0.]\n",
      " [0. 1. 0. 0.]\n",
      " [0. 0. 1. 0.]\n",
      " [0. 0. 0. 1.]]\n"
     ]
    }
   ],
   "source": [
    "b[0] = 3\n",
    "print(a) #a is unchanged when b is updated"
   ]
  },
  {
   "cell_type": "code",
   "execution_count": 35,
   "id": "ace39f38",
   "metadata": {},
   "outputs": [
    {
     "name": "stdout",
     "output_type": "stream",
     "text": [
      "a:\n",
      " [[1. 0. 0. 0.]\n",
      " [0. 1. 0. 0.]\n",
      " [0. 0. 1. 0.]\n",
      " [0. 0. 0. 1.]]\n",
      "b:\n",
      " [1. 0. 0. 0. 0. 1. 0. 0. 0. 0. 1. 0. 0. 0. 0. 1.]\n"
     ]
    }
   ],
   "source": [
    "b = a.ravel() #Flattens but maintains a link to the original array\n",
    "print('a:\\n', a)\n",
    "print('b:\\n', b)"
   ]
  },
  {
   "cell_type": "code",
   "execution_count": 36,
   "id": "065fb8ab",
   "metadata": {},
   "outputs": [
    {
     "name": "stdout",
     "output_type": "stream",
     "text": [
      "[[3. 0. 0. 0.]\n",
      " [0. 1. 0. 0.]\n",
      " [0. 0. 1. 0.]\n",
      " [0. 0. 0. 1.]]\n"
     ]
    }
   ],
   "source": [
    "b[0] = 3\n",
    "print(a) #a gets changed when b is updated"
   ]
  },
  {
   "cell_type": "code",
   "execution_count": 37,
   "id": "c7cdc382",
   "metadata": {},
   "outputs": [
    {
     "name": "stdout",
     "output_type": "stream",
     "text": [
      "a:\n",
      " ['A' 'C' 'B' 'X']\n",
      "b:\n",
      " [['A' 'C' 'B' 'X']]\n",
      "c:\n",
      " [['A']\n",
      " ['C']\n",
      " ['B']\n",
      " ['X']]\n"
     ]
    }
   ],
   "source": [
    "a = np.array([\"A\",\"C\",\"B\",\"X\"])\n",
    "b = np.expand_dims(a,axis=0) #increase dimension on axis 0\n",
    "c = np.expand_dims(a,axis=1) #increase dimension on axis 1\n",
    "print('a:\\n', a)\n",
    "print('b:\\n', b)\n",
    "print('c:\\n', c)"
   ]
  },
  {
   "cell_type": "code",
   "execution_count": 38,
   "id": "ff411de4",
   "metadata": {},
   "outputs": [
    {
     "name": "stdout",
     "output_type": "stream",
     "text": [
      "a:\n",
      " [[[1 2 3]\n",
      "  [4 5 6]]]\n",
      "b:\n",
      " [[1 2 3]\n",
      " [4 5 6]]\n"
     ]
    }
   ],
   "source": [
    "a = np.array([[[1,2,3],[4,5,6]]])\n",
    "b = np.squeeze(a, axis=0) #Reduce dimension on axis 0\n",
    "print('a:\\n', a)\n",
    "print('b:\\n', b)\n"
   ]
  },
  {
   "cell_type": "code",
   "execution_count": 39,
   "id": "4728be7d",
   "metadata": {},
   "outputs": [
    {
     "name": "stdout",
     "output_type": "stream",
     "text": [
      "a : \n",
      " [[ 1  2  3  4  5]\n",
      " [ 6  7  8  9 10]]\n",
      "Vertical Flip : \n",
      " [[ 5  4  3  2  1]\n",
      " [10  9  8  7  6]]\n",
      "Horizontal Flip : \n",
      " [[ 6  7  8  9 10]\n",
      " [ 1  2  3  4  5]]\n"
     ]
    }
   ],
   "source": [
    "a = np.array([[1,2,3,4,5],\n",
    "[6,7,8,9,10]])\n",
    "print('a :','\\n',a)\n",
    "print('Vertical Flip :','\\n',np.flip(a,axis=1)) # Flips on vertical axis\n",
    "print('Horizontal Flip :','\\n',np.flip(a,axis=0)) # Flips on horizontal axis"
   ]
  },
  {
   "cell_type": "code",
   "execution_count": 40,
   "id": "f5ccb613",
   "metadata": {},
   "outputs": [
    {
     "name": "stdout",
     "output_type": "stream",
     "text": [
      "a : \n",
      " [0 1 2 3 4]\n",
      "b : \n",
      " [5 6 7 8 9]\n",
      "Vertical stack : \n",
      " [[0 1 2 3 4]\n",
      " [5 6 7 8 9]]\n",
      "Horizontal stack : \n",
      " [0 1 2 3 4 5 6 7 8 9]\n"
     ]
    }
   ],
   "source": [
    "a = np.arange(0,5)\n",
    "b = np.arange(5,10)\n",
    "print('a :','\\n',a)\n",
    "print('b :','\\n',b)\n",
    "print('Vertical stack :','\\n',np.vstack((a,b))) # Stack vertically\n",
    "print('Horizontal stack :','\\n',np.hstack((a,b))) #Stack horizontally"
   ]
  },
  {
   "cell_type": "code",
   "execution_count": 41,
   "id": "b61bd5b6",
   "metadata": {},
   "outputs": [
    {
     "name": "stdout",
     "output_type": "stream",
     "text": [
      "a : [10 12 14 16 18]\n",
      "Adding two different size arrays : \n",
      " [[12 14 16 18 20]\n",
      " [15 17 19 21 23]]\n",
      "Multiplying an ndarray and a number : [20 24 28 32 36]\n"
     ]
    }
   ],
   "source": [
    "a = np.arange(10,20,2)\n",
    "b = np.array([[2],[5]])\n",
    "print('a :',a)\n",
    "print('Adding two different size arrays :','\\n',a+b) #Adding Arrays\n",
    "print('Multiplying an ndarray and a number :',a*2) #Multiplying an array with a scalar"
   ]
  },
  {
   "cell_type": "code",
   "execution_count": 42,
   "id": "e5bfe889",
   "metadata": {},
   "outputs": [
    {
     "name": "stdout",
     "output_type": "stream",
     "text": [
      "a : [10 12 14 16 18]\n",
      "Subtract : [ 8 10 12 14 16]\n",
      "Multiply : [100 120 140 160 180]\n",
      "Divide : [0.2  0.24 0.28 0.32 0.36]\n",
      "Power : [ 10000  20736  38416  65536 104976]\n",
      "Remainder : [1 0 2 1 0]\n"
     ]
    }
   ],
   "source": [
    "print('a :',a)\n",
    "print('Subtract :',a-2)\n",
    "print('Multiply :',a*10)\n",
    "print('Divide :',a/50)\n",
    "print('Power :',a**4)\n",
    "print('Remainder :',a%3)"
   ]
  },
  {
   "cell_type": "code",
   "execution_count": 43,
   "id": "9e347386",
   "metadata": {},
   "outputs": [
    {
     "name": "stdout",
     "output_type": "stream",
     "text": [
      "a : [ 5  7  9 11 13]\n",
      "Mean : 9.0\n",
      "Standard deviation : 2.8284271247461903\n",
      "Median : 9.0\n"
     ]
    }
   ],
   "source": [
    "a = np.arange(5,15,2)\n",
    "print('a :',a)\n",
    "print('Mean :',np.mean(a))\n",
    "print('Standard deviation :',np.std(a))\n",
    "print('Median :',np.median(a))"
   ]
  },
  {
   "cell_type": "code",
   "execution_count": 44,
   "id": "ada34194",
   "metadata": {},
   "outputs": [
    {
     "name": "stdout",
     "output_type": "stream",
     "text": [
      "a :\n",
      " [[1 6]\n",
      " [4 3]]\n",
      "Min - column: [1 3]\n",
      "Max - row: [6 4]\n"
     ]
    }
   ],
   "source": [
    "a = np.array([[1,6],[4,3]])\n",
    "print('a :\\n',a)\n",
    "print('Min - column:',np.min(a,axis=0)) # minimum along a column\n",
    "print('Max - row:',np.max(a,axis=1)) # maximum along a row"
   ]
  },
  {
   "cell_type": "code",
   "execution_count": 45,
   "id": "af7f55e9",
   "metadata": {
    "scrolled": true
   },
   "outputs": [
    {
     "name": "stdout",
     "output_type": "stream",
     "text": [
      "Min : [0 1 0]\n",
      "Max : [1 2]\n"
     ]
    }
   ],
   "source": [
    "a = np.array([[1,6,5],[4,3,7]])\n",
    "print('Min :',np.argmin(a,axis=0)) #Index of min along cloumn\n",
    "print('Max :',np.argmax(a,axis=1)) #Index of max along row"
   ]
  },
  {
   "cell_type": "code",
   "execution_count": null,
   "id": "bc146729",
   "metadata": {},
   "outputs": [],
   "source": []
  }
 ],
 "metadata": {
  "kernelspec": {
   "display_name": "Python 3 (ipykernel)",
   "language": "python",
   "name": "python3"
  },
  "language_info": {
   "codemirror_mode": {
    "name": "ipython",
    "version": 3
   },
   "file_extension": ".py",
   "mimetype": "text/x-python",
   "name": "python",
   "nbconvert_exporter": "python",
   "pygments_lexer": "ipython3",
   "version": "3.9.13"
  }
 },
 "nbformat": 4,
 "nbformat_minor": 5
}
