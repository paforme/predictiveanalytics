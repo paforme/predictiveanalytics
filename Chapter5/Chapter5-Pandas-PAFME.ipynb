{
 "cells": [
  {
   "cell_type": "markdown",
   "metadata": {},
   "source": [
    "# Pandas\n",
    "## Chapter 5\n",
    "### Predictive Analytics for the Modern Enterprise "
   ]
  },
  {
   "cell_type": "markdown",
   "metadata": {},
   "source": [
    "This is jupyter notebook that can be used to follow along the code examples for **Chapter 4 Section 2 - Pandas** of the book.\n",
    "The code examples go through some of the functionality that can be used to work with *Pandas Dataframes* using the Pandas library in python. \n",
    "\n",
    "The notebook has been tested using the following pre-requisite:\n",
    "\n",
    "* Python V3.9.13 - https://www.python.org/\n",
    "* Anaconda Navigator V3 for Python 3.9 - https://www.anaconda.com/\n",
    "* Jupyter - V6.4.12 - https://jupyter.org/ \n",
    "* Desktop computer - macOS Ventura V13.1 "
   ]
  },
  {
   "cell_type": "markdown",
   "metadata": {},
   "source": [
    "### Installation"
   ]
  },
  {
   "cell_type": "markdown",
   "metadata": {},
   "source": [
    "In case you do not have pandas installed in your environment you can install it using the following command."
   ]
  },
  {
   "cell_type": "code",
   "execution_count": 1,
   "metadata": {
    "scrolled": true
   },
   "outputs": [
    {
     "name": "stdout",
     "output_type": "stream",
     "text": [
      "Requirement already satisfied: pandas in /opt/anaconda3/lib/python3.9/site-packages (1.4.4)\n",
      "Requirement already satisfied: python-dateutil>=2.8.1 in /opt/anaconda3/lib/python3.9/site-packages (from pandas) (2.8.2)\n",
      "Requirement already satisfied: pytz>=2020.1 in /opt/anaconda3/lib/python3.9/site-packages (from pandas) (2022.7)\n",
      "Requirement already satisfied: numpy>=1.18.5 in /opt/anaconda3/lib/python3.9/site-packages (from pandas) (1.23.5)\n",
      "Requirement already satisfied: six>=1.5 in /opt/anaconda3/lib/python3.9/site-packages (from python-dateutil>=2.8.1->pandas) (1.16.0)\n",
      "Note: you may need to restart the kernel to use updated packages.\n"
     ]
    }
   ],
   "source": [
    "pip install pandas"
   ]
  },
  {
   "cell_type": "markdown",
   "metadata": {},
   "source": [
    "### Import and View data using a dataframe"
   ]
  },
  {
   "cell_type": "code",
   "execution_count": 2,
   "metadata": {},
   "outputs": [],
   "source": [
    "import pandas as pd # Give pandas an alias"
   ]
  },
  {
   "cell_type": "markdown",
   "metadata": {},
   "source": [
    "Provided data from the Palmer Archipelago (Antarctica) penguin dataset.\n",
    "\n",
    "License: CC0\n",
    "\n",
    "* Sourced from https://github.com/mwaskom/seaborn-data/blob/master/penguins.csv\n",
    "\n",
    "* Raw data used: https://raw.githubusercontent.com/paforme/predictiveanalytics/main/Chapter4/Datasets/penguins.csv\n",
    "\n",
    "This module contains one pandas Dataframe: data."
   ]
  },
  {
   "cell_type": "code",
   "execution_count": 3,
   "metadata": {
    "scrolled": true
   },
   "outputs": [],
   "source": [
    "url = \"https://raw.githubusercontent.com/paforme/predictiveanalytics/main/Chapter4/Datasets/penguins.csv\" \n",
    "penguins = pd.read_csv(url) #Read the data from the URL in a Pandas dataframe"
   ]
  },
  {
   "cell_type": "code",
   "execution_count": 4,
   "metadata": {},
   "outputs": [
    {
     "data": {
      "text/plain": [
       "pandas.core.frame.DataFrame"
      ]
     },
     "execution_count": 4,
     "metadata": {},
     "output_type": "execute_result"
    }
   ],
   "source": [
    "type(penguins) #Confirm The data is ready in a Pandas Dataframe"
   ]
  },
  {
   "cell_type": "code",
   "execution_count": 5,
   "metadata": {},
   "outputs": [
    {
     "data": {
      "text/html": [
       "<div>\n",
       "<style scoped>\n",
       "    .dataframe tbody tr th:only-of-type {\n",
       "        vertical-align: middle;\n",
       "    }\n",
       "\n",
       "    .dataframe tbody tr th {\n",
       "        vertical-align: top;\n",
       "    }\n",
       "\n",
       "    .dataframe thead th {\n",
       "        text-align: right;\n",
       "    }\n",
       "</style>\n",
       "<table border=\"1\" class=\"dataframe\">\n",
       "  <thead>\n",
       "    <tr style=\"text-align: right;\">\n",
       "      <th></th>\n",
       "      <th>species</th>\n",
       "      <th>island</th>\n",
       "      <th>bill_length_mm</th>\n",
       "      <th>bill_depth_mm</th>\n",
       "      <th>flipper_length_mm</th>\n",
       "      <th>body_mass_g</th>\n",
       "      <th>sex</th>\n",
       "    </tr>\n",
       "  </thead>\n",
       "  <tbody>\n",
       "    <tr>\n",
       "      <th>0</th>\n",
       "      <td>Adelie</td>\n",
       "      <td>Torgersen</td>\n",
       "      <td>39.1</td>\n",
       "      <td>18.7</td>\n",
       "      <td>181.0</td>\n",
       "      <td>3750.0</td>\n",
       "      <td>MALE</td>\n",
       "    </tr>\n",
       "    <tr>\n",
       "      <th>1</th>\n",
       "      <td>Adelie</td>\n",
       "      <td>Torgersen</td>\n",
       "      <td>39.5</td>\n",
       "      <td>17.4</td>\n",
       "      <td>186.0</td>\n",
       "      <td>3800.0</td>\n",
       "      <td>FEMALE</td>\n",
       "    </tr>\n",
       "    <tr>\n",
       "      <th>2</th>\n",
       "      <td>Adelie</td>\n",
       "      <td>Torgersen</td>\n",
       "      <td>40.3</td>\n",
       "      <td>18.0</td>\n",
       "      <td>195.0</td>\n",
       "      <td>3250.0</td>\n",
       "      <td>FEMALE</td>\n",
       "    </tr>\n",
       "    <tr>\n",
       "      <th>3</th>\n",
       "      <td>Adelie</td>\n",
       "      <td>Torgersen</td>\n",
       "      <td>NaN</td>\n",
       "      <td>NaN</td>\n",
       "      <td>NaN</td>\n",
       "      <td>NaN</td>\n",
       "      <td>NaN</td>\n",
       "    </tr>\n",
       "    <tr>\n",
       "      <th>4</th>\n",
       "      <td>Adelie</td>\n",
       "      <td>Torgersen</td>\n",
       "      <td>36.7</td>\n",
       "      <td>19.3</td>\n",
       "      <td>193.0</td>\n",
       "      <td>3450.0</td>\n",
       "      <td>FEMALE</td>\n",
       "    </tr>\n",
       "    <tr>\n",
       "      <th>...</th>\n",
       "      <td>...</td>\n",
       "      <td>...</td>\n",
       "      <td>...</td>\n",
       "      <td>...</td>\n",
       "      <td>...</td>\n",
       "      <td>...</td>\n",
       "      <td>...</td>\n",
       "    </tr>\n",
       "    <tr>\n",
       "      <th>339</th>\n",
       "      <td>Gentoo</td>\n",
       "      <td>Biscoe</td>\n",
       "      <td>NaN</td>\n",
       "      <td>NaN</td>\n",
       "      <td>NaN</td>\n",
       "      <td>NaN</td>\n",
       "      <td>NaN</td>\n",
       "    </tr>\n",
       "    <tr>\n",
       "      <th>340</th>\n",
       "      <td>Gentoo</td>\n",
       "      <td>Biscoe</td>\n",
       "      <td>46.8</td>\n",
       "      <td>14.3</td>\n",
       "      <td>215.0</td>\n",
       "      <td>4850.0</td>\n",
       "      <td>FEMALE</td>\n",
       "    </tr>\n",
       "    <tr>\n",
       "      <th>341</th>\n",
       "      <td>Gentoo</td>\n",
       "      <td>Biscoe</td>\n",
       "      <td>50.4</td>\n",
       "      <td>15.7</td>\n",
       "      <td>222.0</td>\n",
       "      <td>5750.0</td>\n",
       "      <td>MALE</td>\n",
       "    </tr>\n",
       "    <tr>\n",
       "      <th>342</th>\n",
       "      <td>Gentoo</td>\n",
       "      <td>Biscoe</td>\n",
       "      <td>45.2</td>\n",
       "      <td>14.8</td>\n",
       "      <td>212.0</td>\n",
       "      <td>5200.0</td>\n",
       "      <td>FEMALE</td>\n",
       "    </tr>\n",
       "    <tr>\n",
       "      <th>343</th>\n",
       "      <td>Gentoo</td>\n",
       "      <td>Biscoe</td>\n",
       "      <td>49.9</td>\n",
       "      <td>16.1</td>\n",
       "      <td>213.0</td>\n",
       "      <td>5400.0</td>\n",
       "      <td>MALE</td>\n",
       "    </tr>\n",
       "  </tbody>\n",
       "</table>\n",
       "<p>344 rows × 7 columns</p>\n",
       "</div>"
      ],
      "text/plain": [
       "    species     island  bill_length_mm  bill_depth_mm  flipper_length_mm  \\\n",
       "0    Adelie  Torgersen            39.1           18.7              181.0   \n",
       "1    Adelie  Torgersen            39.5           17.4              186.0   \n",
       "2    Adelie  Torgersen            40.3           18.0              195.0   \n",
       "3    Adelie  Torgersen             NaN            NaN                NaN   \n",
       "4    Adelie  Torgersen            36.7           19.3              193.0   \n",
       "..      ...        ...             ...            ...                ...   \n",
       "339  Gentoo     Biscoe             NaN            NaN                NaN   \n",
       "340  Gentoo     Biscoe            46.8           14.3              215.0   \n",
       "341  Gentoo     Biscoe            50.4           15.7              222.0   \n",
       "342  Gentoo     Biscoe            45.2           14.8              212.0   \n",
       "343  Gentoo     Biscoe            49.9           16.1              213.0   \n",
       "\n",
       "     body_mass_g     sex  \n",
       "0         3750.0    MALE  \n",
       "1         3800.0  FEMALE  \n",
       "2         3250.0  FEMALE  \n",
       "3            NaN     NaN  \n",
       "4         3450.0  FEMALE  \n",
       "..           ...     ...  \n",
       "339          NaN     NaN  \n",
       "340       4850.0  FEMALE  \n",
       "341       5750.0    MALE  \n",
       "342       5200.0  FEMALE  \n",
       "343       5400.0    MALE  \n",
       "\n",
       "[344 rows x 7 columns]"
      ]
     },
     "execution_count": 5,
     "metadata": {},
     "output_type": "execute_result"
    }
   ],
   "source": [
    "penguins #A view of the data. "
   ]
  },
  {
   "cell_type": "code",
   "execution_count": 6,
   "metadata": {
    "scrolled": true
   },
   "outputs": [
    {
     "data": {
      "text/html": [
       "<div>\n",
       "<style scoped>\n",
       "    .dataframe tbody tr th:only-of-type {\n",
       "        vertical-align: middle;\n",
       "    }\n",
       "\n",
       "    .dataframe tbody tr th {\n",
       "        vertical-align: top;\n",
       "    }\n",
       "\n",
       "    .dataframe thead th {\n",
       "        text-align: right;\n",
       "    }\n",
       "</style>\n",
       "<table border=\"1\" class=\"dataframe\">\n",
       "  <thead>\n",
       "    <tr style=\"text-align: right;\">\n",
       "      <th></th>\n",
       "      <th>bill_length_mm</th>\n",
       "      <th>bill_depth_mm</th>\n",
       "      <th>flipper_length_mm</th>\n",
       "      <th>body_mass_g</th>\n",
       "    </tr>\n",
       "  </thead>\n",
       "  <tbody>\n",
       "    <tr>\n",
       "      <th>count</th>\n",
       "      <td>342.000000</td>\n",
       "      <td>342.000000</td>\n",
       "      <td>342.000000</td>\n",
       "      <td>342.000000</td>\n",
       "    </tr>\n",
       "    <tr>\n",
       "      <th>mean</th>\n",
       "      <td>43.921930</td>\n",
       "      <td>17.151170</td>\n",
       "      <td>200.915205</td>\n",
       "      <td>4201.754386</td>\n",
       "    </tr>\n",
       "    <tr>\n",
       "      <th>std</th>\n",
       "      <td>5.459584</td>\n",
       "      <td>1.974793</td>\n",
       "      <td>14.061714</td>\n",
       "      <td>801.954536</td>\n",
       "    </tr>\n",
       "    <tr>\n",
       "      <th>min</th>\n",
       "      <td>32.100000</td>\n",
       "      <td>13.100000</td>\n",
       "      <td>172.000000</td>\n",
       "      <td>2700.000000</td>\n",
       "    </tr>\n",
       "    <tr>\n",
       "      <th>25%</th>\n",
       "      <td>39.225000</td>\n",
       "      <td>15.600000</td>\n",
       "      <td>190.000000</td>\n",
       "      <td>3550.000000</td>\n",
       "    </tr>\n",
       "    <tr>\n",
       "      <th>50%</th>\n",
       "      <td>44.450000</td>\n",
       "      <td>17.300000</td>\n",
       "      <td>197.000000</td>\n",
       "      <td>4050.000000</td>\n",
       "    </tr>\n",
       "    <tr>\n",
       "      <th>75%</th>\n",
       "      <td>48.500000</td>\n",
       "      <td>18.700000</td>\n",
       "      <td>213.000000</td>\n",
       "      <td>4750.000000</td>\n",
       "    </tr>\n",
       "    <tr>\n",
       "      <th>max</th>\n",
       "      <td>59.600000</td>\n",
       "      <td>21.500000</td>\n",
       "      <td>231.000000</td>\n",
       "      <td>6300.000000</td>\n",
       "    </tr>\n",
       "  </tbody>\n",
       "</table>\n",
       "</div>"
      ],
      "text/plain": [
       "       bill_length_mm  bill_depth_mm  flipper_length_mm  body_mass_g\n",
       "count      342.000000     342.000000         342.000000   342.000000\n",
       "mean        43.921930      17.151170         200.915205  4201.754386\n",
       "std          5.459584       1.974793          14.061714   801.954536\n",
       "min         32.100000      13.100000         172.000000  2700.000000\n",
       "25%         39.225000      15.600000         190.000000  3550.000000\n",
       "50%         44.450000      17.300000         197.000000  4050.000000\n",
       "75%         48.500000      18.700000         213.000000  4750.000000\n",
       "max         59.600000      21.500000         231.000000  6300.000000"
      ]
     },
     "execution_count": 6,
     "metadata": {},
     "output_type": "execute_result"
    }
   ],
   "source": [
    "penguins.describe() #Quick Statistical analysis"
   ]
  },
  {
   "cell_type": "code",
   "execution_count": 7,
   "metadata": {},
   "outputs": [
    {
     "name": "stdout",
     "output_type": "stream",
     "text": [
      "<class 'pandas.core.frame.DataFrame'>\n",
      "RangeIndex: 344 entries, 0 to 343\n",
      "Data columns (total 7 columns):\n",
      " #   Column             Non-Null Count  Dtype  \n",
      "---  ------             --------------  -----  \n",
      " 0   species            344 non-null    object \n",
      " 1   island             344 non-null    object \n",
      " 2   bill_length_mm     342 non-null    float64\n",
      " 3   bill_depth_mm      342 non-null    float64\n",
      " 4   flipper_length_mm  342 non-null    float64\n",
      " 5   body_mass_g        342 non-null    float64\n",
      " 6   sex                333 non-null    object \n",
      "dtypes: float64(4), object(3)\n",
      "memory usage: 18.9+ KB\n"
     ]
    }
   ],
   "source": [
    "penguins.info() #DF summary"
   ]
  },
  {
   "cell_type": "markdown",
   "metadata": {},
   "source": [
    "### Visualize the data"
   ]
  },
  {
   "cell_type": "code",
   "execution_count": 8,
   "metadata": {},
   "outputs": [],
   "source": [
    "import matplotlib as mpl"
   ]
  },
  {
   "cell_type": "code",
   "execution_count": 9,
   "metadata": {},
   "outputs": [],
   "source": [
    "%matplotlib inline \n",
    "#Jupiter Magic <- Instead of putting this to disk it will push it to the inline browser"
   ]
  },
  {
   "cell_type": "code",
   "execution_count": 10,
   "metadata": {},
   "outputs": [
    {
     "name": "stderr",
     "output_type": "stream",
     "text": [
      "/opt/anaconda3/lib/python3.9/site-packages/pandas/plotting/_matplotlib/core.py:1114: UserWarning: No data for colormapping provided via 'c'. Parameters 'cmap' will be ignored\n",
      "  scatter = ax.scatter(\n"
     ]
    },
    {
     "data": {
      "text/plain": [
       "<Axes: xlabel='flipper_length_mm', ylabel='body_mass_g'>"
      ]
     },
     "execution_count": 10,
     "metadata": {},
     "output_type": "execute_result"
    },
    {
     "data": {
      "image/png": "[encoded data removed]",
      "text/plain": [
       "<Figure size 640x480 with 1 Axes>"
      ]
     },
     "metadata": {},
     "output_type": "display_data"
    }
   ],
   "source": [
    "penguins.plot.scatter(x='flipper_length_mm', y='body_mass_g', style='o', c = 'blue') #Flipper Length vs Body Mass scatter plot"
   ]
  },
  {
   "cell_type": "code",
   "execution_count": 11,
   "metadata": {},
   "outputs": [
    {
     "data": {
      "text/plain": [
       "body_mass_g    Axes(0.125,0.11;0.775x0.77)\n",
       "dtype: object"
      ]
     },
     "execution_count": 11,
     "metadata": {},
     "output_type": "execute_result"
    },
    {
     "data": {
      "image/png": "[encoded data removed]",
      "text/plain": [
       "<Figure size 640x480 with 1 Axes>"
      ]
     },
     "metadata": {},
     "output_type": "display_data"
    }
   ],
   "source": [
    "penguins.plot.box(column=\"body_mass_g\", by=\"species\") #Box plot to observe body mass ranges per species"
   ]
  },
  {
   "cell_type": "code",
   "execution_count": 12,
   "metadata": {},
   "outputs": [
    {
     "data": {
      "text/plain": [
       "array([<Axes: title={'center': 'FEMALE'}, ylabel='Frequency'>,\n",
       "       <Axes: title={'center': 'MALE'}, ylabel='Frequency'>], dtype=object)"
      ]
     },
     "execution_count": 12,
     "metadata": {},
     "output_type": "execute_result"
    },
    {
     "data": {
      "image/png": "[encoded data removed]",
      "text/plain": [
       "<Figure size 640x480 with 2 Axes>"
      ]
     },
     "metadata": {},
     "output_type": "display_data"
    }
   ],
   "source": [
    "penguins.plot.hist(by='sex', column='bill_length_mm') #Histogram to compare bill length across males and females"
   ]
  },
  {
   "cell_type": "code",
   "execution_count": 13,
   "metadata": {},
   "outputs": [
    {
     "data": {
      "image/png": "[encoded data removed]",
      "text/plain": [
       "<Figure size 640x480 with 1 Axes>"
      ]
     },
     "metadata": {},
     "output_type": "display_data"
    }
   ],
   "source": [
    "ax = penguins[penguins.species == 'Adelie'].plot(x='flipper_length_mm', y='body_mass_g', style='yo', label='Adelie', alpha=0.35)\n",
    "ax = penguins[penguins.species == 'Gentoo'].plot(x='flipper_length_mm', y='body_mass_g', style='ro', label='Gentoo', alpha=0.35, ax=ax)\n",
    "ax = penguins[penguins.species == 'Chinstrap'].plot(x='flipper_length_mm', y='body_mass_g', style='bo', label='Chinstrap'   , alpha=0.35, ax=ax)\n",
    "ax.legend('Adelie Gentoo Chinstrap'.split(), numpoints=5, loc='lower right') \n",
    "_ = ax.set_ylabel('body_mass_g') # Stacked Visualization\n"
   ]
  },
  {
   "cell_type": "markdown",
   "metadata": {},
   "source": [
    "### Data cleansing and modification"
   ]
  },
  {
   "cell_type": "code",
   "execution_count": 14,
   "metadata": {},
   "outputs": [
    {
     "data": {
      "text/html": [
       "<div>\n",
       "<style scoped>\n",
       "    .dataframe tbody tr th:only-of-type {\n",
       "        vertical-align: middle;\n",
       "    }\n",
       "\n",
       "    .dataframe tbody tr th {\n",
       "        vertical-align: top;\n",
       "    }\n",
       "\n",
       "    .dataframe thead th {\n",
       "        text-align: right;\n",
       "    }\n",
       "</style>\n",
       "<table border=\"1\" class=\"dataframe\">\n",
       "  <thead>\n",
       "    <tr style=\"text-align: right;\">\n",
       "      <th></th>\n",
       "      <th>species</th>\n",
       "      <th>island</th>\n",
       "      <th>bill_length_mm</th>\n",
       "      <th>bill_depth_mm</th>\n",
       "      <th>flipper_length_mm</th>\n",
       "      <th>body_mass_g</th>\n",
       "      <th>sex</th>\n",
       "    </tr>\n",
       "  </thead>\n",
       "  <tbody>\n",
       "    <tr>\n",
       "      <th>0</th>\n",
       "      <td>Adelie</td>\n",
       "      <td>Torgersen</td>\n",
       "      <td>39.1</td>\n",
       "      <td>18.7</td>\n",
       "      <td>181.0</td>\n",
       "      <td>3750.0</td>\n",
       "      <td>MALE</td>\n",
       "    </tr>\n",
       "    <tr>\n",
       "      <th>1</th>\n",
       "      <td>Adelie</td>\n",
       "      <td>Torgersen</td>\n",
       "      <td>39.5</td>\n",
       "      <td>17.4</td>\n",
       "      <td>186.0</td>\n",
       "      <td>3800.0</td>\n",
       "      <td>FEMALE</td>\n",
       "    </tr>\n",
       "    <tr>\n",
       "      <th>2</th>\n",
       "      <td>Adelie</td>\n",
       "      <td>Torgersen</td>\n",
       "      <td>40.3</td>\n",
       "      <td>18.0</td>\n",
       "      <td>195.0</td>\n",
       "      <td>3250.0</td>\n",
       "      <td>FEMALE</td>\n",
       "    </tr>\n",
       "    <tr>\n",
       "      <th>3</th>\n",
       "      <td>Adelie</td>\n",
       "      <td>Torgersen</td>\n",
       "      <td>NaN</td>\n",
       "      <td>NaN</td>\n",
       "      <td>NaN</td>\n",
       "      <td>NaN</td>\n",
       "      <td>NaN</td>\n",
       "    </tr>\n",
       "    <tr>\n",
       "      <th>4</th>\n",
       "      <td>Adelie</td>\n",
       "      <td>Torgersen</td>\n",
       "      <td>36.7</td>\n",
       "      <td>19.3</td>\n",
       "      <td>193.0</td>\n",
       "      <td>3450.0</td>\n",
       "      <td>FEMALE</td>\n",
       "    </tr>\n",
       "    <tr>\n",
       "      <th>...</th>\n",
       "      <td>...</td>\n",
       "      <td>...</td>\n",
       "      <td>...</td>\n",
       "      <td>...</td>\n",
       "      <td>...</td>\n",
       "      <td>...</td>\n",
       "      <td>...</td>\n",
       "    </tr>\n",
       "    <tr>\n",
       "      <th>339</th>\n",
       "      <td>Gentoo</td>\n",
       "      <td>Biscoe</td>\n",
       "      <td>NaN</td>\n",
       "      <td>NaN</td>\n",
       "      <td>NaN</td>\n",
       "      <td>NaN</td>\n",
       "      <td>NaN</td>\n",
       "    </tr>\n",
       "    <tr>\n",
       "      <th>340</th>\n",
       "      <td>Gentoo</td>\n",
       "      <td>Biscoe</td>\n",
       "      <td>46.8</td>\n",
       "      <td>14.3</td>\n",
       "      <td>215.0</td>\n",
       "      <td>4850.0</td>\n",
       "      <td>FEMALE</td>\n",
       "    </tr>\n",
       "    <tr>\n",
       "      <th>341</th>\n",
       "      <td>Gentoo</td>\n",
       "      <td>Biscoe</td>\n",
       "      <td>50.4</td>\n",
       "      <td>15.7</td>\n",
       "      <td>222.0</td>\n",
       "      <td>5750.0</td>\n",
       "      <td>MALE</td>\n",
       "    </tr>\n",
       "    <tr>\n",
       "      <th>342</th>\n",
       "      <td>Gentoo</td>\n",
       "      <td>Biscoe</td>\n",
       "      <td>45.2</td>\n",
       "      <td>14.8</td>\n",
       "      <td>212.0</td>\n",
       "      <td>5200.0</td>\n",
       "      <td>FEMALE</td>\n",
       "    </tr>\n",
       "    <tr>\n",
       "      <th>343</th>\n",
       "      <td>Gentoo</td>\n",
       "      <td>Biscoe</td>\n",
       "      <td>49.9</td>\n",
       "      <td>16.1</td>\n",
       "      <td>213.0</td>\n",
       "      <td>5400.0</td>\n",
       "      <td>MALE</td>\n",
       "    </tr>\n",
       "  </tbody>\n",
       "</table>\n",
       "<p>344 rows × 7 columns</p>\n",
       "</div>"
      ],
      "text/plain": [
       "    species     island  bill_length_mm  bill_depth_mm  flipper_length_mm  \\\n",
       "0    Adelie  Torgersen            39.1           18.7              181.0   \n",
       "1    Adelie  Torgersen            39.5           17.4              186.0   \n",
       "2    Adelie  Torgersen            40.3           18.0              195.0   \n",
       "3    Adelie  Torgersen             NaN            NaN                NaN   \n",
       "4    Adelie  Torgersen            36.7           19.3              193.0   \n",
       "..      ...        ...             ...            ...                ...   \n",
       "339  Gentoo     Biscoe             NaN            NaN                NaN   \n",
       "340  Gentoo     Biscoe            46.8           14.3              215.0   \n",
       "341  Gentoo     Biscoe            50.4           15.7              222.0   \n",
       "342  Gentoo     Biscoe            45.2           14.8              212.0   \n",
       "343  Gentoo     Biscoe            49.9           16.1              213.0   \n",
       "\n",
       "     body_mass_g     sex  \n",
       "0         3750.0    MALE  \n",
       "1         3800.0  FEMALE  \n",
       "2         3250.0  FEMALE  \n",
       "3            NaN     NaN  \n",
       "4         3450.0  FEMALE  \n",
       "..           ...     ...  \n",
       "339          NaN     NaN  \n",
       "340       4850.0  FEMALE  \n",
       "341       5750.0    MALE  \n",
       "342       5200.0  FEMALE  \n",
       "343       5400.0    MALE  \n",
       "\n",
       "[344 rows x 7 columns]"
      ]
     },
     "execution_count": 14,
     "metadata": {},
     "output_type": "execute_result"
    }
   ],
   "source": [
    "penguins"
   ]
  },
  {
   "cell_type": "code",
   "execution_count": 15,
   "metadata": {},
   "outputs": [
    {
     "data": {
      "text/plain": [
       "array(['MALE', 'FEMALE', nan], dtype=object)"
      ]
     },
     "execution_count": 15,
     "metadata": {},
     "output_type": "execute_result"
    }
   ],
   "source": [
    "penguins.sex.unique()"
   ]
  },
  {
   "cell_type": "code",
   "execution_count": 16,
   "metadata": {},
   "outputs": [],
   "source": [
    "import numpy as np \n",
    "penguins.sex.replace([np.nan], ['Unknown'], inplace=True) #Replace all empty sex by Unknown"
   ]
  },
  {
   "cell_type": "code",
   "execution_count": 17,
   "metadata": {},
   "outputs": [
    {
     "data": {
      "text/plain": [
       "array(['MALE', 'FEMALE', 'Unknown'], dtype=object)"
      ]
     },
     "execution_count": 17,
     "metadata": {},
     "output_type": "execute_result"
    }
   ],
   "source": [
    "penguins.sex.unique()"
   ]
  },
  {
   "cell_type": "code",
   "execution_count": 18,
   "metadata": {},
   "outputs": [
    {
     "data": {
      "text/plain": [
       "species              False\n",
       "island               False\n",
       "bill_length_mm        True\n",
       "bill_depth_mm         True\n",
       "flipper_length_mm     True\n",
       "body_mass_g           True\n",
       "sex                  False\n",
       "dtype: bool"
      ]
     },
     "execution_count": 18,
     "metadata": {},
     "output_type": "execute_result"
    }
   ],
   "source": [
    "penguins.isnull().any() #Look for null values"
   ]
  },
  {
   "cell_type": "code",
   "execution_count": 19,
   "metadata": {},
   "outputs": [],
   "source": [
    "penguins.dropna(subset=['body_mass_g'], inplace=True) #Drop the subset where body_mass is null"
   ]
  },
  {
   "cell_type": "code",
   "execution_count": 20,
   "metadata": {},
   "outputs": [
    {
     "data": {
      "text/plain": [
       "species              False\n",
       "island               False\n",
       "bill_length_mm       False\n",
       "bill_depth_mm        False\n",
       "flipper_length_mm    False\n",
       "body_mass_g          False\n",
       "sex                  False\n",
       "dtype: bool"
      ]
     },
     "execution_count": 20,
     "metadata": {},
     "output_type": "execute_result"
    }
   ],
   "source": [
    "penguins.isnull().any()"
   ]
  },
  {
   "cell_type": "code",
   "execution_count": 21,
   "metadata": {},
   "outputs": [
    {
     "data": {
      "text/html": [
       "<div>\n",
       "<style scoped>\n",
       "    .dataframe tbody tr th:only-of-type {\n",
       "        vertical-align: middle;\n",
       "    }\n",
       "\n",
       "    .dataframe tbody tr th {\n",
       "        vertical-align: top;\n",
       "    }\n",
       "\n",
       "    .dataframe thead th {\n",
       "        text-align: right;\n",
       "    }\n",
       "</style>\n",
       "<table border=\"1\" class=\"dataframe\">\n",
       "  <thead>\n",
       "    <tr style=\"text-align: right;\">\n",
       "      <th></th>\n",
       "      <th>species</th>\n",
       "      <th>island</th>\n",
       "      <th>bill_length_mm</th>\n",
       "      <th>bill_depth_mm</th>\n",
       "      <th>flipper_length_mm</th>\n",
       "      <th>body_mass_g</th>\n",
       "      <th>sex</th>\n",
       "    </tr>\n",
       "  </thead>\n",
       "  <tbody>\n",
       "    <tr>\n",
       "      <th>0</th>\n",
       "      <td>Adelie</td>\n",
       "      <td>Torgersen</td>\n",
       "      <td>39.1</td>\n",
       "      <td>18.7</td>\n",
       "      <td>181.0</td>\n",
       "      <td>3750.0</td>\n",
       "      <td>MALE</td>\n",
       "    </tr>\n",
       "    <tr>\n",
       "      <th>1</th>\n",
       "      <td>Adelie</td>\n",
       "      <td>Torgersen</td>\n",
       "      <td>39.5</td>\n",
       "      <td>17.4</td>\n",
       "      <td>186.0</td>\n",
       "      <td>3800.0</td>\n",
       "      <td>FEMALE</td>\n",
       "    </tr>\n",
       "    <tr>\n",
       "      <th>2</th>\n",
       "      <td>Adelie</td>\n",
       "      <td>Torgersen</td>\n",
       "      <td>40.3</td>\n",
       "      <td>18.0</td>\n",
       "      <td>195.0</td>\n",
       "      <td>3250.0</td>\n",
       "      <td>FEMALE</td>\n",
       "    </tr>\n",
       "    <tr>\n",
       "      <th>4</th>\n",
       "      <td>Adelie</td>\n",
       "      <td>Torgersen</td>\n",
       "      <td>36.7</td>\n",
       "      <td>19.3</td>\n",
       "      <td>193.0</td>\n",
       "      <td>3450.0</td>\n",
       "      <td>FEMALE</td>\n",
       "    </tr>\n",
       "    <tr>\n",
       "      <th>5</th>\n",
       "      <td>Adelie</td>\n",
       "      <td>Torgersen</td>\n",
       "      <td>39.3</td>\n",
       "      <td>20.6</td>\n",
       "      <td>190.0</td>\n",
       "      <td>3650.0</td>\n",
       "      <td>MALE</td>\n",
       "    </tr>\n",
       "    <tr>\n",
       "      <th>...</th>\n",
       "      <td>...</td>\n",
       "      <td>...</td>\n",
       "      <td>...</td>\n",
       "      <td>...</td>\n",
       "      <td>...</td>\n",
       "      <td>...</td>\n",
       "      <td>...</td>\n",
       "    </tr>\n",
       "    <tr>\n",
       "      <th>338</th>\n",
       "      <td>Gentoo</td>\n",
       "      <td>Biscoe</td>\n",
       "      <td>47.2</td>\n",
       "      <td>13.7</td>\n",
       "      <td>214.0</td>\n",
       "      <td>4925.0</td>\n",
       "      <td>FEMALE</td>\n",
       "    </tr>\n",
       "    <tr>\n",
       "      <th>340</th>\n",
       "      <td>Gentoo</td>\n",
       "      <td>Biscoe</td>\n",
       "      <td>46.8</td>\n",
       "      <td>14.3</td>\n",
       "      <td>215.0</td>\n",
       "      <td>4850.0</td>\n",
       "      <td>FEMALE</td>\n",
       "    </tr>\n",
       "    <tr>\n",
       "      <th>341</th>\n",
       "      <td>Gentoo</td>\n",
       "      <td>Biscoe</td>\n",
       "      <td>50.4</td>\n",
       "      <td>15.7</td>\n",
       "      <td>222.0</td>\n",
       "      <td>5750.0</td>\n",
       "      <td>MALE</td>\n",
       "    </tr>\n",
       "    <tr>\n",
       "      <th>342</th>\n",
       "      <td>Gentoo</td>\n",
       "      <td>Biscoe</td>\n",
       "      <td>45.2</td>\n",
       "      <td>14.8</td>\n",
       "      <td>212.0</td>\n",
       "      <td>5200.0</td>\n",
       "      <td>FEMALE</td>\n",
       "    </tr>\n",
       "    <tr>\n",
       "      <th>343</th>\n",
       "      <td>Gentoo</td>\n",
       "      <td>Biscoe</td>\n",
       "      <td>49.9</td>\n",
       "      <td>16.1</td>\n",
       "      <td>213.0</td>\n",
       "      <td>5400.0</td>\n",
       "      <td>MALE</td>\n",
       "    </tr>\n",
       "  </tbody>\n",
       "</table>\n",
       "<p>342 rows × 7 columns</p>\n",
       "</div>"
      ],
      "text/plain": [
       "    species     island  bill_length_mm  bill_depth_mm  flipper_length_mm  \\\n",
       "0    Adelie  Torgersen            39.1           18.7              181.0   \n",
       "1    Adelie  Torgersen            39.5           17.4              186.0   \n",
       "2    Adelie  Torgersen            40.3           18.0              195.0   \n",
       "4    Adelie  Torgersen            36.7           19.3              193.0   \n",
       "5    Adelie  Torgersen            39.3           20.6              190.0   \n",
       "..      ...        ...             ...            ...                ...   \n",
       "338  Gentoo     Biscoe            47.2           13.7              214.0   \n",
       "340  Gentoo     Biscoe            46.8           14.3              215.0   \n",
       "341  Gentoo     Biscoe            50.4           15.7              222.0   \n",
       "342  Gentoo     Biscoe            45.2           14.8              212.0   \n",
       "343  Gentoo     Biscoe            49.9           16.1              213.0   \n",
       "\n",
       "     body_mass_g     sex  \n",
       "0         3750.0    MALE  \n",
       "1         3800.0  FEMALE  \n",
       "2         3250.0  FEMALE  \n",
       "4         3450.0  FEMALE  \n",
       "5         3650.0    MALE  \n",
       "..           ...     ...  \n",
       "338       4925.0  FEMALE  \n",
       "340       4850.0  FEMALE  \n",
       "341       5750.0    MALE  \n",
       "342       5200.0  FEMALE  \n",
       "343       5400.0    MALE  \n",
       "\n",
       "[342 rows x 7 columns]"
      ]
     },
     "execution_count": 21,
     "metadata": {},
     "output_type": "execute_result"
    }
   ],
   "source": [
    "penguins #Relook at the data again"
   ]
  },
  {
   "cell_type": "markdown",
   "metadata": {},
   "source": [
    "### Continue with data exploration"
   ]
  },
  {
   "cell_type": "markdown",
   "metadata": {},
   "source": [
    "### Reading data from different data sources"
   ]
  },
  {
   "cell_type": "markdown",
   "metadata": {},
   "source": [
    "#### Importing data from a csv file in to a pandas dataframe"
   ]
  },
  {
   "cell_type": "code",
   "execution_count": 22,
   "metadata": {},
   "outputs": [],
   "source": [
    "from pandas import options, read_csv"
   ]
  },
  {
   "cell_type": "code",
   "execution_count": 23,
   "metadata": {
    "slideshow": {
     "slide_type": "subslide"
    }
   },
   "outputs": [],
   "source": [
    "options.display.max_rows = 8\n",
    "options.display.max_columns = 83\n",
    "options.display.width = 100"
   ]
  },
  {
   "cell_type": "markdown",
   "metadata": {},
   "source": [
    "Data source: http://www.cs.toronto.edu/~delve/data/abalone/desc.html"
   ]
  },
  {
   "cell_type": "markdown",
   "metadata": {},
   "source": [
    "You can download a copy of the data from https://github.com/paforme/predictiveanalytics/blob/main/Chapter4/Datasets/Dataset.data\n",
    "\n",
    "**NOTE:** Be sure to change the path below to wherever you have downloaded that file, either an absolute path or a relative path (relative to the location of where your notebook is saved)"
   ]
  },
  {
   "cell_type": "code",
   "execution_count": 24,
   "metadata": {},
   "outputs": [
    {
     "data": {
      "text/html": [
       "<div>\n",
       "<style scoped>\n",
       "    .dataframe tbody tr th:only-of-type {\n",
       "        vertical-align: middle;\n",
       "    }\n",
       "\n",
       "    .dataframe tbody tr th {\n",
       "        vertical-align: top;\n",
       "    }\n",
       "\n",
       "    .dataframe thead th {\n",
       "        text-align: right;\n",
       "    }\n",
       "</style>\n",
       "<table border=\"1\" class=\"dataframe\">\n",
       "  <thead>\n",
       "    <tr style=\"text-align: right;\">\n",
       "      <th></th>\n",
       "      <th>M</th>\n",
       "      <th>0.455</th>\n",
       "      <th>0.365</th>\n",
       "      <th>0.095</th>\n",
       "      <th>0.514</th>\n",
       "      <th>0.2245</th>\n",
       "      <th>0.101</th>\n",
       "      <th>0.15</th>\n",
       "      <th>15</th>\n",
       "    </tr>\n",
       "  </thead>\n",
       "  <tbody>\n",
       "    <tr>\n",
       "      <th>0</th>\n",
       "      <td>M</td>\n",
       "      <td>0.350</td>\n",
       "      <td>0.265</td>\n",
       "      <td>0.090</td>\n",
       "      <td>0.2255</td>\n",
       "      <td>0.0995</td>\n",
       "      <td>0.0485</td>\n",
       "      <td>0.0700</td>\n",
       "      <td>7</td>\n",
       "    </tr>\n",
       "    <tr>\n",
       "      <th>1</th>\n",
       "      <td>F</td>\n",
       "      <td>0.530</td>\n",
       "      <td>0.420</td>\n",
       "      <td>0.135</td>\n",
       "      <td>0.6770</td>\n",
       "      <td>0.2565</td>\n",
       "      <td>0.1415</td>\n",
       "      <td>0.2100</td>\n",
       "      <td>9</td>\n",
       "    </tr>\n",
       "    <tr>\n",
       "      <th>2</th>\n",
       "      <td>M</td>\n",
       "      <td>0.440</td>\n",
       "      <td>0.365</td>\n",
       "      <td>0.125</td>\n",
       "      <td>0.5160</td>\n",
       "      <td>0.2155</td>\n",
       "      <td>0.1140</td>\n",
       "      <td>0.1550</td>\n",
       "      <td>10</td>\n",
       "    </tr>\n",
       "    <tr>\n",
       "      <th>3</th>\n",
       "      <td>I</td>\n",
       "      <td>0.330</td>\n",
       "      <td>0.255</td>\n",
       "      <td>0.080</td>\n",
       "      <td>0.2050</td>\n",
       "      <td>0.0895</td>\n",
       "      <td>0.0395</td>\n",
       "      <td>0.0550</td>\n",
       "      <td>7</td>\n",
       "    </tr>\n",
       "    <tr>\n",
       "      <th>...</th>\n",
       "      <td>...</td>\n",
       "      <td>...</td>\n",
       "      <td>...</td>\n",
       "      <td>...</td>\n",
       "      <td>...</td>\n",
       "      <td>...</td>\n",
       "      <td>...</td>\n",
       "      <td>...</td>\n",
       "      <td>...</td>\n",
       "    </tr>\n",
       "    <tr>\n",
       "      <th>4172</th>\n",
       "      <td>M</td>\n",
       "      <td>0.590</td>\n",
       "      <td>0.440</td>\n",
       "      <td>0.135</td>\n",
       "      <td>0.9660</td>\n",
       "      <td>0.4390</td>\n",
       "      <td>0.2145</td>\n",
       "      <td>0.2605</td>\n",
       "      <td>10</td>\n",
       "    </tr>\n",
       "    <tr>\n",
       "      <th>4173</th>\n",
       "      <td>M</td>\n",
       "      <td>0.600</td>\n",
       "      <td>0.475</td>\n",
       "      <td>0.205</td>\n",
       "      <td>1.1760</td>\n",
       "      <td>0.5255</td>\n",
       "      <td>0.2875</td>\n",
       "      <td>0.3080</td>\n",
       "      <td>9</td>\n",
       "    </tr>\n",
       "    <tr>\n",
       "      <th>4174</th>\n",
       "      <td>F</td>\n",
       "      <td>0.625</td>\n",
       "      <td>0.485</td>\n",
       "      <td>0.150</td>\n",
       "      <td>1.0945</td>\n",
       "      <td>0.5310</td>\n",
       "      <td>0.2610</td>\n",
       "      <td>0.2960</td>\n",
       "      <td>10</td>\n",
       "    </tr>\n",
       "    <tr>\n",
       "      <th>4175</th>\n",
       "      <td>M</td>\n",
       "      <td>0.710</td>\n",
       "      <td>0.555</td>\n",
       "      <td>0.195</td>\n",
       "      <td>1.9485</td>\n",
       "      <td>0.9455</td>\n",
       "      <td>0.3765</td>\n",
       "      <td>0.4950</td>\n",
       "      <td>12</td>\n",
       "    </tr>\n",
       "  </tbody>\n",
       "</table>\n",
       "<p>4176 rows × 9 columns</p>\n",
       "</div>"
      ],
      "text/plain": [
       "      M  0.455  0.365  0.095   0.514  0.2245   0.101    0.15  15\n",
       "0     M  0.350  0.265  0.090  0.2255  0.0995  0.0485  0.0700   7\n",
       "1     F  0.530  0.420  0.135  0.6770  0.2565  0.1415  0.2100   9\n",
       "2     M  0.440  0.365  0.125  0.5160  0.2155  0.1140  0.1550  10\n",
       "3     I  0.330  0.255  0.080  0.2050  0.0895  0.0395  0.0550   7\n",
       "...  ..    ...    ...    ...     ...     ...     ...     ...  ..\n",
       "4172  M  0.590  0.440  0.135  0.9660  0.4390  0.2145  0.2605  10\n",
       "4173  M  0.600  0.475  0.205  1.1760  0.5255  0.2875  0.3080   9\n",
       "4174  F  0.625  0.485  0.150  1.0945  0.5310  0.2610  0.2960  10\n",
       "4175  M  0.710  0.555  0.195  1.9485  0.9455  0.3765  0.4950  12\n",
       "\n",
       "[4176 rows x 9 columns]"
      ]
     },
     "execution_count": 24,
     "metadata": {},
     "output_type": "execute_result"
    }
   ],
   "source": [
    "local_ds = './Datasets/Abalone/Dataset.data'\n",
    "abalone = read_csv(local_ds, delim_whitespace=True)\n",
    "abalone"
   ]
  },
  {
   "cell_type": "markdown",
   "metadata": {},
   "source": [
    "In your python envionment install pymongo: \n",
    "\n",
    "**pip3 install pymongo**"
   ]
  },
  {
   "cell_type": "markdown",
   "metadata": {},
   "source": [
    "#### Importing data from a mongodb database in to a pandas dataframe"
   ]
  },
  {
   "cell_type": "markdown",
   "metadata": {},
   "source": [
    "The emissions data is sourced from: \n",
    "https://www.kaggle.com/datasets/thedevastator/global-fossil-co2-emissions-by-country-2002-2022?resource=download\n",
    "\n",
    "Pre-requisites: \n",
    "* Running MongoDB Server enviroment. You can setup a free cluster using https://cloud.mongodb.com\n",
    "* MongoDB Compass. You can download MongoDB Compass here: https://www.mongodb.com/try/download/compass"
   ]
  },
  {
   "cell_type": "markdown",
   "metadata": {},
   "source": [
    "Import the emissions csv file GCB2022v27_MtCO2_flat.csv in to MongoDB using the MongoDB Compass Client. Basic steps: \n",
    "\n",
    "1. Download the data set from https://github.com/paforme/predictiveanalytics/blob/main/Chapter4/Datasets/GCB2022v27_MtCO2_flat.csv\n",
    "2. Connect to your MongoDB Cluster using compass: https://www.mongodb.com/docs/compass/current/connect/\n",
    "3. Click on Databases and press \"Create database\"\n",
    "4. Use Database Name: pandas\n",
    "       Collection Name: emissions\n",
    "   Click on \"Create Database\"\n",
    "5. Go to the \"pandas -> emissions\" collection in compass and press \"Add Data\" -> \"Import JSON or CSV File\"\n",
    "6. Select the \"GCB2022v27_MtCO2_flat.csv\" from the downloaded dataset and select \"Input file type\" as \"CSV.\" Ensure the delimiter is set to \"comma.\" Press \"Import\" "
   ]
  },
  {
   "cell_type": "code",
   "execution_count": 25,
   "metadata": {
    "scrolled": true
   },
   "outputs": [],
   "source": [
    "from pymongo import MongoClient #Import MongoDB client"
   ]
  },
  {
   "cell_type": "markdown",
   "metadata": {},
   "source": [
    "If you are connecting to MongoDB use your connection URI in the MongoClient below. This will vary depending on if the MongoDB Server is local or running in the cloud. If you are using MongoDB Atlas it has its own URI format.\n",
    "\n",
    "Ensure that you change the parameter passed to MongoClient below to the connection string of your MongoDB server."
   ]
  },
  {
   "cell_type": "code",
   "execution_count": 27,
   "metadata": {},
   "outputs": [],
   "source": [
    "connection = MongoClient(\"mongodb+srv://<fake_user:fake_password>@<fake-server.somewhere.mongodb.xyz>/?retryWrites=true&w=majority\") # The code is used to connect to a MongoDB Atlas database\n",
    "database = connection.pandas\n",
    "collection = database.emissions\n",
    "emissions = pd.DataFrame(list(collection.find())) # Load the data in a Pandas dataframe. ‘collection.find()’ does a query on the MongoDB collection to return all records. An SQL equivalent would be SELECT * from emissions. \n"
   ]
  },
  {
   "cell_type": "code",
   "execution_count": 28,
   "metadata": {
    "scrolled": true
   },
   "outputs": [
    {
     "data": {
      "text/html": [
       "<div>\n",
       "<style scoped>\n",
       "    .dataframe tbody tr th:only-of-type {\n",
       "        vertical-align: middle;\n",
       "    }\n",
       "\n",
       "    .dataframe tbody tr th {\n",
       "        vertical-align: top;\n",
       "    }\n",
       "\n",
       "    .dataframe thead th {\n",
       "        text-align: right;\n",
       "    }\n",
       "</style>\n",
       "<table border=\"1\" class=\"dataframe\">\n",
       "  <thead>\n",
       "    <tr style=\"text-align: right;\">\n",
       "      <th></th>\n",
       "      <th>_id</th>\n",
       "      <th>Country</th>\n",
       "      <th>ISO 3166-1 alpha-3</th>\n",
       "      <th>Year</th>\n",
       "      <th>Total</th>\n",
       "      <th>Per Capita</th>\n",
       "      <th>Coal</th>\n",
       "      <th>Oil</th>\n",
       "      <th>Gas</th>\n",
       "      <th>Cement</th>\n",
       "      <th>Flaring</th>\n",
       "      <th>Other</th>\n",
       "    </tr>\n",
       "  </thead>\n",
       "  <tbody>\n",
       "    <tr>\n",
       "      <th>0</th>\n",
       "      <td>65b36cee9cf222b8c3f7ee97</td>\n",
       "      <td>Afghanistan</td>\n",
       "      <td>AFG</td>\n",
       "      <td>1750</td>\n",
       "      <td>0</td>\n",
       "      <td>\\r</td>\n",
       "      <td>NaN</td>\n",
       "      <td>NaN</td>\n",
       "      <td>NaN</td>\n",
       "      <td>NaN</td>\n",
       "      <td>NaN</td>\n",
       "      <td>NaN</td>\n",
       "    </tr>\n",
       "    <tr>\n",
       "      <th>1</th>\n",
       "      <td>65b36cee9cf222b8c3f7ee98</td>\n",
       "      <td>Afghanistan</td>\n",
       "      <td>AFG</td>\n",
       "      <td>1751</td>\n",
       "      <td>0</td>\n",
       "      <td>\\r</td>\n",
       "      <td>NaN</td>\n",
       "      <td>NaN</td>\n",
       "      <td>NaN</td>\n",
       "      <td>NaN</td>\n",
       "      <td>NaN</td>\n",
       "      <td>NaN</td>\n",
       "    </tr>\n",
       "    <tr>\n",
       "      <th>2</th>\n",
       "      <td>65b36cee9cf222b8c3f7ee99</td>\n",
       "      <td>Afghanistan</td>\n",
       "      <td>AFG</td>\n",
       "      <td>1752</td>\n",
       "      <td>0</td>\n",
       "      <td>\\r</td>\n",
       "      <td>NaN</td>\n",
       "      <td>NaN</td>\n",
       "      <td>NaN</td>\n",
       "      <td>NaN</td>\n",
       "      <td>NaN</td>\n",
       "      <td>NaN</td>\n",
       "    </tr>\n",
       "    <tr>\n",
       "      <th>3</th>\n",
       "      <td>65b36cee9cf222b8c3f7ee9a</td>\n",
       "      <td>Afghanistan</td>\n",
       "      <td>AFG</td>\n",
       "      <td>1753</td>\n",
       "      <td>0</td>\n",
       "      <td>\\r</td>\n",
       "      <td>NaN</td>\n",
       "      <td>NaN</td>\n",
       "      <td>NaN</td>\n",
       "      <td>NaN</td>\n",
       "      <td>NaN</td>\n",
       "      <td>NaN</td>\n",
       "    </tr>\n",
       "    <tr>\n",
       "      <th>...</th>\n",
       "      <td>...</td>\n",
       "      <td>...</td>\n",
       "      <td>...</td>\n",
       "      <td>...</td>\n",
       "      <td>...</td>\n",
       "      <td>...</td>\n",
       "      <td>...</td>\n",
       "      <td>...</td>\n",
       "      <td>...</td>\n",
       "      <td>...</td>\n",
       "      <td>...</td>\n",
       "      <td>...</td>\n",
       "    </tr>\n",
       "    <tr>\n",
       "      <th>63100</th>\n",
       "      <td>65b36d199cf222b8c3f8e513</td>\n",
       "      <td>Global</td>\n",
       "      <td>WLD</td>\n",
       "      <td>2018</td>\n",
       "      <td>36826.506600</td>\n",
       "      <td>4.792753\\r</td>\n",
       "      <td>14746.830688</td>\n",
       "      <td>12266.016285</td>\n",
       "      <td>7529.846784</td>\n",
       "      <td>1569.218392</td>\n",
       "      <td>412.115746</td>\n",
       "      <td>302.478706</td>\n",
       "    </tr>\n",
       "    <tr>\n",
       "      <th>63101</th>\n",
       "      <td>65b36d199cf222b8c3f8e514</td>\n",
       "      <td>Global</td>\n",
       "      <td>WLD</td>\n",
       "      <td>2019</td>\n",
       "      <td>37082.558969</td>\n",
       "      <td>4.775633\\r</td>\n",
       "      <td>14725.978025</td>\n",
       "      <td>12345.653374</td>\n",
       "      <td>7647.528220</td>\n",
       "      <td>1617.506786</td>\n",
       "      <td>439.253991</td>\n",
       "      <td>306.638573</td>\n",
       "    </tr>\n",
       "    <tr>\n",
       "      <th>63102</th>\n",
       "      <td>65b36d199cf222b8c3f8e515</td>\n",
       "      <td>Global</td>\n",
       "      <td>WLD</td>\n",
       "      <td>2020</td>\n",
       "      <td>35264.085734</td>\n",
       "      <td>4.497423\\r</td>\n",
       "      <td>14174.564010</td>\n",
       "      <td>11191.808551</td>\n",
       "      <td>7556.290283</td>\n",
       "      <td>1637.537532</td>\n",
       "      <td>407.583673</td>\n",
       "      <td>296.301685</td>\n",
       "    </tr>\n",
       "    <tr>\n",
       "      <th>63103</th>\n",
       "      <td>65b36d199cf222b8c3f8e516</td>\n",
       "      <td>Global</td>\n",
       "      <td>WLD</td>\n",
       "      <td>2021</td>\n",
       "      <td>37123.850352</td>\n",
       "      <td>4.693699\\r</td>\n",
       "      <td>14979.598083</td>\n",
       "      <td>11837.159116</td>\n",
       "      <td>7921.829472</td>\n",
       "      <td>1672.592372</td>\n",
       "      <td>416.525563</td>\n",
       "      <td>296.145746</td>\n",
       "    </tr>\n",
       "  </tbody>\n",
       "</table>\n",
       "<p>63104 rows × 12 columns</p>\n",
       "</div>"
      ],
      "text/plain": [
       "                            _id      Country ISO 3166-1 alpha-3  Year         Total  Per Capita  \\\n",
       "0      65b36cee9cf222b8c3f7ee97  Afghanistan                AFG  1750             0          \\r   \n",
       "1      65b36cee9cf222b8c3f7ee98  Afghanistan                AFG  1751             0          \\r   \n",
       "2      65b36cee9cf222b8c3f7ee99  Afghanistan                AFG  1752             0          \\r   \n",
       "3      65b36cee9cf222b8c3f7ee9a  Afghanistan                AFG  1753             0          \\r   \n",
       "...                         ...          ...                ...   ...           ...         ...   \n",
       "63100  65b36d199cf222b8c3f8e513       Global                WLD  2018  36826.506600  4.792753\\r   \n",
       "63101  65b36d199cf222b8c3f8e514       Global                WLD  2019  37082.558969  4.775633\\r   \n",
       "63102  65b36d199cf222b8c3f8e515       Global                WLD  2020  35264.085734  4.497423\\r   \n",
       "63103  65b36d199cf222b8c3f8e516       Global                WLD  2021  37123.850352  4.693699\\r   \n",
       "\n",
       "               Coal           Oil          Gas       Cement     Flaring       Other  \n",
       "0               NaN           NaN          NaN          NaN         NaN         NaN  \n",
       "1               NaN           NaN          NaN          NaN         NaN         NaN  \n",
       "2               NaN           NaN          NaN          NaN         NaN         NaN  \n",
       "3               NaN           NaN          NaN          NaN         NaN         NaN  \n",
       "...             ...           ...          ...          ...         ...         ...  \n",
       "63100  14746.830688  12266.016285  7529.846784  1569.218392  412.115746  302.478706  \n",
       "63101  14725.978025  12345.653374  7647.528220  1617.506786  439.253991  306.638573  \n",
       "63102  14174.564010  11191.808551  7556.290283  1637.537532  407.583673  296.301685  \n",
       "63103  14979.598083  11837.159116  7921.829472  1672.592372  416.525563  296.145746  \n",
       "\n",
       "[63104 rows x 12 columns]"
      ]
     },
     "execution_count": 28,
     "metadata": {},
     "output_type": "execute_result"
    }
   ],
   "source": [
    "emissions"
   ]
  },
  {
   "cell_type": "code",
   "execution_count": 29,
   "metadata": {},
   "outputs": [
    {
     "data": {
      "text/plain": [
       "Index(['_id', 'Country', 'ISO 3166-1 alpha-3', 'Year', 'Total', 'Per Capita', 'Coal', 'Oil', 'Gas',\n",
       "       'Cement', 'Flaring', 'Other'],\n",
       "      dtype='object')"
      ]
     },
     "execution_count": 29,
     "metadata": {},
     "output_type": "execute_result"
    }
   ],
   "source": [
    "emissions.columns #List pandas frame columns"
   ]
  },
  {
   "cell_type": "code",
   "execution_count": 30,
   "metadata": {},
   "outputs": [],
   "source": [
    "emissions_filter = ['_id', 'Country', 'ISO 3166-1 alpha-3', 'Year', 'Total']"
   ]
  },
  {
   "cell_type": "code",
   "execution_count": 31,
   "metadata": {},
   "outputs": [
    {
     "data": {
      "text/plain": [
       "['_id', 'Country', 'ISO 3166-1 alpha-3', 'Year', 'Total']"
      ]
     },
     "execution_count": 31,
     "metadata": {},
     "output_type": "execute_result"
    }
   ],
   "source": [
    "emissions_filter"
   ]
  },
  {
   "cell_type": "code",
   "execution_count": 32,
   "metadata": {},
   "outputs": [
    {
     "data": {
      "text/html": [
       "<div>\n",
       "<style scoped>\n",
       "    .dataframe tbody tr th:only-of-type {\n",
       "        vertical-align: middle;\n",
       "    }\n",
       "\n",
       "    .dataframe tbody tr th {\n",
       "        vertical-align: top;\n",
       "    }\n",
       "\n",
       "    .dataframe thead th {\n",
       "        text-align: right;\n",
       "    }\n",
       "</style>\n",
       "<table border=\"1\" class=\"dataframe\">\n",
       "  <thead>\n",
       "    <tr style=\"text-align: right;\">\n",
       "      <th></th>\n",
       "      <th>_id</th>\n",
       "      <th>Country</th>\n",
       "      <th>ISO 3166-1 alpha-3</th>\n",
       "      <th>Year</th>\n",
       "      <th>Total</th>\n",
       "    </tr>\n",
       "  </thead>\n",
       "  <tbody>\n",
       "    <tr>\n",
       "      <th>0</th>\n",
       "      <td>65b36cee9cf222b8c3f7ee97</td>\n",
       "      <td>Afghanistan</td>\n",
       "      <td>AFG</td>\n",
       "      <td>1750</td>\n",
       "      <td>0</td>\n",
       "    </tr>\n",
       "    <tr>\n",
       "      <th>1</th>\n",
       "      <td>65b36cee9cf222b8c3f7ee98</td>\n",
       "      <td>Afghanistan</td>\n",
       "      <td>AFG</td>\n",
       "      <td>1751</td>\n",
       "      <td>0</td>\n",
       "    </tr>\n",
       "    <tr>\n",
       "      <th>2</th>\n",
       "      <td>65b36cee9cf222b8c3f7ee99</td>\n",
       "      <td>Afghanistan</td>\n",
       "      <td>AFG</td>\n",
       "      <td>1752</td>\n",
       "      <td>0</td>\n",
       "    </tr>\n",
       "    <tr>\n",
       "      <th>3</th>\n",
       "      <td>65b36cee9cf222b8c3f7ee9a</td>\n",
       "      <td>Afghanistan</td>\n",
       "      <td>AFG</td>\n",
       "      <td>1753</td>\n",
       "      <td>0</td>\n",
       "    </tr>\n",
       "    <tr>\n",
       "      <th>...</th>\n",
       "      <td>...</td>\n",
       "      <td>...</td>\n",
       "      <td>...</td>\n",
       "      <td>...</td>\n",
       "      <td>...</td>\n",
       "    </tr>\n",
       "    <tr>\n",
       "      <th>63100</th>\n",
       "      <td>65b36d199cf222b8c3f8e513</td>\n",
       "      <td>Global</td>\n",
       "      <td>WLD</td>\n",
       "      <td>2018</td>\n",
       "      <td>36826.506600</td>\n",
       "    </tr>\n",
       "    <tr>\n",
       "      <th>63101</th>\n",
       "      <td>65b36d199cf222b8c3f8e514</td>\n",
       "      <td>Global</td>\n",
       "      <td>WLD</td>\n",
       "      <td>2019</td>\n",
       "      <td>37082.558969</td>\n",
       "    </tr>\n",
       "    <tr>\n",
       "      <th>63102</th>\n",
       "      <td>65b36d199cf222b8c3f8e515</td>\n",
       "      <td>Global</td>\n",
       "      <td>WLD</td>\n",
       "      <td>2020</td>\n",
       "      <td>35264.085734</td>\n",
       "    </tr>\n",
       "    <tr>\n",
       "      <th>63103</th>\n",
       "      <td>65b36d199cf222b8c3f8e516</td>\n",
       "      <td>Global</td>\n",
       "      <td>WLD</td>\n",
       "      <td>2021</td>\n",
       "      <td>37123.850352</td>\n",
       "    </tr>\n",
       "  </tbody>\n",
       "</table>\n",
       "<p>63104 rows × 5 columns</p>\n",
       "</div>"
      ],
      "text/plain": [
       "                            _id      Country ISO 3166-1 alpha-3  Year         Total\n",
       "0      65b36cee9cf222b8c3f7ee97  Afghanistan                AFG  1750             0\n",
       "1      65b36cee9cf222b8c3f7ee98  Afghanistan                AFG  1751             0\n",
       "2      65b36cee9cf222b8c3f7ee99  Afghanistan                AFG  1752             0\n",
       "3      65b36cee9cf222b8c3f7ee9a  Afghanistan                AFG  1753             0\n",
       "...                         ...          ...                ...   ...           ...\n",
       "63100  65b36d199cf222b8c3f8e513       Global                WLD  2018  36826.506600\n",
       "63101  65b36d199cf222b8c3f8e514       Global                WLD  2019  37082.558969\n",
       "63102  65b36d199cf222b8c3f8e515       Global                WLD  2020  35264.085734\n",
       "63103  65b36d199cf222b8c3f8e516       Global                WLD  2021  37123.850352\n",
       "\n",
       "[63104 rows x 5 columns]"
      ]
     },
     "execution_count": 32,
     "metadata": {},
     "output_type": "execute_result"
    }
   ],
   "source": [
    "emissions[emissions_filter]"
   ]
  },
  {
   "cell_type": "code",
   "execution_count": 33,
   "metadata": {
    "scrolled": true
   },
   "outputs": [
    {
     "data": {
      "text/html": [
       "<div>\n",
       "<style scoped>\n",
       "    .dataframe tbody tr th:only-of-type {\n",
       "        vertical-align: middle;\n",
       "    }\n",
       "\n",
       "    .dataframe tbody tr th {\n",
       "        vertical-align: top;\n",
       "    }\n",
       "\n",
       "    .dataframe thead th {\n",
       "        text-align: right;\n",
       "    }\n",
       "</style>\n",
       "<table border=\"1\" class=\"dataframe\">\n",
       "  <thead>\n",
       "    <tr style=\"text-align: right;\">\n",
       "      <th></th>\n",
       "      <th>_id</th>\n",
       "      <th>Country</th>\n",
       "      <th>ISO 3166-1 alpha-3</th>\n",
       "      <th>Year</th>\n",
       "      <th>Total</th>\n",
       "    </tr>\n",
       "  </thead>\n",
       "  <tbody>\n",
       "    <tr>\n",
       "      <th>0</th>\n",
       "      <td>65b36cee9cf222b8c3f7ee97</td>\n",
       "      <td>Afghanistan</td>\n",
       "      <td>AFG</td>\n",
       "      <td>1750</td>\n",
       "      <td>0</td>\n",
       "    </tr>\n",
       "    <tr>\n",
       "      <th>1</th>\n",
       "      <td>65b36cee9cf222b8c3f7ee98</td>\n",
       "      <td>Afghanistan</td>\n",
       "      <td>AFG</td>\n",
       "      <td>1751</td>\n",
       "      <td>0</td>\n",
       "    </tr>\n",
       "    <tr>\n",
       "      <th>2</th>\n",
       "      <td>65b36cee9cf222b8c3f7ee99</td>\n",
       "      <td>Afghanistan</td>\n",
       "      <td>AFG</td>\n",
       "      <td>1752</td>\n",
       "      <td>0</td>\n",
       "    </tr>\n",
       "    <tr>\n",
       "      <th>3</th>\n",
       "      <td>65b36cee9cf222b8c3f7ee9a</td>\n",
       "      <td>Afghanistan</td>\n",
       "      <td>AFG</td>\n",
       "      <td>1753</td>\n",
       "      <td>0</td>\n",
       "    </tr>\n",
       "    <tr>\n",
       "      <th>...</th>\n",
       "      <td>...</td>\n",
       "      <td>...</td>\n",
       "      <td>...</td>\n",
       "      <td>...</td>\n",
       "      <td>...</td>\n",
       "    </tr>\n",
       "    <tr>\n",
       "      <th>63100</th>\n",
       "      <td>65b36d199cf222b8c3f8e513</td>\n",
       "      <td>Global</td>\n",
       "      <td>WLD</td>\n",
       "      <td>2018</td>\n",
       "      <td>36826.506600</td>\n",
       "    </tr>\n",
       "    <tr>\n",
       "      <th>63101</th>\n",
       "      <td>65b36d199cf222b8c3f8e514</td>\n",
       "      <td>Global</td>\n",
       "      <td>WLD</td>\n",
       "      <td>2019</td>\n",
       "      <td>37082.558969</td>\n",
       "    </tr>\n",
       "    <tr>\n",
       "      <th>63102</th>\n",
       "      <td>65b36d199cf222b8c3f8e515</td>\n",
       "      <td>Global</td>\n",
       "      <td>WLD</td>\n",
       "      <td>2020</td>\n",
       "      <td>35264.085734</td>\n",
       "    </tr>\n",
       "    <tr>\n",
       "      <th>63103</th>\n",
       "      <td>65b36d199cf222b8c3f8e516</td>\n",
       "      <td>Global</td>\n",
       "      <td>WLD</td>\n",
       "      <td>2021</td>\n",
       "      <td>37123.850352</td>\n",
       "    </tr>\n",
       "  </tbody>\n",
       "</table>\n",
       "<p>63104 rows × 5 columns</p>\n",
       "</div>"
      ],
      "text/plain": [
       "                            _id      Country ISO 3166-1 alpha-3  Year         Total\n",
       "0      65b36cee9cf222b8c3f7ee97  Afghanistan                AFG  1750             0\n",
       "1      65b36cee9cf222b8c3f7ee98  Afghanistan                AFG  1751             0\n",
       "2      65b36cee9cf222b8c3f7ee99  Afghanistan                AFG  1752             0\n",
       "3      65b36cee9cf222b8c3f7ee9a  Afghanistan                AFG  1753             0\n",
       "...                         ...          ...                ...   ...           ...\n",
       "63100  65b36d199cf222b8c3f8e513       Global                WLD  2018  36826.506600\n",
       "63101  65b36d199cf222b8c3f8e514       Global                WLD  2019  37082.558969\n",
       "63102  65b36d199cf222b8c3f8e515       Global                WLD  2020  35264.085734\n",
       "63103  65b36d199cf222b8c3f8e516       Global                WLD  2021  37123.850352\n",
       "\n",
       "[63104 rows x 5 columns]"
      ]
     },
     "execution_count": 33,
     "metadata": {},
     "output_type": "execute_result"
    }
   ],
   "source": [
    "emissions.loc[:, emissions_filter] #Create a new df with less columns and all rows."
   ]
  },
  {
   "cell_type": "code",
   "execution_count": 34,
   "metadata": {},
   "outputs": [],
   "source": [
    "new_emissions = emissions.loc[:,emissions_filter] # Create a new dataframe with the subset of the data"
   ]
  },
  {
   "cell_type": "code",
   "execution_count": 35,
   "metadata": {},
   "outputs": [
    {
     "data": {
      "text/html": [
       "<div>\n",
       "<style scoped>\n",
       "    .dataframe tbody tr th:only-of-type {\n",
       "        vertical-align: middle;\n",
       "    }\n",
       "\n",
       "    .dataframe tbody tr th {\n",
       "        vertical-align: top;\n",
       "    }\n",
       "\n",
       "    .dataframe thead th {\n",
       "        text-align: right;\n",
       "    }\n",
       "</style>\n",
       "<table border=\"1\" class=\"dataframe\">\n",
       "  <thead>\n",
       "    <tr style=\"text-align: right;\">\n",
       "      <th></th>\n",
       "      <th>_id</th>\n",
       "      <th>Country</th>\n",
       "      <th>ISO 3166-1 alpha-3</th>\n",
       "      <th>Year</th>\n",
       "      <th>Total</th>\n",
       "    </tr>\n",
       "  </thead>\n",
       "  <tbody>\n",
       "    <tr>\n",
       "      <th>0</th>\n",
       "      <td>65b36cee9cf222b8c3f7ee97</td>\n",
       "      <td>Afghanistan</td>\n",
       "      <td>AFG</td>\n",
       "      <td>1750</td>\n",
       "      <td>0</td>\n",
       "    </tr>\n",
       "    <tr>\n",
       "      <th>1</th>\n",
       "      <td>65b36cee9cf222b8c3f7ee98</td>\n",
       "      <td>Afghanistan</td>\n",
       "      <td>AFG</td>\n",
       "      <td>1751</td>\n",
       "      <td>0</td>\n",
       "    </tr>\n",
       "    <tr>\n",
       "      <th>2</th>\n",
       "      <td>65b36cee9cf222b8c3f7ee99</td>\n",
       "      <td>Afghanistan</td>\n",
       "      <td>AFG</td>\n",
       "      <td>1752</td>\n",
       "      <td>0</td>\n",
       "    </tr>\n",
       "    <tr>\n",
       "      <th>3</th>\n",
       "      <td>65b36cee9cf222b8c3f7ee9a</td>\n",
       "      <td>Afghanistan</td>\n",
       "      <td>AFG</td>\n",
       "      <td>1753</td>\n",
       "      <td>0</td>\n",
       "    </tr>\n",
       "    <tr>\n",
       "      <th>...</th>\n",
       "      <td>...</td>\n",
       "      <td>...</td>\n",
       "      <td>...</td>\n",
       "      <td>...</td>\n",
       "      <td>...</td>\n",
       "    </tr>\n",
       "    <tr>\n",
       "      <th>63100</th>\n",
       "      <td>65b36d199cf222b8c3f8e513</td>\n",
       "      <td>Global</td>\n",
       "      <td>WLD</td>\n",
       "      <td>2018</td>\n",
       "      <td>36826.506600</td>\n",
       "    </tr>\n",
       "    <tr>\n",
       "      <th>63101</th>\n",
       "      <td>65b36d199cf222b8c3f8e514</td>\n",
       "      <td>Global</td>\n",
       "      <td>WLD</td>\n",
       "      <td>2019</td>\n",
       "      <td>37082.558969</td>\n",
       "    </tr>\n",
       "    <tr>\n",
       "      <th>63102</th>\n",
       "      <td>65b36d199cf222b8c3f8e515</td>\n",
       "      <td>Global</td>\n",
       "      <td>WLD</td>\n",
       "      <td>2020</td>\n",
       "      <td>35264.085734</td>\n",
       "    </tr>\n",
       "    <tr>\n",
       "      <th>63103</th>\n",
       "      <td>65b36d199cf222b8c3f8e516</td>\n",
       "      <td>Global</td>\n",
       "      <td>WLD</td>\n",
       "      <td>2021</td>\n",
       "      <td>37123.850352</td>\n",
       "    </tr>\n",
       "  </tbody>\n",
       "</table>\n",
       "<p>63104 rows × 5 columns</p>\n",
       "</div>"
      ],
      "text/plain": [
       "                            _id      Country ISO 3166-1 alpha-3  Year         Total\n",
       "0      65b36cee9cf222b8c3f7ee97  Afghanistan                AFG  1750             0\n",
       "1      65b36cee9cf222b8c3f7ee98  Afghanistan                AFG  1751             0\n",
       "2      65b36cee9cf222b8c3f7ee99  Afghanistan                AFG  1752             0\n",
       "3      65b36cee9cf222b8c3f7ee9a  Afghanistan                AFG  1753             0\n",
       "...                         ...          ...                ...   ...           ...\n",
       "63100  65b36d199cf222b8c3f8e513       Global                WLD  2018  36826.506600\n",
       "63101  65b36d199cf222b8c3f8e514       Global                WLD  2019  37082.558969\n",
       "63102  65b36d199cf222b8c3f8e515       Global                WLD  2020  35264.085734\n",
       "63103  65b36d199cf222b8c3f8e516       Global                WLD  2021  37123.850352\n",
       "\n",
       "[63104 rows x 5 columns]"
      ]
     },
     "execution_count": 35,
     "metadata": {},
     "output_type": "execute_result"
    }
   ],
   "source": [
    "new_emissions"
   ]
  },
  {
   "cell_type": "code",
   "execution_count": 36,
   "metadata": {},
   "outputs": [
    {
     "name": "stdout",
     "output_type": "stream",
     "text": [
      "<class 'pandas.core.frame.DataFrame'>\n",
      "RangeIndex: 63104 entries, 0 to 63103\n",
      "Data columns (total 5 columns):\n",
      " #   Column              Non-Null Count  Dtype \n",
      "---  ------              --------------  ----- \n",
      " 0   _id                 63104 non-null  object\n",
      " 1   Country             63104 non-null  object\n",
      " 2   ISO 3166-1 alpha-3  61472 non-null  object\n",
      " 3   Year                63104 non-null  object\n",
      " 4   Total               62904 non-null  object\n",
      "dtypes: object(5)\n",
      "memory usage: 2.4+ MB\n"
     ]
    }
   ],
   "source": [
    "new_emissions.info() # Notice the memory usage"
   ]
  },
  {
   "cell_type": "code",
   "execution_count": 37,
   "metadata": {},
   "outputs": [],
   "source": [
    "for cat in 'Country Year'.split():\n",
    "    new_emissions[cat] = new_emissions[cat].astype('category') #Convert Country and Year to categories to save memory"
   ]
  },
  {
   "cell_type": "code",
   "execution_count": 38,
   "metadata": {},
   "outputs": [
    {
     "name": "stdout",
     "output_type": "stream",
     "text": [
      "<class 'pandas.core.frame.DataFrame'>\n",
      "RangeIndex: 63104 entries, 0 to 63103\n",
      "Data columns (total 5 columns):\n",
      " #   Column              Non-Null Count  Dtype   \n",
      "---  ------              --------------  -----   \n",
      " 0   _id                 63104 non-null  object  \n",
      " 1   Country             63104 non-null  category\n",
      " 2   ISO 3166-1 alpha-3  61472 non-null  object  \n",
      " 3   Year                63104 non-null  category\n",
      " 4   Total               62904 non-null  object  \n",
      "dtypes: category(2), object(3)\n",
      "memory usage: 1.7+ MB\n"
     ]
    }
   ],
   "source": [
    "new_emissions.info() # Notice the memory usage"
   ]
  },
  {
   "cell_type": "code",
   "execution_count": 39,
   "metadata": {
    "scrolled": false
   },
   "outputs": [
    {
     "data": {
      "text/plain": [
       "['Afghanistan',\n",
       " 'Albania',\n",
       " 'Algeria',\n",
       " 'Andorra',\n",
       " 'Angola',\n",
       " 'Anguilla',\n",
       " 'Antarctica',\n",
       " 'Antigua and Barbuda',\n",
       " 'Argentina',\n",
       " 'Armenia',\n",
       " 'Aruba',\n",
       " 'Australia',\n",
       " 'Austria',\n",
       " 'Azerbaijan',\n",
       " 'Bahamas',\n",
       " 'Bahrain',\n",
       " 'Bangladesh',\n",
       " 'Barbados',\n",
       " 'Belarus',\n",
       " 'Belgium',\n",
       " 'Belize',\n",
       " 'Benin',\n",
       " 'Bermuda',\n",
       " 'Bhutan',\n",
       " 'Bolivia',\n",
       " 'Bonaire, Saint Eustatius and Saba',\n",
       " 'Bosnia and Herzegovina',\n",
       " 'Botswana',\n",
       " 'Brazil',\n",
       " 'British Virgin Islands',\n",
       " 'Brunei Darussalam',\n",
       " 'Bulgaria',\n",
       " 'Burkina Faso',\n",
       " 'Burundi',\n",
       " 'Cambodia',\n",
       " 'Cameroon',\n",
       " 'Canada',\n",
       " 'Cape Verde',\n",
       " 'Central African Republic',\n",
       " 'Chad',\n",
       " 'Chile',\n",
       " 'China',\n",
       " 'Christmas Island',\n",
       " 'Colombia',\n",
       " 'Comoros',\n",
       " 'Congo',\n",
       " 'Cook Islands',\n",
       " 'Costa Rica',\n",
       " 'Croatia',\n",
       " 'Cuba',\n",
       " 'Curaçao',\n",
       " 'Cyprus',\n",
       " 'Czech Republic',\n",
       " \"Côte d'Ivoire\",\n",
       " 'Democratic Republic of the Congo',\n",
       " 'Denmark',\n",
       " 'Djibouti',\n",
       " 'Dominica',\n",
       " 'Dominican Republic',\n",
       " 'Ecuador',\n",
       " 'Egypt',\n",
       " 'El Salvador',\n",
       " 'Equatorial Guinea',\n",
       " 'Eritrea',\n",
       " 'Estonia',\n",
       " 'Ethiopia',\n",
       " 'Faeroe Islands',\n",
       " 'Fiji',\n",
       " 'Finland',\n",
       " 'France',\n",
       " 'French Equatorial Africa',\n",
       " 'French Guiana',\n",
       " 'French Polynesia',\n",
       " 'French West Africa',\n",
       " 'Gabon',\n",
       " 'Gambia',\n",
       " 'Georgia',\n",
       " 'Germany',\n",
       " 'Ghana',\n",
       " 'Global',\n",
       " 'Greece',\n",
       " 'Greenland',\n",
       " 'Grenada',\n",
       " 'Guadeloupe',\n",
       " 'Guatemala',\n",
       " 'Guinea',\n",
       " 'Guinea-Bissau',\n",
       " 'Guyana',\n",
       " 'Haiti',\n",
       " 'Honduras',\n",
       " 'Hong Kong',\n",
       " 'Hungary',\n",
       " 'Iceland',\n",
       " 'India',\n",
       " 'Indonesia',\n",
       " 'International Transport',\n",
       " 'Iran',\n",
       " 'Iraq',\n",
       " 'Ireland',\n",
       " 'Israel',\n",
       " 'Italy',\n",
       " 'Jamaica',\n",
       " 'Japan',\n",
       " 'Jordan',\n",
       " 'Kazakhstan',\n",
       " 'Kenya',\n",
       " 'Kiribati',\n",
       " 'Kosovo',\n",
       " 'Kuwait',\n",
       " 'Kuwaiti Oil Fires',\n",
       " 'Kyrgyzstan',\n",
       " 'Laos',\n",
       " 'Latvia',\n",
       " 'Lebanon',\n",
       " 'Leeward Islands',\n",
       " 'Lesotho',\n",
       " 'Liberia',\n",
       " 'Libya',\n",
       " 'Liechtenstein',\n",
       " 'Lithuania',\n",
       " 'Luxembourg',\n",
       " 'Macao',\n",
       " 'Madagascar',\n",
       " 'Malawi',\n",
       " 'Malaysia',\n",
       " 'Maldives',\n",
       " 'Mali',\n",
       " 'Malta',\n",
       " 'Marshall Islands',\n",
       " 'Martinique',\n",
       " 'Mauritania',\n",
       " 'Mauritius',\n",
       " 'Mayotte',\n",
       " 'Mexico',\n",
       " 'Micronesia (Federated States of)',\n",
       " 'Moldova',\n",
       " 'Mongolia',\n",
       " 'Montenegro',\n",
       " 'Montserrat',\n",
       " 'Morocco',\n",
       " 'Mozambique',\n",
       " 'Myanmar',\n",
       " 'Namibia',\n",
       " 'Nauru',\n",
       " 'Nepal',\n",
       " 'Netherlands',\n",
       " 'New Caledonia',\n",
       " 'New Zealand',\n",
       " 'Nicaragua',\n",
       " 'Niger',\n",
       " 'Nigeria',\n",
       " 'Niue',\n",
       " 'North Korea',\n",
       " 'North Macedonia',\n",
       " 'Norway',\n",
       " 'Occupied Palestinian Territory',\n",
       " 'Oman',\n",
       " 'Pacific Islands (Palau)',\n",
       " 'Pakistan',\n",
       " 'Palau',\n",
       " 'Panama',\n",
       " 'Panama Canal Zone',\n",
       " 'Papua New Guinea',\n",
       " 'Paraguay',\n",
       " 'Peru',\n",
       " 'Philippines',\n",
       " 'Poland',\n",
       " 'Portugal',\n",
       " 'Puerto Rico',\n",
       " 'Qatar',\n",
       " 'Romania',\n",
       " 'Russia',\n",
       " 'Rwanda',\n",
       " 'Ryukyu Islands',\n",
       " 'Réunion',\n",
       " 'Saint Helena',\n",
       " 'Saint Kitts and Nevis',\n",
       " 'Saint Lucia',\n",
       " 'Saint Pierre and Miquelon',\n",
       " 'Saint Vincent and the Grenadines',\n",
       " 'Samoa',\n",
       " 'Sao Tome and Principe',\n",
       " 'Saudi Arabia',\n",
       " 'Senegal',\n",
       " 'Serbia',\n",
       " 'Seychelles',\n",
       " 'Sierra Leone',\n",
       " 'Singapore',\n",
       " 'Sint Maarten (Dutch part)',\n",
       " 'Slovakia',\n",
       " 'Slovenia',\n",
       " 'Solomon Islands',\n",
       " 'Somalia',\n",
       " 'South Africa',\n",
       " 'South Korea',\n",
       " 'South Sudan',\n",
       " 'Spain',\n",
       " 'Sri Lanka',\n",
       " 'St. Kitts-Nevis-Anguilla',\n",
       " 'Sudan',\n",
       " 'Suriname',\n",
       " 'Swaziland',\n",
       " 'Sweden',\n",
       " 'Switzerland',\n",
       " 'Syria',\n",
       " 'Taiwan',\n",
       " 'Tajikistan',\n",
       " 'Tanzania',\n",
       " 'Thailand',\n",
       " 'Timor-Leste',\n",
       " 'Togo',\n",
       " 'Tonga',\n",
       " 'Trinidad and Tobago',\n",
       " 'Tunisia',\n",
       " 'Turkey',\n",
       " 'Turkmenistan',\n",
       " 'Turks and Caicos Islands',\n",
       " 'Tuvalu',\n",
       " 'USA',\n",
       " 'Uganda',\n",
       " 'Ukraine',\n",
       " 'United Arab Emirates',\n",
       " 'United Kingdom',\n",
       " 'Uruguay',\n",
       " 'Uzbekistan',\n",
       " 'Vanuatu',\n",
       " 'Venezuela',\n",
       " 'Viet Nam',\n",
       " 'Wallis and Futuna Islands',\n",
       " 'Yemen',\n",
       " 'Zambia',\n",
       " 'Zimbabwe']"
      ]
     },
     "execution_count": 39,
     "metadata": {},
     "output_type": "execute_result"
    }
   ],
   "source": [
    "sorted(new_emissions.Country.cat.categories) # Since countries are categories they are listed as such. "
   ]
  },
  {
   "cell_type": "code",
   "execution_count": null,
   "metadata": {},
   "outputs": [],
   "source": [
    "penguins.info() #We can try the same on the penguins dataframe"
   ]
  },
  {
   "cell_type": "code",
   "execution_count": null,
   "metadata": {},
   "outputs": [],
   "source": [
    "new_penguins = penguins \n",
    "new_penguins['species'] = new_penguins['species'].astype('category') "
   ]
  },
  {
   "cell_type": "code",
   "execution_count": null,
   "metadata": {},
   "outputs": [],
   "source": [
    "new_penguins.info() #Notice the reduced memory usage"
   ]
  },
  {
   "cell_type": "markdown",
   "metadata": {
    "slideshow": {
     "slide_type": "slide"
    }
   },
   "source": [
    "### Data filtering and grouping"
   ]
  },
  {
   "cell_type": "markdown",
   "metadata": {},
   "source": [
    "http://pandas.pydata.org/pandas-docs/stable/text.html"
   ]
  },
  {
   "cell_type": "code",
   "execution_count": 47,
   "metadata": {},
   "outputs": [
    {
     "name": "stdout",
     "output_type": "stream",
     "text": [
      "<class 'pandas.core.frame.DataFrame'>\n",
      "RangeIndex: 63104 entries, 0 to 63103\n",
      "Data columns (total 12 columns):\n",
      " #   Column              Non-Null Count  Dtype  \n",
      "---  ------              --------------  -----  \n",
      " 0   _id                 63104 non-null  object \n",
      " 1   Country             63104 non-null  object \n",
      " 2   ISO 3166-1 alpha-3  61472 non-null  object \n",
      " 3   Year                63104 non-null  int64  \n",
      " 4   Total               62904 non-null  float64\n",
      " 5   Per Capita          63104 non-null  object \n",
      " 6   Coal                21744 non-null  float64\n",
      " 7   Oil                 21717 non-null  float64\n",
      " 8   Gas                 21618 non-null  float64\n",
      " 9   Cement              20814 non-null  float64\n",
      " 10  Flaring             21550 non-null  object \n",
      " 11  Other               1620 non-null   object \n",
      "dtypes: float64(5), int64(1), object(6)\n",
      "memory usage: 5.8+ MB\n"
     ]
    }
   ],
   "source": [
    "convert_dictert_dict = {'Year': int,\n",
    "                'Total': float,\n",
    "                } #Define a conversion dictionary\n",
    " \n",
    "emissions = emissions.astype(convert_dict) #Apply the dictionary\n",
    "emissions.info()"
   ]
  },
  {
   "cell_type": "code",
   "execution_count": 53,
   "metadata": {
    "scrolled": true
   },
   "outputs": [
    {
     "data": {
      "text/html": [
       "<div>\n",
       "<style scoped>\n",
       "    .dataframe tbody tr th:only-of-type {\n",
       "        vertical-align: middle;\n",
       "    }\n",
       "\n",
       "    .dataframe tbody tr th {\n",
       "        vertical-align: top;\n",
       "    }\n",
       "\n",
       "    .dataframe thead th {\n",
       "        text-align: right;\n",
       "    }\n",
       "</style>\n",
       "<table border=\"1\" class=\"dataframe\">\n",
       "  <thead>\n",
       "    <tr style=\"text-align: right;\">\n",
       "      <th></th>\n",
       "      <th>_id</th>\n",
       "      <th>Country</th>\n",
       "      <th>ISO 3166-1 alpha-3</th>\n",
       "      <th>Year</th>\n",
       "      <th>Total</th>\n",
       "      <th>Per Capita</th>\n",
       "      <th>Coal</th>\n",
       "      <th>Oil</th>\n",
       "      <th>Gas</th>\n",
       "      <th>Cement</th>\n",
       "      <th>Flaring</th>\n",
       "      <th>Other</th>\n",
       "    </tr>\n",
       "  </thead>\n",
       "  <tbody>\n",
       "    <tr>\n",
       "      <th>270</th>\n",
       "      <td>65b36cee9cf222b8c3f7efa5</td>\n",
       "      <td>Afghanistan</td>\n",
       "      <td>AFG</td>\n",
       "      <td>2020</td>\n",
       "      <td>11.681766</td>\n",
       "      <td>0.299746\\r</td>\n",
       "      <td>4.150072</td>\n",
       "      <td>7.219776</td>\n",
       "      <td>0.251244</td>\n",
       "      <td>0.060674</td>\n",
       "      <td>0</td>\n",
       "      <td>NaN</td>\n",
       "    </tr>\n",
       "    <tr>\n",
       "      <th>542</th>\n",
       "      <td>65b36cee9cf222b8c3f7f0b5</td>\n",
       "      <td>Albania</td>\n",
       "      <td>ALB</td>\n",
       "      <td>2020</td>\n",
       "      <td>4.728559</td>\n",
       "      <td>1.649392\\r</td>\n",
       "      <td>0.331439</td>\n",
       "      <td>3.217576</td>\n",
       "      <td>0.131178</td>\n",
       "      <td>1.048179</td>\n",
       "      <td>0.000188</td>\n",
       "      <td>NaN</td>\n",
       "    </tr>\n",
       "    <tr>\n",
       "      <th>814</th>\n",
       "      <td>65b36cee9cf222b8c3f7f1c5</td>\n",
       "      <td>Algeria</td>\n",
       "      <td>DZA</td>\n",
       "      <td>2020</td>\n",
       "      <td>172.504477</td>\n",
       "      <td>3.970031\\r</td>\n",
       "      <td>1.098537</td>\n",
       "      <td>54.540075</td>\n",
       "      <td>88.308310</td>\n",
       "      <td>11.028039</td>\n",
       "      <td>17.529515</td>\n",
       "      <td>NaN</td>\n",
       "    </tr>\n",
       "    <tr>\n",
       "      <th>1086</th>\n",
       "      <td>65b36cef9cf222b8c3f7f2d5</td>\n",
       "      <td>Andorra</td>\n",
       "      <td>AND</td>\n",
       "      <td>2020</td>\n",
       "      <td>0.448884</td>\n",
       "      <td>5.777148\\r</td>\n",
       "      <td>0.000000</td>\n",
       "      <td>0.448884</td>\n",
       "      <td>0.000000</td>\n",
       "      <td>0.000000</td>\n",
       "      <td>0</td>\n",
       "      <td>NaN</td>\n",
       "    </tr>\n",
       "    <tr>\n",
       "      <th>...</th>\n",
       "      <td>...</td>\n",
       "      <td>...</td>\n",
       "      <td>...</td>\n",
       "      <td>...</td>\n",
       "      <td>...</td>\n",
       "      <td>...</td>\n",
       "      <td>...</td>\n",
       "      <td>...</td>\n",
       "      <td>...</td>\n",
       "      <td>...</td>\n",
       "      <td>...</td>\n",
       "      <td>...</td>\n",
       "    </tr>\n",
       "    <tr>\n",
       "      <th>62286</th>\n",
       "      <td>65b36d189cf222b8c3f8e1e5</td>\n",
       "      <td>Zambia</td>\n",
       "      <td>ZMB</td>\n",
       "      <td>2020</td>\n",
       "      <td>7.280663</td>\n",
       "      <td>0.384656\\r</td>\n",
       "      <td>2.291770</td>\n",
       "      <td>4.027911</td>\n",
       "      <td>0.000000</td>\n",
       "      <td>0.960983</td>\n",
       "      <td>0</td>\n",
       "      <td>NaN</td>\n",
       "    </tr>\n",
       "    <tr>\n",
       "      <th>62558</th>\n",
       "      <td>65b36d189cf222b8c3f8e2f5</td>\n",
       "      <td>Zimbabwe</td>\n",
       "      <td>ZWE</td>\n",
       "      <td>2020</td>\n",
       "      <td>10.607897</td>\n",
       "      <td>0.676970\\r</td>\n",
       "      <td>6.721571</td>\n",
       "      <td>3.316712</td>\n",
       "      <td>0.000000</td>\n",
       "      <td>0.569615</td>\n",
       "      <td>0</td>\n",
       "      <td>NaN</td>\n",
       "    </tr>\n",
       "    <tr>\n",
       "      <th>62830</th>\n",
       "      <td>65b36d189cf222b8c3f8e405</td>\n",
       "      <td>International Transport</td>\n",
       "      <td>XIT</td>\n",
       "      <td>2020</td>\n",
       "      <td>938.508679</td>\n",
       "      <td>\\r</td>\n",
       "      <td>NaN</td>\n",
       "      <td>938.508679</td>\n",
       "      <td>NaN</td>\n",
       "      <td>NaN</td>\n",
       "      <td>NaN</td>\n",
       "      <td>NaN</td>\n",
       "    </tr>\n",
       "    <tr>\n",
       "      <th>63102</th>\n",
       "      <td>65b36d199cf222b8c3f8e515</td>\n",
       "      <td>Global</td>\n",
       "      <td>WLD</td>\n",
       "      <td>2020</td>\n",
       "      <td>35264.085734</td>\n",
       "      <td>4.497423\\r</td>\n",
       "      <td>14174.564010</td>\n",
       "      <td>11191.808551</td>\n",
       "      <td>7556.290283</td>\n",
       "      <td>1637.537532</td>\n",
       "      <td>407.583673</td>\n",
       "      <td>296.301685</td>\n",
       "    </tr>\n",
       "  </tbody>\n",
       "</table>\n",
       "<p>232 rows × 12 columns</p>\n",
       "</div>"
      ],
      "text/plain": [
       "                            _id                  Country ISO 3166-1 alpha-3  Year         Total  \\\n",
       "270    65b36cee9cf222b8c3f7efa5              Afghanistan                AFG  2020     11.681766   \n",
       "542    65b36cee9cf222b8c3f7f0b5                  Albania                ALB  2020      4.728559   \n",
       "814    65b36cee9cf222b8c3f7f1c5                  Algeria                DZA  2020    172.504477   \n",
       "1086   65b36cef9cf222b8c3f7f2d5                  Andorra                AND  2020      0.448884   \n",
       "...                         ...                      ...                ...   ...           ...   \n",
       "62286  65b36d189cf222b8c3f8e1e5                   Zambia                ZMB  2020      7.280663   \n",
       "62558  65b36d189cf222b8c3f8e2f5                 Zimbabwe                ZWE  2020     10.607897   \n",
       "62830  65b36d189cf222b8c3f8e405  International Transport                XIT  2020    938.508679   \n",
       "63102  65b36d199cf222b8c3f8e515                   Global                WLD  2020  35264.085734   \n",
       "\n",
       "       Per Capita          Coal           Oil          Gas       Cement     Flaring       Other  \n",
       "270    0.299746\\r      4.150072      7.219776     0.251244     0.060674           0         NaN  \n",
       "542    1.649392\\r      0.331439      3.217576     0.131178     1.048179    0.000188         NaN  \n",
       "814    3.970031\\r      1.098537     54.540075    88.308310    11.028039   17.529515         NaN  \n",
       "1086   5.777148\\r      0.000000      0.448884     0.000000     0.000000           0         NaN  \n",
       "...           ...           ...           ...          ...          ...         ...         ...  \n",
       "62286  0.384656\\r      2.291770      4.027911     0.000000     0.960983           0         NaN  \n",
       "62558  0.676970\\r      6.721571      3.316712     0.000000     0.569615           0         NaN  \n",
       "62830          \\r           NaN    938.508679          NaN          NaN         NaN         NaN  \n",
       "63102  4.497423\\r  14174.564010  11191.808551  7556.290283  1637.537532  407.583673  296.301685  \n",
       "\n",
       "[232 rows x 12 columns]"
      ]
     },
     "execution_count": 53,
     "metadata": {},
     "output_type": "execute_result"
    }
   ],
   "source": [
    "emissions[emissions.Year == 2020] #returns the actual records"
   ]
  },
  {
   "cell_type": "code",
   "execution_count": 49,
   "metadata": {
    "scrolled": true
   },
   "outputs": [
    {
     "data": {
      "text/html": [
       "<div>\n",
       "<style scoped>\n",
       "    .dataframe tbody tr th:only-of-type {\n",
       "        vertical-align: middle;\n",
       "    }\n",
       "\n",
       "    .dataframe tbody tr th {\n",
       "        vertical-align: top;\n",
       "    }\n",
       "\n",
       "    .dataframe thead th {\n",
       "        text-align: right;\n",
       "    }\n",
       "</style>\n",
       "<table border=\"1\" class=\"dataframe\">\n",
       "  <thead>\n",
       "    <tr style=\"text-align: right;\">\n",
       "      <th></th>\n",
       "      <th>_id</th>\n",
       "      <th>Country</th>\n",
       "      <th>ISO 3166-1 alpha-3</th>\n",
       "      <th>Year</th>\n",
       "      <th>Total</th>\n",
       "      <th>Per Capita</th>\n",
       "      <th>Coal</th>\n",
       "      <th>Oil</th>\n",
       "      <th>Gas</th>\n",
       "      <th>Cement</th>\n",
       "      <th>Flaring</th>\n",
       "      <th>Other</th>\n",
       "    </tr>\n",
       "  </thead>\n",
       "  <tbody>\n",
       "    <tr>\n",
       "      <th>3237</th>\n",
       "      <td>65b36cf19cf222b8c3f7fb3c</td>\n",
       "      <td>Australia</td>\n",
       "      <td>AUS</td>\n",
       "      <td>1995</td>\n",
       "      <td>305.002996</td>\n",
       "      <td>16.941788\\r</td>\n",
       "      <td>155.718942</td>\n",
       "      <td>96.126544</td>\n",
       "      <td>39.830983</td>\n",
       "      <td>3.357750</td>\n",
       "      <td>7.060714</td>\n",
       "      <td>2.908064</td>\n",
       "    </tr>\n",
       "    <tr>\n",
       "      <th>3238</th>\n",
       "      <td>65b36cf19cf222b8c3f7fb3d</td>\n",
       "      <td>Australia</td>\n",
       "      <td>AUS</td>\n",
       "      <td>1996</td>\n",
       "      <td>311.886129</td>\n",
       "      <td>17.125455\\r</td>\n",
       "      <td>160.375191</td>\n",
       "      <td>98.697016</td>\n",
       "      <td>39.765246</td>\n",
       "      <td>3.243616</td>\n",
       "      <td>6.761052</td>\n",
       "      <td>3.044008</td>\n",
       "    </tr>\n",
       "    <tr>\n",
       "      <th>3239</th>\n",
       "      <td>65b36cf19cf222b8c3f7fb3e</td>\n",
       "      <td>Australia</td>\n",
       "      <td>AUS</td>\n",
       "      <td>1997</td>\n",
       "      <td>320.282630</td>\n",
       "      <td>17.396973\\r</td>\n",
       "      <td>167.670194</td>\n",
       "      <td>98.388038</td>\n",
       "      <td>41.074314</td>\n",
       "      <td>3.184589</td>\n",
       "      <td>6.687345</td>\n",
       "      <td>3.278150</td>\n",
       "    </tr>\n",
       "    <tr>\n",
       "      <th>3240</th>\n",
       "      <td>65b36cf19cf222b8c3f7fb3f</td>\n",
       "      <td>Australia</td>\n",
       "      <td>AUS</td>\n",
       "      <td>1998</td>\n",
       "      <td>334.075978</td>\n",
       "      <td>17.959464\\r</td>\n",
       "      <td>177.596365</td>\n",
       "      <td>99.146315</td>\n",
       "      <td>43.488447</td>\n",
       "      <td>3.475413</td>\n",
       "      <td>6.901959</td>\n",
       "      <td>3.467480</td>\n",
       "    </tr>\n",
       "    <tr>\n",
       "      <th>...</th>\n",
       "      <td>...</td>\n",
       "      <td>...</td>\n",
       "      <td>...</td>\n",
       "      <td>...</td>\n",
       "      <td>...</td>\n",
       "      <td>...</td>\n",
       "      <td>...</td>\n",
       "      <td>...</td>\n",
       "      <td>...</td>\n",
       "      <td>...</td>\n",
       "      <td>...</td>\n",
       "      <td>...</td>\n",
       "    </tr>\n",
       "    <tr>\n",
       "      <th>63100</th>\n",
       "      <td>65b36d199cf222b8c3f8e513</td>\n",
       "      <td>Global</td>\n",
       "      <td>WLD</td>\n",
       "      <td>2018</td>\n",
       "      <td>36826.506600</td>\n",
       "      <td>4.792753\\r</td>\n",
       "      <td>14746.830688</td>\n",
       "      <td>12266.016285</td>\n",
       "      <td>7529.846784</td>\n",
       "      <td>1569.218392</td>\n",
       "      <td>412.115746</td>\n",
       "      <td>302.478706</td>\n",
       "    </tr>\n",
       "    <tr>\n",
       "      <th>63101</th>\n",
       "      <td>65b36d199cf222b8c3f8e514</td>\n",
       "      <td>Global</td>\n",
       "      <td>WLD</td>\n",
       "      <td>2019</td>\n",
       "      <td>37082.558969</td>\n",
       "      <td>4.775633\\r</td>\n",
       "      <td>14725.978025</td>\n",
       "      <td>12345.653374</td>\n",
       "      <td>7647.528220</td>\n",
       "      <td>1617.506786</td>\n",
       "      <td>439.253991</td>\n",
       "      <td>306.638573</td>\n",
       "    </tr>\n",
       "    <tr>\n",
       "      <th>63102</th>\n",
       "      <td>65b36d199cf222b8c3f8e515</td>\n",
       "      <td>Global</td>\n",
       "      <td>WLD</td>\n",
       "      <td>2020</td>\n",
       "      <td>35264.085734</td>\n",
       "      <td>4.497423\\r</td>\n",
       "      <td>14174.564010</td>\n",
       "      <td>11191.808551</td>\n",
       "      <td>7556.290283</td>\n",
       "      <td>1637.537532</td>\n",
       "      <td>407.583673</td>\n",
       "      <td>296.301685</td>\n",
       "    </tr>\n",
       "    <tr>\n",
       "      <th>63103</th>\n",
       "      <td>65b36d199cf222b8c3f8e516</td>\n",
       "      <td>Global</td>\n",
       "      <td>WLD</td>\n",
       "      <td>2021</td>\n",
       "      <td>37123.850352</td>\n",
       "      <td>4.693699\\r</td>\n",
       "      <td>14979.598083</td>\n",
       "      <td>11837.159116</td>\n",
       "      <td>7921.829472</td>\n",
       "      <td>1672.592372</td>\n",
       "      <td>416.525563</td>\n",
       "      <td>296.145746</td>\n",
       "    </tr>\n",
       "  </tbody>\n",
       "</table>\n",
       "<p>1374 rows × 12 columns</p>\n",
       "</div>"
      ],
      "text/plain": [
       "                            _id    Country ISO 3166-1 alpha-3  Year         Total   Per Capita  \\\n",
       "3237   65b36cf19cf222b8c3f7fb3c  Australia                AUS  1995    305.002996  16.941788\\r   \n",
       "3238   65b36cf19cf222b8c3f7fb3d  Australia                AUS  1996    311.886129  17.125455\\r   \n",
       "3239   65b36cf19cf222b8c3f7fb3e  Australia                AUS  1997    320.282630  17.396973\\r   \n",
       "3240   65b36cf19cf222b8c3f7fb3f  Australia                AUS  1998    334.075978  17.959464\\r   \n",
       "...                         ...        ...                ...   ...           ...          ...   \n",
       "63100  65b36d199cf222b8c3f8e513     Global                WLD  2018  36826.506600   4.792753\\r   \n",
       "63101  65b36d199cf222b8c3f8e514     Global                WLD  2019  37082.558969   4.775633\\r   \n",
       "63102  65b36d199cf222b8c3f8e515     Global                WLD  2020  35264.085734   4.497423\\r   \n",
       "63103  65b36d199cf222b8c3f8e516     Global                WLD  2021  37123.850352   4.693699\\r   \n",
       "\n",
       "               Coal           Oil          Gas       Cement     Flaring       Other  \n",
       "3237     155.718942     96.126544    39.830983     3.357750    7.060714    2.908064  \n",
       "3238     160.375191     98.697016    39.765246     3.243616    6.761052    3.044008  \n",
       "3239     167.670194     98.388038    41.074314     3.184589    6.687345    3.278150  \n",
       "3240     177.596365     99.146315    43.488447     3.475413    6.901959    3.467480  \n",
       "...             ...           ...          ...          ...         ...         ...  \n",
       "63100  14746.830688  12266.016285  7529.846784  1569.218392  412.115746  302.478706  \n",
       "63101  14725.978025  12345.653374  7647.528220  1617.506786  439.253991  306.638573  \n",
       "63102  14174.564010  11191.808551  7556.290283  1637.537532  407.583673  296.301685  \n",
       "63103  14979.598083  11837.159116  7921.829472  1672.592372  416.525563  296.145746  \n",
       "\n",
       "[1374 rows x 12 columns]"
      ]
     },
     "execution_count": 49,
     "metadata": {},
     "output_type": "execute_result"
    }
   ],
   "source": [
    "emissions[emissions.Total > 300] #returns actual records where total emissions are above 300"
   ]
  },
  {
   "cell_type": "code",
   "execution_count": 51,
   "metadata": {},
   "outputs": [
    {
     "data": {
      "text/plain": [
       "3037082.235283"
      ]
     },
     "execution_count": 51,
     "metadata": {},
     "output_type": "execute_result"
    }
   ],
   "source": [
    "emissions[emissions.Total > 300].sum(numeric_only=True).Total"
   ]
  },
  {
   "cell_type": "code",
   "execution_count": null,
   "metadata": {
    "slideshow": {
     "slide_type": "subslide"
    }
   },
   "outputs": [],
   "source": [
    "emissions.Country.str.contains('Afg')"
   ]
  },
  {
   "cell_type": "code",
   "execution_count": null,
   "metadata": {
    "slideshow": {
     "slide_type": "subslide"
    }
   },
   "outputs": [],
   "source": [
    "emissions[emissions.Country.str.contains('Afg')] #Sub-string matching"
   ]
  },
  {
   "cell_type": "code",
   "execution_count": null,
   "metadata": {
    "scrolled": true,
    "slideshow": {
     "slide_type": "fragment"
    }
   },
   "outputs": [],
   "source": [
    "max(emissions.Country.str.len()) #Length of longest Country name"
   ]
  },
  {
   "cell_type": "code",
   "execution_count": null,
   "metadata": {},
   "outputs": [],
   "source": [
    "min(emissions.Country.str.len()) #Length of shortest Country name"
   ]
  },
  {
   "cell_type": "code",
   "execution_count": null,
   "metadata": {
    "scrolled": true
   },
   "outputs": [],
   "source": [
    "emissions[(emissions.Country.isin(['Afghanistan', 'Pakistan', 'Albania'])) & (emissions.Year == '2020')] #AND condition"
   ]
  },
  {
   "cell_type": "code",
   "execution_count": null,
   "metadata": {},
   "outputs": [],
   "source": [
    "emissions.info()"
   ]
  },
  {
   "cell_type": "code",
   "execution_count": 52,
   "metadata": {},
   "outputs": [
    {
     "name": "stdout",
     "output_type": "stream",
     "text": [
      "<class 'pandas.core.frame.DataFrame'>\n",
      "RangeIndex: 63104 entries, 0 to 63103\n",
      "Data columns (total 12 columns):\n",
      " #   Column              Non-Null Count  Dtype  \n",
      "---  ------              --------------  -----  \n",
      " 0   _id                 63104 non-null  object \n",
      " 1   Country             63104 non-null  object \n",
      " 2   ISO 3166-1 alpha-3  61472 non-null  object \n",
      " 3   Year                63104 non-null  int64  \n",
      " 4   Total               62904 non-null  float64\n",
      " 5   Per Capita          63104 non-null  object \n",
      " 6   Coal                21744 non-null  float64\n",
      " 7   Oil                 21717 non-null  float64\n",
      " 8   Gas                 21618 non-null  float64\n",
      " 9   Cement              20814 non-null  float64\n",
      " 10  Flaring             21550 non-null  object \n",
      " 11  Other               1620 non-null   object \n",
      "dtypes: float64(5), int64(1), object(6)\n",
      "memory usage: 5.8+ MB\n"
     ]
    }
   ],
   "source": [
    "convert_dict = {'Coal': float,\n",
    "                'Oil': float,\n",
    "                'Gas': float,\n",
    "                'Cement': float\n",
    "                } #Define a conversion dictionary\n",
    " \n",
    "emissions = emissions.astype(convert_dict) #Apply the dictionary\n",
    "emissions.info()"
   ]
  },
  {
   "cell_type": "code",
   "execution_count": null,
   "metadata": {},
   "outputs": [],
   "source": [
    "grouped = emissions.groupby('Country') #Group by Country"
   ]
  },
  {
   "cell_type": "code",
   "execution_count": null,
   "metadata": {},
   "outputs": [],
   "source": [
    "grouped.count()"
   ]
  },
  {
   "cell_type": "code",
   "execution_count": null,
   "metadata": {},
   "outputs": [],
   "source": [
    "grouped.first()"
   ]
  },
  {
   "cell_type": "code",
   "execution_count": null,
   "metadata": {},
   "outputs": [],
   "source": [
    "grouped.last()"
   ]
  },
  {
   "cell_type": "code",
   "execution_count": null,
   "metadata": {},
   "outputs": [],
   "source": [
    "grouped.get_group('Yemen')"
   ]
  },
  {
   "cell_type": "code",
   "execution_count": null,
   "metadata": {
    "scrolled": false
   },
   "outputs": [],
   "source": [
    "grouped_filter = ['Coal', 'Oil', 'Gas', 'Cement'] #Define a filter to get only the needed fields\n",
    "grouped_new = grouped[grouped_filter] #Get the filtered group results in a new data frame\n",
    "grouped_new = grouped_new.sum() #Sum all the values by Country"
   ]
  },
  {
   "cell_type": "code",
   "execution_count": null,
   "metadata": {},
   "outputs": [],
   "source": [
    "grouped_new = emissions.groupby('Country').sum(numeric_only=True)"
   ]
  },
  {
   "cell_type": "code",
   "execution_count": null,
   "metadata": {},
   "outputs": [],
   "source": [
    "grouped_new"
   ]
  },
  {
   "cell_type": "code",
   "execution_count": null,
   "metadata": {},
   "outputs": [],
   "source": [
    "grouped_plot = grouped_new[grouped_new.index.isin(['Angola','United Arab Emirates','Viet Nam'])] #Filter the dataframe for specific countries"
   ]
  },
  {
   "cell_type": "code",
   "execution_count": null,
   "metadata": {},
   "outputs": [],
   "source": [
    "grouped_plot.plot.bar() #Plot the data"
   ]
  },
  {
   "cell_type": "code",
   "execution_count": null,
   "metadata": {},
   "outputs": [],
   "source": [
    "grouped_new.sort_values(by=['Oil'], ascending=False) #Ascending sort by Oil "
   ]
  }
 ],
 "metadata": {
  "anaconda-cloud": {
   "attach-environment": false,
   "environment": null,
   "summary": "Exploring basic Pandas operations",
   "thumbnail": "data:image/png;base64,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",
   "url": "https://anaconda.org/ijstokes/3-data-wrangling-with-pandas"
  },
  "kernelspec": {
   "display_name": "Python 3 (ipykernel)",
   "language": "python",
   "name": "python3"
  },
  "language_info": {
   "codemirror_mode": {
    "name": "ipython",
    "version": 3
   },
   "file_extension": ".py",
   "mimetype": "text/x-python",
   "name": "python",
   "nbconvert_exporter": "python",
   "pygments_lexer": "ipython3",
   "version": "3.9.13"
  }
 },
 "nbformat": 4,
 "nbformat_minor": 1
}
